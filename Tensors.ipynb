{
  "nbformat": 4,
  "nbformat_minor": 0,
  "metadata": {
    "colab": {
      "name": "Untitled49.ipynb",
      "provenance": [],
      "authorship_tag": "ABX9TyOb4uK+gAVd4HVfX6CTzgVQ",
      "include_colab_link": true
    },
    "kernelspec": {
      "name": "python3",
      "display_name": "Python 3"
    }
  },
  "cells": [
    {
      "cell_type": "markdown",
      "metadata": {
        "id": "view-in-github",
        "colab_type": "text"
      },
      "source": [
        "<a href=\"https://colab.research.google.com/github/pawel0508/NeuralNetworks/blob/main/Tensors.ipynb\" target=\"_parent\"><img src=\"https://colab.research.google.com/assets/colab-badge.svg\" alt=\"Open In Colab\"/></a>"
      ]
    },
    {
      "cell_type": "markdown",
      "metadata": {
        "id": "PFeJJbyxcjsO"
      },
      "source": [
        "### Tensory"
      ]
    },
    {
      "cell_type": "code",
      "metadata": {
        "id": "n-tvsSNiZtc0"
      },
      "source": [
        "import numpy as np"
      ],
      "execution_count": 1,
      "outputs": []
    },
    {
      "cell_type": "code",
      "metadata": {
        "id": "fmAacvZ0coJN",
        "outputId": "cf6d7824-b295-4239-ba4f-a8228c85a78a",
        "colab": {
          "base_uri": "https://localhost:8080/",
          "height": 34
        }
      },
      "source": [
        "scalar = 3\n",
        "print(type(scalar))"
      ],
      "execution_count": 2,
      "outputs": [
        {
          "output_type": "stream",
          "text": [
            "<class 'int'>\n"
          ],
          "name": "stdout"
        }
      ]
    },
    {
      "cell_type": "code",
      "metadata": {
        "id": "RqlhgK2dcsDW",
        "outputId": "9b7cb92e-e876-416b-8fe2-74fcc4766e9d",
        "colab": {
          "base_uri": "https://localhost:8080/",
          "height": 34
        }
      },
      "source": [
        "scalar = 3.\n",
        "print(type(scalar))"
      ],
      "execution_count": 3,
      "outputs": [
        {
          "output_type": "stream",
          "text": [
            "<class 'float'>\n"
          ],
          "name": "stdout"
        }
      ]
    },
    {
      "cell_type": "code",
      "metadata": {
        "id": "eG7vFI5PcwE6",
        "outputId": "b8c97106-f4d4-4321-e7d7-5027d8ef14cc",
        "colab": {
          "base_uri": "https://localhost:8080/",
          "height": 84
        }
      },
      "source": [
        "vector = np.array([1,2,4,-5])\n",
        "print(f'Rozmiar wektora: {vector.shape}')\n",
        "print(f'Rząd: {vector.ndim}')\n",
        "print(f'Typ danych wektora: {vector.dtype}')\n",
        "print(f'Długość wektora: {len(vector)}')"
      ],
      "execution_count": 10,
      "outputs": [
        {
          "output_type": "stream",
          "text": [
            "Rozmiar wektora: (4,)\n",
            "Rząd: 1\n",
            "Typ danych wektora: int64\n",
            "Długość wektora: 4\n"
          ],
          "name": "stdout"
        }
      ]
    },
    {
      "cell_type": "code",
      "metadata": {
        "id": "JT5IGjJJc4B3",
        "outputId": "6210da7a-2d29-43f2-bcc0-559f13a2b31b",
        "colab": {
          "base_uri": "https://localhost:8080/",
          "height": 84
        }
      },
      "source": [
        "macierz = np.array([\n",
        "    [1,2,4,-5],\n",
        "    [4,5,7,3]\n",
        "])\n",
        "print(f'Rozmiar macierzy: {macierz.shape}')\n",
        "print(f'Rząd: {macierz.ndim}')\n",
        "print(f'Typ danych macierzy: {macierz.dtype}')\n",
        "print(f'Długość macierzy: {len(macierz)}')"
      ],
      "execution_count": 12,
      "outputs": [
        {
          "output_type": "stream",
          "text": [
            "Rozmiar macierzy: (2, 4)\n",
            "Rząd: 2\n",
            "Typ danych macierzy: int64\n",
            "Długość macierzy: 2\n"
          ],
          "name": "stdout"
        }
      ]
    },
    {
      "cell_type": "code",
      "metadata": {
        "id": "A9GOP0LbdgnG",
        "outputId": "5bf1c943-8b8f-4ddf-99d3-261ef5e5db0c",
        "colab": {
          "base_uri": "https://localhost:8080/",
          "height": 84
        }
      },
      "source": [
        "macierz = np.array([\n",
        "    [1,2,4,-5],\n",
        "    [4,5,7,3],\n",
        "    [4,4,7,8]\n",
        "])\n",
        "print(f'Rozmiar macierzy: {macierz.shape}')\n",
        "print(f'Rząd: {macierz.ndim}')\n",
        "print(f'Typ danych macierzy: {macierz.dtype}')\n",
        "print(f'Długość macierzy: {len(macierz)}')"
      ],
      "execution_count": 13,
      "outputs": [
        {
          "output_type": "stream",
          "text": [
            "Rozmiar macierzy: (3, 4)\n",
            "Rząd: 2\n",
            "Typ danych macierzy: int64\n",
            "Długość macierzy: 3\n"
          ],
          "name": "stdout"
        }
      ]
    },
    {
      "cell_type": "code",
      "metadata": {
        "id": "p3csBLi0d4Zb",
        "outputId": "1b383b78-3366-4b9f-981d-bc12d50ea039",
        "colab": {
          "base_uri": "https://localhost:8080/",
          "height": 84
        }
      },
      "source": [
        "tensor = np.array([\n",
        "                   [1,2,3,4],\n",
        "                   [5,6,7,8]\n",
        "])\n",
        "print(f'Rozmiar tensora: {tensor.shape}')\n",
        "print(f'Rząd: {tensor.ndim}')\n",
        "print(f'Typ danych tensora: {tensor.dtype}')\n",
        "print(f'Długość tensora: {len(tensor)}')"
      ],
      "execution_count": 16,
      "outputs": [
        {
          "output_type": "stream",
          "text": [
            "Rozmiar tensora: (2, 4)\n",
            "Rząd: 2\n",
            "Typ danych tensora: int64\n",
            "Długość tensora: 2\n"
          ],
          "name": "stdout"
        }
      ]
    },
    {
      "cell_type": "code",
      "metadata": {
        "id": "1Mn7pde-d-Br",
        "outputId": "30dd61ae-c60e-42fc-f74a-6c836c796c33",
        "colab": {
          "base_uri": "https://localhost:8080/",
          "height": 84
        }
      },
      "source": [
        "tensor = np.array([\n",
        "                  [[1,2,3,4],\n",
        "                   [5,6,7,8]],\n",
        "                   \n",
        "                   [[1,2,3,4],\n",
        "                    [5,6,7,8]]\n",
        "])\n",
        "print(f'Rozmiar tensora: {tensor.shape}')\n",
        "print(f'Rząd: {tensor.ndim}')\n",
        "print(f'Typ danych tensora: {tensor.dtype}')\n",
        "print(f'Długość tensora: {len(tensor)}')"
      ],
      "execution_count": 17,
      "outputs": [
        {
          "output_type": "stream",
          "text": [
            "Rozmiar tensora: (2, 2, 4)\n",
            "Rząd: 3\n",
            "Typ danych tensora: int64\n",
            "Długość tensora: 2\n"
          ],
          "name": "stdout"
        }
      ]
    },
    {
      "cell_type": "code",
      "metadata": {
        "id": "JYnKRbbienOf",
        "outputId": "efed149b-39ac-4787-8c31-d28e7aad32c8",
        "colab": {
          "base_uri": "https://localhost:8080/",
          "height": 84
        }
      },
      "source": [
        "tensor = np.array([\n",
        "                  [[1,2,3,4],\n",
        "                   [5,6,7,8]],\n",
        "                   \n",
        "                   [[1,2,3,4],\n",
        "                    [5,6,7,8]],\n",
        "                   \n",
        "                   [[1,2,3,4],\n",
        "                    [5,6,7,8]]\n",
        "])\n",
        "print(f'Rozmiar tensora: {tensor.shape}')\n",
        "print(f'Rząd: {tensor.ndim}')\n",
        "print(f'Typ danych tensora: {tensor.dtype}')\n",
        "print(f'Długość tensora: {len(tensor)}')"
      ],
      "execution_count": 18,
      "outputs": [
        {
          "output_type": "stream",
          "text": [
            "Rozmiar tensora: (3, 2, 4)\n",
            "Rząd: 3\n",
            "Typ danych tensora: int64\n",
            "Długość tensora: 3\n"
          ],
          "name": "stdout"
        }
      ]
    },
    {
      "cell_type": "code",
      "metadata": {
        "id": "lwjIki8feuSY",
        "outputId": "563d60d6-7042-4ea4-d009-38ee5d3cf998",
        "colab": {
          "base_uri": "https://localhost:8080/",
          "height": 420
        }
      },
      "source": [
        "tensor = np.array([\n",
        "    [[1, 2, 3, 4],\n",
        "     [4, 5, 6, 4],\n",
        "     [4, 2, 5, 2]],\n",
        "    [[7, 8, 9, 8],\n",
        "     [3, 7, 3, 9],\n",
        "     [5, 2, 4, 3]],\n",
        "    [[2, 3, 5, 4],\n",
        "     [7, 2, 5, 1],\n",
        "     [8, 2, 7, 2]],\n",
        "    [[2, 3, 5, 7],\n",
        "     [7, 2, 5, 9],\n",
        "     [8, 2, 7, 0]],\n",
        "    [[2, 3, 5, 7],\n",
        "     [7, 2, 5, 9],\n",
        "     [8, 2, 7, 0]]\n",
        "])\n",
        "\n",
        "print(tensor)\n",
        "print(type(tensor))\n",
        "print(f'Rozmiar macierzy: {tensor.shape}')\n",
        "print(f'Typ danych macierzy: {tensor.dtype}')\n",
        "print(f'Rząd: {tensor.ndim}')\n",
        "print(f'Długosc: {len(tensor)}')"
      ],
      "execution_count": 22,
      "outputs": [
        {
          "output_type": "stream",
          "text": [
            "[[[1 2 3 4]\n",
            "  [4 5 6 4]\n",
            "  [4 2 5 2]]\n",
            "\n",
            " [[7 8 9 8]\n",
            "  [3 7 3 9]\n",
            "  [5 2 4 3]]\n",
            "\n",
            " [[2 3 5 4]\n",
            "  [7 2 5 1]\n",
            "  [8 2 7 2]]\n",
            "\n",
            " [[2 3 5 7]\n",
            "  [7 2 5 9]\n",
            "  [8 2 7 0]]\n",
            "\n",
            " [[2 3 5 7]\n",
            "  [7 2 5 9]\n",
            "  [8 2 7 0]]]\n",
            "<class 'numpy.ndarray'>\n",
            "Rozmiar macierzy: (5, 3, 4)\n",
            "Typ danych macierzy: int64\n",
            "Rząd: 3\n",
            "Długosc: 5\n"
          ],
          "name": "stdout"
        }
      ]
    },
    {
      "cell_type": "code",
      "metadata": {
        "id": "YHzZ36aXe1Nc"
      },
      "source": [
        ""
      ],
      "execution_count": null,
      "outputs": []
    }
  ]
}