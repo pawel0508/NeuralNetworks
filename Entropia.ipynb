{
  "nbformat": 4,
  "nbformat_minor": 0,
  "metadata": {
    "colab": {
      "name": "Untitled51.ipynb",
      "provenance": [],
      "authorship_tag": "ABX9TyOgSWVhyBk423zIb+oZ0AKp",
      "include_colab_link": true
    },
    "kernelspec": {
      "name": "python3",
      "display_name": "Python 3"
    }
  },
  "cells": [
    {
      "cell_type": "markdown",
      "metadata": {
        "id": "view-in-github",
        "colab_type": "text"
      },
      "source": [
        "<a href=\"https://colab.research.google.com/github/pawel0508/NeuralNetworks/blob/main/Entropia.ipynb\" target=\"_parent\"><img src=\"https://colab.research.google.com/assets/colab-badge.svg\" alt=\"Open In Colab\"/></a>"
      ]
    },
    {
      "cell_type": "code",
      "metadata": {
        "id": "VZ5dH5SQyrm7"
      },
      "source": [
        "import numpy as np\n"
      ],
      "execution_count": 1,
      "outputs": []
    },
    {
      "cell_type": "code",
      "metadata": {
        "id": "Xk0fBJxK0QEa"
      },
      "source": [
        "np.set_printoptions(precision = 6, suppress = True)\n"
      ],
      "execution_count": 2,
      "outputs": []
    },
    {
      "cell_type": "markdown",
      "metadata": {
        "id": "g-IMFBTq9_NW"
      },
      "source": [
        "Entropia rozkładu prawdopodobienstwa"
      ]
    },
    {
      "cell_type": "code",
      "metadata": {
        "id": "CuWKsgFK0XqT"
      },
      "source": [
        "def entropy(labels, base = None):\n",
        "  if len(labels) <= 1:\n",
        "    return 0\n",
        "  \n",
        "  from math import log, e\n",
        "  n_labels = len(labels)\n",
        "  value, counts = np.unique(labels, return_counts=True)\n",
        "  probs = counts/n_labels\n",
        "  n_classes = np.count_nonzero(probs)\n",
        "\n",
        "  if n_classes <= 1:\n",
        "    return 0\n",
        "  ent = 0.\n",
        "\n",
        "  base = e if base is None else base\n",
        "\n",
        "  for i in probs:\n",
        "    ent -= i * log(i, base)\n",
        "  return ent\n",
        "\n",
        "\n",
        "\n"
      ],
      "execution_count": 3,
      "outputs": []
    },
    {
      "cell_type": "code",
      "metadata": {
        "id": "0Rx1q6et2tCt",
        "outputId": "6ef50e24-5eef-4ed6-b95b-6e1c26b94332",
        "colab": {
          "base_uri": "https://localhost:8080/",
          "height": 34
        }
      },
      "source": [
        "\n",
        "labels = [3, 2, 3, 2, 3, 3, 3]\n",
        "entropy(labels)"
      ],
      "execution_count": 11,
      "outputs": [
        {
          "output_type": "execute_result",
          "data": {
            "text/plain": [
              "0.5982695885852573"
            ]
          },
          "metadata": {
            "tags": []
          },
          "execution_count": 11
        }
      ]
    },
    {
      "cell_type": "code",
      "metadata": {
        "id": "zSUS0-412vRk",
        "outputId": "7a0da5ce-a3d8-4a74-bd04-53d006f1b10e",
        "colab": {
          "base_uri": "https://localhost:8080/",
          "height": 34
        }
      },
      "source": [
        "np.unique(labels, return_counts=True)"
      ],
      "execution_count": 12,
      "outputs": [
        {
          "output_type": "execute_result",
          "data": {
            "text/plain": [
              "(array([2, 3]), array([2, 5]))"
            ]
          },
          "metadata": {
            "tags": []
          },
          "execution_count": 12
        }
      ]
    },
    {
      "cell_type": "code",
      "metadata": {
        "id": "sNMCzbES25aL"
      },
      "source": [
        "value, counts = np.unique(labels, return_counts=True)"
      ],
      "execution_count": 13,
      "outputs": []
    },
    {
      "cell_type": "code",
      "metadata": {
        "id": "Olz7ZCiL3Dkq",
        "outputId": "14428b63-7b3f-4513-c200-4492d719bd7a",
        "colab": {
          "base_uri": "https://localhost:8080/",
          "height": 34
        }
      },
      "source": [
        "counts/len(labels)"
      ],
      "execution_count": 14,
      "outputs": [
        {
          "output_type": "execute_result",
          "data": {
            "text/plain": [
              "array([0.285714, 0.714286])"
            ]
          },
          "metadata": {
            "tags": []
          },
          "execution_count": 14
        }
      ]
    },
    {
      "cell_type": "markdown",
      "metadata": {
        "id": "7csSfp7k-DmC"
      },
      "source": [
        "Binarna entropia krzyżowa"
      ]
    },
    {
      "cell_type": "code",
      "metadata": {
        "id": "3VNX4dFQ3EUW",
        "outputId": "ab54019b-ea82-4039-c850-555de4cc7616",
        "colab": {
          "base_uri": "https://localhost:8080/",
          "height": 34
        }
      },
      "source": [
        "from tensorflow.keras.losses import binary_crossentropy\n",
        "\n",
        "y_true = np.array([1, 0, 1, 1, 0, 1], dtype='float')\n",
        "y_pred = np.array([0, 0, 1, 1, 0, 1], dtype='float')\n",
        "\n",
        "binary_crossentropy(y_true, y_pred)"
      ],
      "execution_count": 15,
      "outputs": [
        {
          "output_type": "execute_result",
          "data": {
            "text/plain": [
              "<tf.Tensor: shape=(), dtype=float64, numpy=2.5708247450663957>"
            ]
          },
          "metadata": {
            "tags": []
          },
          "execution_count": 15
        }
      ]
    },
    {
      "cell_type": "markdown",
      "metadata": {
        "id": "s3sDaIbS-Xbh"
      },
      "source": [
        "Entropia kategoryczna - Categorical crossentropy\n"
      ]
    },
    {
      "cell_type": "code",
      "metadata": {
        "id": "-x9MY-Rt-R_9",
        "outputId": "dfe86f1a-12f7-49d4-8c84-851d183b4908",
        "colab": {
          "base_uri": "https://localhost:8080/",
          "height": 34
        }
      },
      "source": [
        "from tensorflow.keras.losses import categorical_crossentropy\n",
        "\n",
        "y_true = np.array([1, 0, 1, 1, 2, 0, 1, 1, 2], dtype='float')\n",
        "y_pred = np.array([0, 0, 1, 1, 2, 0, 1, 2, 2], dtype='float')\n",
        "\n",
        "categorical_crossentropy(y_true, y_pred)"
      ],
      "execution_count": 16,
      "outputs": [
        {
          "output_type": "execute_result",
          "data": {
            "text/plain": [
              "<tf.Tensor: shape=(), dtype=float64, numpy=30.23015636684835>"
            ]
          },
          "metadata": {
            "tags": []
          },
          "execution_count": 16
        }
      ]
    },
    {
      "cell_type": "code",
      "metadata": {
        "id": "36Q7j1EU-joe"
      },
      "source": [
        ""
      ],
      "execution_count": null,
      "outputs": []
    }
  ]
}