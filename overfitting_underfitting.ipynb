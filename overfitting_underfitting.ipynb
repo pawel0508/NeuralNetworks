{
  "nbformat": 4,
  "nbformat_minor": 0,
  "metadata": {
    "colab": {
      "name": "Untitled60.ipynb",
      "provenance": [],
      "authorship_tag": "ABX9TyMiPJgu7+tmahQViNO/56Nd",
      "include_colab_link": true
    },
    "kernelspec": {
      "name": "python3",
      "display_name": "Python 3"
    }
  },
  "cells": [
    {
      "cell_type": "markdown",
      "metadata": {
        "id": "view-in-github",
        "colab_type": "text"
      },
      "source": [
        "<a href=\"https://colab.research.google.com/github/pawel0508/NeuralNetworks/blob/main/overfitting_underfitting.ipynb\" target=\"_parent\"><img src=\"https://colab.research.google.com/assets/colab-badge.svg\" alt=\"Open In Colab\"/></a>"
      ]
    },
    {
      "cell_type": "markdown",
      "metadata": {
        "id": "5Kamzrv3FcJh"
      },
      "source": [
        "### **Główne problemy uczenia maszynowego: overfitting and underfitting**."
      ]
    },
    {
      "cell_type": "code",
      "metadata": {
        "id": "6WtOXa-lFTrk",
        "outputId": "63b5e69b-e197-4b4e-c55a-18344738e48e",
        "colab": {
          "base_uri": "https://localhost:8080/",
          "height": 35
        }
      },
      "source": [
        "import numpy as np\n",
        "import pandas as pd\n",
        "import seaborn as sns\n",
        "import matplotlib.pyplot as plt\n",
        "import pickle \n",
        "\n",
        "import tensorflow as tf\n",
        "from tensorflow.keras.datasets import imdb\n",
        "from tensorflow.keras.datasets.imdb import get_word_index\n",
        "from tensorflow.keras.utils import get_file\n",
        "from tensorflow.keras.models import Sequential\n",
        "from tensorflow.keras.layers import Dense\n",
        "\n",
        "sns.set()\n",
        "tf.__version__"
      ],
      "execution_count": 35,
      "outputs": [
        {
          "output_type": "execute_result",
          "data": {
            "application/vnd.google.colaboratory.intrinsic+json": {
              "type": "string"
            },
            "text/plain": [
              "'2.3.0'"
            ]
          },
          "metadata": {
            "tags": []
          },
          "execution_count": 35
        }
      ]
    },
    {
      "cell_type": "markdown",
      "metadata": {
        "id": "RqyAbBO7Gabv"
      },
      "source": [
        "### **Załadowanie i przygotowanie danych**.\n"
      ]
    },
    {
      "cell_type": "code",
      "metadata": {
        "id": "MDa10MfDGTbR",
        "outputId": "d960aae3-954c-413d-d516-dd2008140aef",
        "colab": {
          "base_uri": "https://localhost:8080/",
          "height": 84
        }
      },
      "source": [
        "NUM_WORDS = 10000\n",
        "INDEX_FROM = 3\n",
        "\n",
        "(train_data, train_labels), (test_data, test_labels) = imdb.load_data(num_words = NUM_WORDS, index_from = INDEX_FROM)\n",
        "\n",
        "print(f'train data shape: {train_data.shape}')\n",
        "print(f'train labels: {train_labels.shape}')\n",
        "print(f'test data shape: {test_data.shape}')\n",
        "print(f'test labels: {test_labels.shape}')"
      ],
      "execution_count": 36,
      "outputs": [
        {
          "output_type": "stream",
          "text": [
            "train data shape: (25000,)\n",
            "train labels: (25000,)\n",
            "test data shape: (25000,)\n",
            "test labels: (25000,)\n"
          ],
          "name": "stdout"
        }
      ]
    },
    {
      "cell_type": "code",
      "metadata": {
        "id": "JVdhICLiHIqC",
        "outputId": "7eb9ca93-dc27-45d6-d5ab-8196cdb09f9e",
        "colab": {
          "base_uri": "https://localhost:8080/",
          "height": 54
        }
      },
      "source": [
        "print(train_data[0])"
      ],
      "execution_count": 37,
      "outputs": [
        {
          "output_type": "stream",
          "text": [
            "[1, 14, 22, 16, 43, 530, 973, 1622, 1385, 65, 458, 4468, 66, 3941, 4, 173, 36, 256, 5, 25, 100, 43, 838, 112, 50, 670, 2, 9, 35, 480, 284, 5, 150, 4, 172, 112, 167, 2, 336, 385, 39, 4, 172, 4536, 1111, 17, 546, 38, 13, 447, 4, 192, 50, 16, 6, 147, 2025, 19, 14, 22, 4, 1920, 4613, 469, 4, 22, 71, 87, 12, 16, 43, 530, 38, 76, 15, 13, 1247, 4, 22, 17, 515, 17, 12, 16, 626, 18, 2, 5, 62, 386, 12, 8, 316, 8, 106, 5, 4, 2223, 5244, 16, 480, 66, 3785, 33, 4, 130, 12, 16, 38, 619, 5, 25, 124, 51, 36, 135, 48, 25, 1415, 33, 6, 22, 12, 215, 28, 77, 52, 5, 14, 407, 16, 82, 2, 8, 4, 107, 117, 5952, 15, 256, 4, 2, 7, 3766, 5, 723, 36, 71, 43, 530, 476, 26, 400, 317, 46, 7, 4, 2, 1029, 13, 104, 88, 4, 381, 15, 297, 98, 32, 2071, 56, 26, 141, 6, 194, 7486, 18, 4, 226, 22, 21, 134, 476, 26, 480, 5, 144, 30, 5535, 18, 51, 36, 28, 224, 92, 25, 104, 4, 226, 65, 16, 38, 1334, 88, 12, 16, 283, 5, 16, 4472, 113, 103, 32, 15, 16, 5345, 19, 178, 32]\n"
          ],
          "name": "stdout"
        }
      ]
    },
    {
      "cell_type": "code",
      "metadata": {
        "id": "5pf74hbsHRC3"
      },
      "source": [
        "word_to_idx = get_word_index()"
      ],
      "execution_count": 38,
      "outputs": []
    },
    {
      "cell_type": "code",
      "metadata": {
        "id": "386TWyijHYZx",
        "outputId": "56237539-a179-492a-a2ee-8eedf2790b86",
        "colab": {
          "base_uri": "https://localhost:8080/",
          "height": 54
        }
      },
      "source": [
        "word_to_idx = {k:(v + INDEX_FROM) for k, v in word_to_idx.items()}\n",
        "word_to_idx['<PAD>'] = 0\n",
        "word_to_idx['<START>'] = 1\n",
        "word_to_idx['<UNK>'] = 2\n",
        "word_to_idx['<UNUSED>'] = 3\n",
        "idx_to_word = {v: k for k, v in word_to_idx.items()}\n",
        "list(idx_to_word.items())[:10]\n",
        "print(' '.join(idx_to_word[idx] for idx in train_data[0]))"
      ],
      "execution_count": 39,
      "outputs": [
        {
          "output_type": "stream",
          "text": [
            "<START> this film was just brilliant casting location scenery story direction everyone's really suited the part they played and you could just imagine being there robert <UNK> is an amazing actor and now the same being director <UNK> father came from the same scottish island as myself so i loved the fact there was a real connection with this film the witty remarks throughout the film were great it was just brilliant so much that i bought the film as soon as it was released for <UNK> and would recommend it to everyone to watch and the fly fishing was amazing really cried at the end it was so sad and you know what they say if you cry at a film it must have been good and this definitely was also <UNK> to the two little boy's that played the <UNK> of norman and paul they were just brilliant children are often left out of the <UNK> list i think because the stars that play them all grown up are such a big profile for the whole film but these children are amazing and should be praised for what they have done don't you think the whole story was so lovely because it was true and was someone's life after all that was shared with us all\n"
          ],
          "name": "stdout"
        }
      ]
    },
    {
      "cell_type": "code",
      "metadata": {
        "id": "M22mVooDHanH",
        "outputId": "044b579a-0474-45fc-de09-f28c5daed443",
        "colab": {
          "base_uri": "https://localhost:8080/",
          "height": 346
        }
      },
      "source": [
        "def multi_hot_sequences(sequences, dimension):\n",
        "  results = np.zeros((len(sequences), dimension))\n",
        "  for i, word_indices in enumerate(sequences):\n",
        "    results[i, word_indices] = 1\n",
        "  return results\n",
        "\n",
        "train_data = multi_hot_sequences(train_data, dimension=NUM_WORDS)\n",
        "test_data = multi_hot_sequences(test_data, dimension=NUM_WORDS)\n",
        "train_data.shape\n"
      ],
      "execution_count": 41,
      "outputs": [
        {
          "output_type": "error",
          "ename": "IndexError",
          "evalue": "ignored",
          "traceback": [
            "\u001b[0;31m---------------------------------------------------------------------------\u001b[0m",
            "\u001b[0;31mIndexError\u001b[0m                                Traceback (most recent call last)",
            "\u001b[0;32m<ipython-input-41-034904041cf7>\u001b[0m in \u001b[0;36m<module>\u001b[0;34m()\u001b[0m\n\u001b[1;32m      5\u001b[0m   \u001b[0;32mreturn\u001b[0m \u001b[0mresults\u001b[0m\u001b[0;34m\u001b[0m\u001b[0;34m\u001b[0m\u001b[0m\n\u001b[1;32m      6\u001b[0m \u001b[0;34m\u001b[0m\u001b[0m\n\u001b[0;32m----> 7\u001b[0;31m \u001b[0mtrain_data\u001b[0m \u001b[0;34m=\u001b[0m \u001b[0mmulti_hot_sequences\u001b[0m\u001b[0;34m(\u001b[0m\u001b[0mtrain_data\u001b[0m\u001b[0;34m,\u001b[0m \u001b[0mdimension\u001b[0m\u001b[0;34m=\u001b[0m\u001b[0mNUM_WORDS\u001b[0m\u001b[0;34m)\u001b[0m\u001b[0;34m\u001b[0m\u001b[0;34m\u001b[0m\u001b[0m\n\u001b[0m\u001b[1;32m      8\u001b[0m \u001b[0mtest_data\u001b[0m \u001b[0;34m=\u001b[0m \u001b[0mmulti_hot_sequences\u001b[0m\u001b[0;34m(\u001b[0m\u001b[0mtest_data\u001b[0m\u001b[0;34m,\u001b[0m \u001b[0mdimension\u001b[0m\u001b[0;34m=\u001b[0m\u001b[0mNUM_WORDS\u001b[0m\u001b[0;34m)\u001b[0m\u001b[0;34m\u001b[0m\u001b[0;34m\u001b[0m\u001b[0m\n\u001b[1;32m      9\u001b[0m \u001b[0mtrain_data\u001b[0m\u001b[0;34m.\u001b[0m\u001b[0mshape\u001b[0m\u001b[0;34m\u001b[0m\u001b[0;34m\u001b[0m\u001b[0m\n",
            "\u001b[0;32m<ipython-input-41-034904041cf7>\u001b[0m in \u001b[0;36mmulti_hot_sequences\u001b[0;34m(sequences, dimension)\u001b[0m\n\u001b[1;32m      2\u001b[0m   \u001b[0mresults\u001b[0m \u001b[0;34m=\u001b[0m \u001b[0mnp\u001b[0m\u001b[0;34m.\u001b[0m\u001b[0mzeros\u001b[0m\u001b[0;34m(\u001b[0m\u001b[0;34m(\u001b[0m\u001b[0mlen\u001b[0m\u001b[0;34m(\u001b[0m\u001b[0msequences\u001b[0m\u001b[0;34m)\u001b[0m\u001b[0;34m,\u001b[0m \u001b[0mdimension\u001b[0m\u001b[0;34m)\u001b[0m\u001b[0;34m)\u001b[0m\u001b[0;34m\u001b[0m\u001b[0;34m\u001b[0m\u001b[0m\n\u001b[1;32m      3\u001b[0m   \u001b[0;32mfor\u001b[0m \u001b[0mi\u001b[0m\u001b[0;34m,\u001b[0m \u001b[0mword_indices\u001b[0m \u001b[0;32min\u001b[0m \u001b[0menumerate\u001b[0m\u001b[0;34m(\u001b[0m\u001b[0msequences\u001b[0m\u001b[0;34m)\u001b[0m\u001b[0;34m:\u001b[0m\u001b[0;34m\u001b[0m\u001b[0;34m\u001b[0m\u001b[0m\n\u001b[0;32m----> 4\u001b[0;31m     \u001b[0mresults\u001b[0m\u001b[0;34m[\u001b[0m\u001b[0mi\u001b[0m\u001b[0;34m,\u001b[0m \u001b[0mword_indices\u001b[0m\u001b[0;34m]\u001b[0m \u001b[0;34m=\u001b[0m \u001b[0;36m1\u001b[0m\u001b[0;34m\u001b[0m\u001b[0;34m\u001b[0m\u001b[0m\n\u001b[0m\u001b[1;32m      5\u001b[0m   \u001b[0;32mreturn\u001b[0m \u001b[0mresults\u001b[0m\u001b[0;34m\u001b[0m\u001b[0;34m\u001b[0m\u001b[0m\n\u001b[1;32m      6\u001b[0m \u001b[0;34m\u001b[0m\u001b[0m\n",
            "\u001b[0;31mIndexError\u001b[0m: arrays used as indices must be of integer (or boolean) type"
          ]
        }
      ]
    },
    {
      "cell_type": "code",
      "metadata": {
        "id": "IsbzcavvSi6E"
      },
      "source": [
        "test_data.shape"
      ],
      "execution_count": null,
      "outputs": []
    },
    {
      "cell_type": "markdown",
      "metadata": {
        "id": "ymgGB52YS0va"
      },
      "source": [
        "### Budowa modelu"
      ]
    },
    {
      "cell_type": "code",
      "metadata": {
        "id": "NmtLsQ5-SqKV",
        "outputId": "92db881a-6134-4667-f26f-d152f95fa655",
        "colab": {
          "base_uri": "https://localhost:8080/",
          "height": 252
        }
      },
      "source": [
        "baseline_model = Sequential()\n",
        "baseline_model.add(Dense(16, activation='relu', input_shape=(NUM_WORDS,)))\n",
        "baseline_model.add(Dense(16, activation='relu'))\n",
        "baseline_model.add(Dense(1, activation='sigmoid'))\n",
        "\n",
        "baseline_model.compile(optimizer='adam',\n",
        "                       loss='binary_crossentropy',\n",
        "                       metrics=['accuracy', 'binary_crossentropy'])\n",
        "\n",
        "baseline_model.summary()\n"
      ],
      "execution_count": 42,
      "outputs": [
        {
          "output_type": "stream",
          "text": [
            "Model: \"sequential_3\"\n",
            "_________________________________________________________________\n",
            "Layer (type)                 Output Shape              Param #   \n",
            "=================================================================\n",
            "dense_9 (Dense)              (None, 16)                160016    \n",
            "_________________________________________________________________\n",
            "dense_10 (Dense)             (None, 16)                272       \n",
            "_________________________________________________________________\n",
            "dense_11 (Dense)             (None, 1)                 17        \n",
            "=================================================================\n",
            "Total params: 160,305\n",
            "Trainable params: 160,305\n",
            "Non-trainable params: 0\n",
            "_________________________________________________________________\n"
          ],
          "name": "stdout"
        }
      ]
    },
    {
      "cell_type": "code",
      "metadata": {
        "id": "5Yr5d6RwSz0f",
        "outputId": "ea292ec4-dc74-47cd-965e-bd0ebbc2e580",
        "colab": {
          "base_uri": "https://localhost:8080/",
          "height": 709
        }
      },
      "source": [
        "baseline_history = baseline_model.fit(train_data, train_labels, epochs=20, batch_size=512, validation_data=(test_data, test_labels))"
      ],
      "execution_count": 43,
      "outputs": [
        {
          "output_type": "stream",
          "text": [
            "Epoch 1/20\n",
            "49/49 [==============================] - 2s 50ms/step - loss: 0.4820 - accuracy: 0.8072 - binary_crossentropy: 0.4820 - val_loss: 0.3387 - val_accuracy: 0.8772 - val_binary_crossentropy: 0.3387\n",
            "Epoch 2/20\n",
            "49/49 [==============================] - 2s 36ms/step - loss: 0.2496 - accuracy: 0.9114 - binary_crossentropy: 0.2496 - val_loss: 0.2836 - val_accuracy: 0.8878 - val_binary_crossentropy: 0.2836\n",
            "Epoch 3/20\n",
            "49/49 [==============================] - 2s 36ms/step - loss: 0.1829 - accuracy: 0.9361 - binary_crossentropy: 0.1829 - val_loss: 0.2892 - val_accuracy: 0.8839 - val_binary_crossentropy: 0.2892\n",
            "Epoch 4/20\n",
            "49/49 [==============================] - 2s 37ms/step - loss: 0.1451 - accuracy: 0.9497 - binary_crossentropy: 0.1451 - val_loss: 0.3098 - val_accuracy: 0.8805 - val_binary_crossentropy: 0.3098\n",
            "Epoch 5/20\n",
            "49/49 [==============================] - 2s 38ms/step - loss: 0.1178 - accuracy: 0.9621 - binary_crossentropy: 0.1178 - val_loss: 0.3314 - val_accuracy: 0.8767 - val_binary_crossentropy: 0.3314\n",
            "Epoch 6/20\n",
            "49/49 [==============================] - 2s 37ms/step - loss: 0.0944 - accuracy: 0.9720 - binary_crossentropy: 0.0944 - val_loss: 0.3602 - val_accuracy: 0.8729 - val_binary_crossentropy: 0.3602\n",
            "Epoch 7/20\n",
            "49/49 [==============================] - 2s 37ms/step - loss: 0.0769 - accuracy: 0.9783 - binary_crossentropy: 0.0769 - val_loss: 0.3925 - val_accuracy: 0.8705 - val_binary_crossentropy: 0.3925\n",
            "Epoch 8/20\n",
            "49/49 [==============================] - 2s 37ms/step - loss: 0.0617 - accuracy: 0.9847 - binary_crossentropy: 0.0617 - val_loss: 0.4340 - val_accuracy: 0.8631 - val_binary_crossentropy: 0.4340\n",
            "Epoch 9/20\n",
            "49/49 [==============================] - 2s 37ms/step - loss: 0.0489 - accuracy: 0.9894 - binary_crossentropy: 0.0489 - val_loss: 0.4704 - val_accuracy: 0.8628 - val_binary_crossentropy: 0.4704\n",
            "Epoch 10/20\n",
            "49/49 [==============================] - 2s 37ms/step - loss: 0.0379 - accuracy: 0.9937 - binary_crossentropy: 0.0379 - val_loss: 0.5058 - val_accuracy: 0.8614 - val_binary_crossentropy: 0.5058\n",
            "Epoch 11/20\n",
            "49/49 [==============================] - 2s 37ms/step - loss: 0.0287 - accuracy: 0.9958 - binary_crossentropy: 0.0287 - val_loss: 0.5417 - val_accuracy: 0.8600 - val_binary_crossentropy: 0.5417\n",
            "Epoch 12/20\n",
            "49/49 [==============================] - 2s 37ms/step - loss: 0.0217 - accuracy: 0.9976 - binary_crossentropy: 0.0217 - val_loss: 0.5733 - val_accuracy: 0.8594 - val_binary_crossentropy: 0.5733\n",
            "Epoch 13/20\n",
            "49/49 [==============================] - 2s 38ms/step - loss: 0.0164 - accuracy: 0.9984 - binary_crossentropy: 0.0164 - val_loss: 0.6097 - val_accuracy: 0.8571 - val_binary_crossentropy: 0.6097\n",
            "Epoch 14/20\n",
            "49/49 [==============================] - 2s 36ms/step - loss: 0.0126 - accuracy: 0.9991 - binary_crossentropy: 0.0126 - val_loss: 0.6382 - val_accuracy: 0.8571 - val_binary_crossentropy: 0.6382\n",
            "Epoch 15/20\n",
            "49/49 [==============================] - 2s 37ms/step - loss: 0.0098 - accuracy: 0.9995 - binary_crossentropy: 0.0098 - val_loss: 0.6667 - val_accuracy: 0.8565 - val_binary_crossentropy: 0.6667\n",
            "Epoch 16/20\n",
            "49/49 [==============================] - 2s 37ms/step - loss: 0.0077 - accuracy: 0.9996 - binary_crossentropy: 0.0077 - val_loss: 0.6950 - val_accuracy: 0.8562 - val_binary_crossentropy: 0.6950\n",
            "Epoch 17/20\n",
            "49/49 [==============================] - 2s 38ms/step - loss: 0.0061 - accuracy: 0.9998 - binary_crossentropy: 0.0061 - val_loss: 0.7182 - val_accuracy: 0.8560 - val_binary_crossentropy: 0.7182\n",
            "Epoch 18/20\n",
            "49/49 [==============================] - 2s 38ms/step - loss: 0.0049 - accuracy: 0.9999 - binary_crossentropy: 0.0049 - val_loss: 0.7456 - val_accuracy: 0.8560 - val_binary_crossentropy: 0.7456\n",
            "Epoch 19/20\n",
            "49/49 [==============================] - 2s 37ms/step - loss: 0.0040 - accuracy: 0.9999 - binary_crossentropy: 0.0040 - val_loss: 0.7682 - val_accuracy: 0.8557 - val_binary_crossentropy: 0.7682\n",
            "Epoch 20/20\n",
            "49/49 [==============================] - 2s 39ms/step - loss: 0.0034 - accuracy: 1.0000 - binary_crossentropy: 0.0034 - val_loss: 0.7914 - val_accuracy: 0.8550 - val_binary_crossentropy: 0.7914\n"
          ],
          "name": "stdout"
        }
      ]
    },
    {
      "cell_type": "code",
      "metadata": {
        "id": "dsI0HiitVFbu",
        "outputId": "e3a2e28b-7e3f-4a35-d636-8f0a45216c25",
        "colab": {
          "base_uri": "https://localhost:8080/",
          "height": 639
        }
      },
      "source": [
        "pd.DataFrame(baseline_history.history)"
      ],
      "execution_count": 23,
      "outputs": [
        {
          "output_type": "execute_result",
          "data": {
            "text/html": [
              "<div>\n",
              "<style scoped>\n",
              "    .dataframe tbody tr th:only-of-type {\n",
              "        vertical-align: middle;\n",
              "    }\n",
              "\n",
              "    .dataframe tbody tr th {\n",
              "        vertical-align: top;\n",
              "    }\n",
              "\n",
              "    .dataframe thead th {\n",
              "        text-align: right;\n",
              "    }\n",
              "</style>\n",
              "<table border=\"1\" class=\"dataframe\">\n",
              "  <thead>\n",
              "    <tr style=\"text-align: right;\">\n",
              "      <th></th>\n",
              "      <th>loss</th>\n",
              "      <th>accuracy</th>\n",
              "      <th>binary_crossentropy</th>\n",
              "      <th>val_loss</th>\n",
              "      <th>val_accuracy</th>\n",
              "      <th>val_binary_crossentropy</th>\n",
              "    </tr>\n",
              "  </thead>\n",
              "  <tbody>\n",
              "    <tr>\n",
              "      <th>0</th>\n",
              "      <td>0.490113</td>\n",
              "      <td>0.80560</td>\n",
              "      <td>0.490113</td>\n",
              "      <td>0.333117</td>\n",
              "      <td>0.87852</td>\n",
              "      <td>0.333117</td>\n",
              "    </tr>\n",
              "    <tr>\n",
              "      <th>1</th>\n",
              "      <td>0.246509</td>\n",
              "      <td>0.91140</td>\n",
              "      <td>0.246509</td>\n",
              "      <td>0.281680</td>\n",
              "      <td>0.88868</td>\n",
              "      <td>0.281680</td>\n",
              "    </tr>\n",
              "    <tr>\n",
              "      <th>2</th>\n",
              "      <td>0.182804</td>\n",
              "      <td>0.93588</td>\n",
              "      <td>0.182804</td>\n",
              "      <td>0.291961</td>\n",
              "      <td>0.88292</td>\n",
              "      <td>0.291961</td>\n",
              "    </tr>\n",
              "    <tr>\n",
              "      <th>3</th>\n",
              "      <td>0.145983</td>\n",
              "      <td>0.95132</td>\n",
              "      <td>0.145983</td>\n",
              "      <td>0.309266</td>\n",
              "      <td>0.87904</td>\n",
              "      <td>0.309266</td>\n",
              "    </tr>\n",
              "    <tr>\n",
              "      <th>4</th>\n",
              "      <td>0.121575</td>\n",
              "      <td>0.96052</td>\n",
              "      <td>0.121575</td>\n",
              "      <td>0.333947</td>\n",
              "      <td>0.87580</td>\n",
              "      <td>0.333947</td>\n",
              "    </tr>\n",
              "    <tr>\n",
              "      <th>5</th>\n",
              "      <td>0.102413</td>\n",
              "      <td>0.96748</td>\n",
              "      <td>0.102413</td>\n",
              "      <td>0.365916</td>\n",
              "      <td>0.87068</td>\n",
              "      <td>0.365916</td>\n",
              "    </tr>\n",
              "    <tr>\n",
              "      <th>6</th>\n",
              "      <td>0.086968</td>\n",
              "      <td>0.97400</td>\n",
              "      <td>0.086968</td>\n",
              "      <td>0.401751</td>\n",
              "      <td>0.86656</td>\n",
              "      <td>0.401751</td>\n",
              "    </tr>\n",
              "    <tr>\n",
              "      <th>7</th>\n",
              "      <td>0.073640</td>\n",
              "      <td>0.98000</td>\n",
              "      <td>0.073640</td>\n",
              "      <td>0.441723</td>\n",
              "      <td>0.86216</td>\n",
              "      <td>0.441723</td>\n",
              "    </tr>\n",
              "    <tr>\n",
              "      <th>8</th>\n",
              "      <td>0.062793</td>\n",
              "      <td>0.98444</td>\n",
              "      <td>0.062793</td>\n",
              "      <td>0.480215</td>\n",
              "      <td>0.86048</td>\n",
              "      <td>0.480215</td>\n",
              "    </tr>\n",
              "    <tr>\n",
              "      <th>9</th>\n",
              "      <td>0.052844</td>\n",
              "      <td>0.98716</td>\n",
              "      <td>0.052844</td>\n",
              "      <td>0.524418</td>\n",
              "      <td>0.85600</td>\n",
              "      <td>0.524418</td>\n",
              "    </tr>\n",
              "    <tr>\n",
              "      <th>10</th>\n",
              "      <td>0.044376</td>\n",
              "      <td>0.99092</td>\n",
              "      <td>0.044376</td>\n",
              "      <td>0.570291</td>\n",
              "      <td>0.85388</td>\n",
              "      <td>0.570291</td>\n",
              "    </tr>\n",
              "    <tr>\n",
              "      <th>11</th>\n",
              "      <td>0.036538</td>\n",
              "      <td>0.99316</td>\n",
              "      <td>0.036538</td>\n",
              "      <td>0.609242</td>\n",
              "      <td>0.85220</td>\n",
              "      <td>0.609242</td>\n",
              "    </tr>\n",
              "    <tr>\n",
              "      <th>12</th>\n",
              "      <td>0.030337</td>\n",
              "      <td>0.99520</td>\n",
              "      <td>0.030337</td>\n",
              "      <td>0.652514</td>\n",
              "      <td>0.85208</td>\n",
              "      <td>0.652514</td>\n",
              "    </tr>\n",
              "    <tr>\n",
              "      <th>13</th>\n",
              "      <td>0.024424</td>\n",
              "      <td>0.99668</td>\n",
              "      <td>0.024424</td>\n",
              "      <td>0.696261</td>\n",
              "      <td>0.85124</td>\n",
              "      <td>0.696261</td>\n",
              "    </tr>\n",
              "    <tr>\n",
              "      <th>14</th>\n",
              "      <td>0.019381</td>\n",
              "      <td>0.99780</td>\n",
              "      <td>0.019381</td>\n",
              "      <td>0.742368</td>\n",
              "      <td>0.84880</td>\n",
              "      <td>0.742368</td>\n",
              "    </tr>\n",
              "    <tr>\n",
              "      <th>15</th>\n",
              "      <td>0.015833</td>\n",
              "      <td>0.99860</td>\n",
              "      <td>0.015833</td>\n",
              "      <td>0.786176</td>\n",
              "      <td>0.84800</td>\n",
              "      <td>0.786176</td>\n",
              "    </tr>\n",
              "    <tr>\n",
              "      <th>16</th>\n",
              "      <td>0.012679</td>\n",
              "      <td>0.99924</td>\n",
              "      <td>0.012679</td>\n",
              "      <td>0.828673</td>\n",
              "      <td>0.84748</td>\n",
              "      <td>0.828673</td>\n",
              "    </tr>\n",
              "    <tr>\n",
              "      <th>17</th>\n",
              "      <td>0.010213</td>\n",
              "      <td>0.99936</td>\n",
              "      <td>0.010213</td>\n",
              "      <td>0.870684</td>\n",
              "      <td>0.84724</td>\n",
              "      <td>0.870684</td>\n",
              "    </tr>\n",
              "    <tr>\n",
              "      <th>18</th>\n",
              "      <td>0.008454</td>\n",
              "      <td>0.99960</td>\n",
              "      <td>0.008454</td>\n",
              "      <td>0.907783</td>\n",
              "      <td>0.84620</td>\n",
              "      <td>0.907783</td>\n",
              "    </tr>\n",
              "    <tr>\n",
              "      <th>19</th>\n",
              "      <td>0.006797</td>\n",
              "      <td>0.99992</td>\n",
              "      <td>0.006797</td>\n",
              "      <td>0.942612</td>\n",
              "      <td>0.84572</td>\n",
              "      <td>0.942612</td>\n",
              "    </tr>\n",
              "  </tbody>\n",
              "</table>\n",
              "</div>"
            ],
            "text/plain": [
              "        loss  accuracy  ...  val_accuracy  val_binary_crossentropy\n",
              "0   0.490113   0.80560  ...       0.87852                 0.333117\n",
              "1   0.246509   0.91140  ...       0.88868                 0.281680\n",
              "2   0.182804   0.93588  ...       0.88292                 0.291961\n",
              "3   0.145983   0.95132  ...       0.87904                 0.309266\n",
              "4   0.121575   0.96052  ...       0.87580                 0.333947\n",
              "5   0.102413   0.96748  ...       0.87068                 0.365916\n",
              "6   0.086968   0.97400  ...       0.86656                 0.401751\n",
              "7   0.073640   0.98000  ...       0.86216                 0.441723\n",
              "8   0.062793   0.98444  ...       0.86048                 0.480215\n",
              "9   0.052844   0.98716  ...       0.85600                 0.524418\n",
              "10  0.044376   0.99092  ...       0.85388                 0.570291\n",
              "11  0.036538   0.99316  ...       0.85220                 0.609242\n",
              "12  0.030337   0.99520  ...       0.85208                 0.652514\n",
              "13  0.024424   0.99668  ...       0.85124                 0.696261\n",
              "14  0.019381   0.99780  ...       0.84880                 0.742368\n",
              "15  0.015833   0.99860  ...       0.84800                 0.786176\n",
              "16  0.012679   0.99924  ...       0.84748                 0.828673\n",
              "17  0.010213   0.99936  ...       0.84724                 0.870684\n",
              "18  0.008454   0.99960  ...       0.84620                 0.907783\n",
              "19  0.006797   0.99992  ...       0.84572                 0.942612\n",
              "\n",
              "[20 rows x 6 columns]"
            ]
          },
          "metadata": {
            "tags": []
          },
          "execution_count": 23
        }
      ]
    },
    {
      "cell_type": "markdown",
      "metadata": {
        "id": "lk2O6-D3VbvK"
      },
      "source": [
        "Mniejszy model"
      ]
    },
    {
      "cell_type": "code",
      "metadata": {
        "id": "OajGOb8hVV9p",
        "outputId": "d943e58f-875c-44a2-d1d9-92901d5e272a",
        "colab": {
          "base_uri": "https://localhost:8080/",
          "height": 252
        }
      },
      "source": [
        "smaller_model = Sequential()\n",
        "smaller_model.add(Dense(4, activation='relu', input_shape=(NUM_WORDS,)))\n",
        "smaller_model.add(Dense(4, activation='relu'))\n",
        "smaller_model.add(Dense(1, activation='sigmoid'))\n",
        "\n",
        "smaller_model.compile(optimizer='adam',\n",
        "                       loss='binary_crossentropy',\n",
        "                       metrics=['accuracy', 'binary_crossentropy'])\n",
        "\n",
        "smaller_model.summary()"
      ],
      "execution_count": 24,
      "outputs": [
        {
          "output_type": "stream",
          "text": [
            "Model: \"sequential_1\"\n",
            "_________________________________________________________________\n",
            "Layer (type)                 Output Shape              Param #   \n",
            "=================================================================\n",
            "dense_3 (Dense)              (None, 4)                 40004     \n",
            "_________________________________________________________________\n",
            "dense_4 (Dense)              (None, 4)                 20        \n",
            "_________________________________________________________________\n",
            "dense_5 (Dense)              (None, 1)                 5         \n",
            "=================================================================\n",
            "Total params: 40,029\n",
            "Trainable params: 40,029\n",
            "Non-trainable params: 0\n",
            "_________________________________________________________________\n"
          ],
          "name": "stdout"
        }
      ]
    },
    {
      "cell_type": "code",
      "metadata": {
        "id": "HhbaDopRVg7B",
        "outputId": "86c97f61-70ef-4864-8cc7-e5e02a6340b7",
        "colab": {
          "base_uri": "https://localhost:8080/",
          "height": 709
        }
      },
      "source": [
        "smaller_history = smaller_model.fit(train_data, train_labels, epochs=20, batch_size=512, validation_data=(test_data, test_labels))"
      ],
      "execution_count": 25,
      "outputs": [
        {
          "output_type": "stream",
          "text": [
            "Epoch 1/20\n",
            "49/49 [==============================] - 2s 49ms/step - loss: 0.6220 - accuracy: 0.6835 - binary_crossentropy: 0.6220 - val_loss: 0.5533 - val_accuracy: 0.8082 - val_binary_crossentropy: 0.5533\n",
            "Epoch 2/20\n",
            "49/49 [==============================] - 2s 34ms/step - loss: 0.4718 - accuracy: 0.8612 - binary_crossentropy: 0.4718 - val_loss: 0.4309 - val_accuracy: 0.8676 - val_binary_crossentropy: 0.4309\n",
            "Epoch 3/20\n",
            "49/49 [==============================] - 2s 33ms/step - loss: 0.3524 - accuracy: 0.8999 - binary_crossentropy: 0.3524 - val_loss: 0.3514 - val_accuracy: 0.8799 - val_binary_crossentropy: 0.3514\n",
            "Epoch 4/20\n",
            "49/49 [==============================] - 2s 32ms/step - loss: 0.2783 - accuracy: 0.9158 - binary_crossentropy: 0.2783 - val_loss: 0.3129 - val_accuracy: 0.8855 - val_binary_crossentropy: 0.3129\n",
            "Epoch 5/20\n",
            "49/49 [==============================] - 2s 33ms/step - loss: 0.2336 - accuracy: 0.9264 - binary_crossentropy: 0.2336 - val_loss: 0.2928 - val_accuracy: 0.8880 - val_binary_crossentropy: 0.2928\n",
            "Epoch 6/20\n",
            "49/49 [==============================] - 2s 33ms/step - loss: 0.2033 - accuracy: 0.9339 - binary_crossentropy: 0.2033 - val_loss: 0.2878 - val_accuracy: 0.8856 - val_binary_crossentropy: 0.2878\n",
            "Epoch 7/20\n",
            "49/49 [==============================] - 2s 33ms/step - loss: 0.1812 - accuracy: 0.9413 - binary_crossentropy: 0.1812 - val_loss: 0.2837 - val_accuracy: 0.8862 - val_binary_crossentropy: 0.2837\n",
            "Epoch 8/20\n",
            "49/49 [==============================] - 2s 34ms/step - loss: 0.1638 - accuracy: 0.9473 - binary_crossentropy: 0.1638 - val_loss: 0.2873 - val_accuracy: 0.8848 - val_binary_crossentropy: 0.2873\n",
            "Epoch 9/20\n",
            "49/49 [==============================] - 2s 34ms/step - loss: 0.1491 - accuracy: 0.9529 - binary_crossentropy: 0.1491 - val_loss: 0.2911 - val_accuracy: 0.8847 - val_binary_crossentropy: 0.2911\n",
            "Epoch 10/20\n",
            "49/49 [==============================] - 2s 34ms/step - loss: 0.1369 - accuracy: 0.9570 - binary_crossentropy: 0.1369 - val_loss: 0.2991 - val_accuracy: 0.8824 - val_binary_crossentropy: 0.2991\n",
            "Epoch 11/20\n",
            "49/49 [==============================] - 2s 34ms/step - loss: 0.1261 - accuracy: 0.9609 - binary_crossentropy: 0.1261 - val_loss: 0.3066 - val_accuracy: 0.8811 - val_binary_crossentropy: 0.3066\n",
            "Epoch 12/20\n",
            "49/49 [==============================] - 2s 34ms/step - loss: 0.1165 - accuracy: 0.9651 - binary_crossentropy: 0.1165 - val_loss: 0.3167 - val_accuracy: 0.8786 - val_binary_crossentropy: 0.3167\n",
            "Epoch 13/20\n",
            "49/49 [==============================] - 2s 35ms/step - loss: 0.1084 - accuracy: 0.9682 - binary_crossentropy: 0.1084 - val_loss: 0.3290 - val_accuracy: 0.8758 - val_binary_crossentropy: 0.3290\n",
            "Epoch 14/20\n",
            "49/49 [==============================] - 2s 33ms/step - loss: 0.1001 - accuracy: 0.9712 - binary_crossentropy: 0.1001 - val_loss: 0.3406 - val_accuracy: 0.8743 - val_binary_crossentropy: 0.3406\n",
            "Epoch 15/20\n",
            "49/49 [==============================] - 2s 33ms/step - loss: 0.0931 - accuracy: 0.9739 - binary_crossentropy: 0.0931 - val_loss: 0.3520 - val_accuracy: 0.8743 - val_binary_crossentropy: 0.3520\n",
            "Epoch 16/20\n",
            "49/49 [==============================] - 2s 34ms/step - loss: 0.0865 - accuracy: 0.9766 - binary_crossentropy: 0.0865 - val_loss: 0.3677 - val_accuracy: 0.8711 - val_binary_crossentropy: 0.3677\n",
            "Epoch 17/20\n",
            "49/49 [==============================] - 2s 34ms/step - loss: 0.0802 - accuracy: 0.9788 - binary_crossentropy: 0.0802 - val_loss: 0.3825 - val_accuracy: 0.8692 - val_binary_crossentropy: 0.3825\n",
            "Epoch 18/20\n",
            "49/49 [==============================] - 2s 33ms/step - loss: 0.0744 - accuracy: 0.9810 - binary_crossentropy: 0.0744 - val_loss: 0.3963 - val_accuracy: 0.8676 - val_binary_crossentropy: 0.3963\n",
            "Epoch 19/20\n",
            "49/49 [==============================] - 2s 33ms/step - loss: 0.0693 - accuracy: 0.9835 - binary_crossentropy: 0.0693 - val_loss: 0.4103 - val_accuracy: 0.8660 - val_binary_crossentropy: 0.4103\n",
            "Epoch 20/20\n",
            "49/49 [==============================] - 2s 34ms/step - loss: 0.0641 - accuracy: 0.9855 - binary_crossentropy: 0.0641 - val_loss: 0.4254 - val_accuracy: 0.8653 - val_binary_crossentropy: 0.4254\n"
          ],
          "name": "stdout"
        }
      ]
    },
    {
      "cell_type": "markdown",
      "metadata": {
        "id": "tr-BAMRqVc3S"
      },
      "source": [
        "Wiekszy model"
      ]
    },
    {
      "cell_type": "code",
      "metadata": {
        "id": "r_F79WHLVnEj",
        "outputId": "87dae9c0-18b1-422a-b488-14abfab57fef",
        "colab": {
          "base_uri": "https://localhost:8080/",
          "height": 252
        }
      },
      "source": [
        "bigger_model = Sequential()\n",
        "bigger_model.add(Dense(512, activation='relu', input_shape=(NUM_WORDS,)))\n",
        "bigger_model.add(Dense(512, activation='relu'))\n",
        "bigger_model.add(Dense(1, activation='sigmoid'))\n",
        "\n",
        "bigger_model.compile(optimizer='adam',\n",
        "                       loss='binary_crossentropy',\n",
        "                       metrics=['accuracy', 'binary_crossentropy'])\n",
        "\n",
        "bigger_model.summary()"
      ],
      "execution_count": 26,
      "outputs": [
        {
          "output_type": "stream",
          "text": [
            "Model: \"sequential_2\"\n",
            "_________________________________________________________________\n",
            "Layer (type)                 Output Shape              Param #   \n",
            "=================================================================\n",
            "dense_6 (Dense)              (None, 512)               5120512   \n",
            "_________________________________________________________________\n",
            "dense_7 (Dense)              (None, 512)               262656    \n",
            "_________________________________________________________________\n",
            "dense_8 (Dense)              (None, 1)                 513       \n",
            "=================================================================\n",
            "Total params: 5,383,681\n",
            "Trainable params: 5,383,681\n",
            "Non-trainable params: 0\n",
            "_________________________________________________________________\n"
          ],
          "name": "stdout"
        }
      ]
    },
    {
      "cell_type": "code",
      "metadata": {
        "id": "dTZdP7e0Vn8z",
        "outputId": "6803a16f-aeb8-4dad-d2ff-5c5c4a8e2fba",
        "colab": {
          "base_uri": "https://localhost:8080/",
          "height": 709
        }
      },
      "source": [
        "bigger_history = bigger_model.fit(train_data, train_labels, epochs=20, batch_size=512, validation_data=(test_data, test_labels))"
      ],
      "execution_count": 27,
      "outputs": [
        {
          "output_type": "stream",
          "text": [
            "Epoch 1/20\n",
            "49/49 [==============================] - 15s 316ms/step - loss: 0.3439 - accuracy: 0.8541 - binary_crossentropy: 0.3439 - val_loss: 0.3063 - val_accuracy: 0.8740 - val_binary_crossentropy: 0.3063\n",
            "Epoch 2/20\n",
            "49/49 [==============================] - 14s 291ms/step - loss: 0.1486 - accuracy: 0.9453 - binary_crossentropy: 0.1486 - val_loss: 0.3278 - val_accuracy: 0.8742 - val_binary_crossentropy: 0.3278\n",
            "Epoch 3/20\n",
            "49/49 [==============================] - 14s 288ms/step - loss: 0.0564 - accuracy: 0.9822 - binary_crossentropy: 0.0564 - val_loss: 0.4277 - val_accuracy: 0.8690 - val_binary_crossentropy: 0.4277\n",
            "Epoch 4/20\n",
            "49/49 [==============================] - 14s 288ms/step - loss: 0.0094 - accuracy: 0.9985 - binary_crossentropy: 0.0094 - val_loss: 0.5569 - val_accuracy: 0.8683 - val_binary_crossentropy: 0.5569\n",
            "Epoch 5/20\n",
            "49/49 [==============================] - 14s 287ms/step - loss: 0.0019 - accuracy: 1.0000 - binary_crossentropy: 0.0019 - val_loss: 0.6523 - val_accuracy: 0.8701 - val_binary_crossentropy: 0.6523\n",
            "Epoch 6/20\n",
            "49/49 [==============================] - 14s 290ms/step - loss: 8.9732e-04 - accuracy: 1.0000 - binary_crossentropy: 8.9732e-04 - val_loss: 0.6955 - val_accuracy: 0.8704 - val_binary_crossentropy: 0.6955\n",
            "Epoch 7/20\n",
            "49/49 [==============================] - 14s 288ms/step - loss: 2.2006e-04 - accuracy: 1.0000 - binary_crossentropy: 2.2006e-04 - val_loss: 0.7315 - val_accuracy: 0.8706 - val_binary_crossentropy: 0.7315\n",
            "Epoch 8/20\n",
            "49/49 [==============================] - 14s 290ms/step - loss: 1.5020e-04 - accuracy: 1.0000 - binary_crossentropy: 1.5020e-04 - val_loss: 0.7544 - val_accuracy: 0.8708 - val_binary_crossentropy: 0.7544\n",
            "Epoch 9/20\n",
            "49/49 [==============================] - 14s 289ms/step - loss: 1.1164e-04 - accuracy: 1.0000 - binary_crossentropy: 1.1164e-04 - val_loss: 0.7743 - val_accuracy: 0.8714 - val_binary_crossentropy: 0.7743\n",
            "Epoch 10/20\n",
            "49/49 [==============================] - 14s 288ms/step - loss: 8.7020e-05 - accuracy: 1.0000 - binary_crossentropy: 8.7020e-05 - val_loss: 0.7911 - val_accuracy: 0.8720 - val_binary_crossentropy: 0.7911\n",
            "Epoch 11/20\n",
            "49/49 [==============================] - 14s 290ms/step - loss: 7.0057e-05 - accuracy: 1.0000 - binary_crossentropy: 7.0057e-05 - val_loss: 0.8059 - val_accuracy: 0.8720 - val_binary_crossentropy: 0.8059\n",
            "Epoch 12/20\n",
            "49/49 [==============================] - 14s 289ms/step - loss: 5.7560e-05 - accuracy: 1.0000 - binary_crossentropy: 5.7560e-05 - val_loss: 0.8189 - val_accuracy: 0.8719 - val_binary_crossentropy: 0.8189\n",
            "Epoch 13/20\n",
            "49/49 [==============================] - 14s 291ms/step - loss: 4.8137e-05 - accuracy: 1.0000 - binary_crossentropy: 4.8137e-05 - val_loss: 0.8307 - val_accuracy: 0.8719 - val_binary_crossentropy: 0.8307\n",
            "Epoch 14/20\n",
            "49/49 [==============================] - 14s 289ms/step - loss: 4.0946e-05 - accuracy: 1.0000 - binary_crossentropy: 4.0946e-05 - val_loss: 0.8416 - val_accuracy: 0.8720 - val_binary_crossentropy: 0.8416\n",
            "Epoch 15/20\n",
            "49/49 [==============================] - 14s 287ms/step - loss: 3.5115e-05 - accuracy: 1.0000 - binary_crossentropy: 3.5115e-05 - val_loss: 0.8517 - val_accuracy: 0.8720 - val_binary_crossentropy: 0.8517\n",
            "Epoch 16/20\n",
            "49/49 [==============================] - 14s 288ms/step - loss: 3.0473e-05 - accuracy: 1.0000 - binary_crossentropy: 3.0473e-05 - val_loss: 0.8612 - val_accuracy: 0.8720 - val_binary_crossentropy: 0.8612\n",
            "Epoch 17/20\n",
            "49/49 [==============================] - 14s 289ms/step - loss: 2.6629e-05 - accuracy: 1.0000 - binary_crossentropy: 2.6629e-05 - val_loss: 0.8704 - val_accuracy: 0.8720 - val_binary_crossentropy: 0.8704\n",
            "Epoch 18/20\n",
            "49/49 [==============================] - 14s 294ms/step - loss: 2.3495e-05 - accuracy: 1.0000 - binary_crossentropy: 2.3495e-05 - val_loss: 0.8789 - val_accuracy: 0.8720 - val_binary_crossentropy: 0.8789\n",
            "Epoch 19/20\n",
            "49/49 [==============================] - 14s 288ms/step - loss: 2.0856e-05 - accuracy: 1.0000 - binary_crossentropy: 2.0856e-05 - val_loss: 0.8865 - val_accuracy: 0.8723 - val_binary_crossentropy: 0.8865\n",
            "Epoch 20/20\n",
            "49/49 [==============================] - 14s 291ms/step - loss: 1.8620e-05 - accuracy: 1.0000 - binary_crossentropy: 1.8620e-05 - val_loss: 0.8945 - val_accuracy: 0.8723 - val_binary_crossentropy: 0.8945\n"
          ],
          "name": "stdout"
        }
      ]
    },
    {
      "cell_type": "code",
      "metadata": {
        "id": "C8nRcYQFVs0Y",
        "outputId": "1c3bc895-7e10-450c-c454-17d9d834201f",
        "colab": {
          "base_uri": "https://localhost:8080/",
          "height": 195
        }
      },
      "source": [
        "hist = pd.DataFrame(baseline_history.history)\n",
        "hist['epoch'] = baseline_history.epoch\n",
        "hist.head()"
      ],
      "execution_count": 31,
      "outputs": [
        {
          "output_type": "execute_result",
          "data": {
            "text/html": [
              "<div>\n",
              "<style scoped>\n",
              "    .dataframe tbody tr th:only-of-type {\n",
              "        vertical-align: middle;\n",
              "    }\n",
              "\n",
              "    .dataframe tbody tr th {\n",
              "        vertical-align: top;\n",
              "    }\n",
              "\n",
              "    .dataframe thead th {\n",
              "        text-align: right;\n",
              "    }\n",
              "</style>\n",
              "<table border=\"1\" class=\"dataframe\">\n",
              "  <thead>\n",
              "    <tr style=\"text-align: right;\">\n",
              "      <th></th>\n",
              "      <th>loss</th>\n",
              "      <th>accuracy</th>\n",
              "      <th>binary_crossentropy</th>\n",
              "      <th>val_loss</th>\n",
              "      <th>val_accuracy</th>\n",
              "      <th>val_binary_crossentropy</th>\n",
              "      <th>epoch</th>\n",
              "    </tr>\n",
              "  </thead>\n",
              "  <tbody>\n",
              "    <tr>\n",
              "      <th>0</th>\n",
              "      <td>0.490113</td>\n",
              "      <td>0.80560</td>\n",
              "      <td>0.490113</td>\n",
              "      <td>0.333117</td>\n",
              "      <td>0.87852</td>\n",
              "      <td>0.333117</td>\n",
              "      <td>0</td>\n",
              "    </tr>\n",
              "    <tr>\n",
              "      <th>1</th>\n",
              "      <td>0.246509</td>\n",
              "      <td>0.91140</td>\n",
              "      <td>0.246509</td>\n",
              "      <td>0.281680</td>\n",
              "      <td>0.88868</td>\n",
              "      <td>0.281680</td>\n",
              "      <td>1</td>\n",
              "    </tr>\n",
              "    <tr>\n",
              "      <th>2</th>\n",
              "      <td>0.182804</td>\n",
              "      <td>0.93588</td>\n",
              "      <td>0.182804</td>\n",
              "      <td>0.291961</td>\n",
              "      <td>0.88292</td>\n",
              "      <td>0.291961</td>\n",
              "      <td>2</td>\n",
              "    </tr>\n",
              "    <tr>\n",
              "      <th>3</th>\n",
              "      <td>0.145983</td>\n",
              "      <td>0.95132</td>\n",
              "      <td>0.145983</td>\n",
              "      <td>0.309266</td>\n",
              "      <td>0.87904</td>\n",
              "      <td>0.309266</td>\n",
              "      <td>3</td>\n",
              "    </tr>\n",
              "    <tr>\n",
              "      <th>4</th>\n",
              "      <td>0.121575</td>\n",
              "      <td>0.96052</td>\n",
              "      <td>0.121575</td>\n",
              "      <td>0.333947</td>\n",
              "      <td>0.87580</td>\n",
              "      <td>0.333947</td>\n",
              "      <td>4</td>\n",
              "    </tr>\n",
              "  </tbody>\n",
              "</table>\n",
              "</div>"
            ],
            "text/plain": [
              "       loss  accuracy  ...  val_binary_crossentropy  epoch\n",
              "0  0.490113   0.80560  ...                 0.333117      0\n",
              "1  0.246509   0.91140  ...                 0.281680      1\n",
              "2  0.182804   0.93588  ...                 0.291961      2\n",
              "3  0.145983   0.95132  ...                 0.309266      3\n",
              "4  0.121575   0.96052  ...                 0.333947      4\n",
              "\n",
              "[5 rows x 7 columns]"
            ]
          },
          "metadata": {
            "tags": []
          },
          "execution_count": 31
        }
      ]
    },
    {
      "cell_type": "code",
      "metadata": {
        "id": "7Fa7In_HWGCg",
        "outputId": "a42d7b43-7e4d-4e77-b2e9-ba44c7987db3",
        "colab": {
          "base_uri": "https://localhost:8080/",
          "height": 542
        }
      },
      "source": [
        "\n",
        "import plotly.graph_objects as go\n",
        "\n",
        "fig = go.Figure()\n",
        "for name, history in zip(['smaller', 'baseline', 'bigger'], [smaller_history, baseline_history, bigger_history]):\n",
        "    hist = pd.DataFrame(history.history)\n",
        "    hist['epoch'] = history.epoch\n",
        "    fig.add_trace(go.Scatter(x=hist['epoch'], y=hist['binary_crossentropy'], name=name + '_binary_crossentropy', mode='lines+markers'))\n",
        "    fig.add_trace(go.Scatter(x=hist['epoch'], y=hist['val_binary_crossentropy'], name=name + '_val_binary_crossentropy', mode='lines+markers'))\n",
        "    fig.update_layout(xaxis_title='Epoki', yaxis_title='binary_crossentropy', template = 'simple_white')\n",
        "fig.show()"
      ],
      "execution_count": 33,
      "outputs": [
        {
          "output_type": "display_data",
          "data": {
            "text/html": [
              "<html>\n",
              "<head><meta charset=\"utf-8\" /></head>\n",
              "<body>\n",
              "    <div>\n",
              "            <script src=\"https://cdnjs.cloudflare.com/ajax/libs/mathjax/2.7.5/MathJax.js?config=TeX-AMS-MML_SVG\"></script><script type=\"text/javascript\">if (window.MathJax) {MathJax.Hub.Config({SVG: {font: \"STIX-Web\"}});}</script>\n",
              "                <script type=\"text/javascript\">window.PlotlyConfig = {MathJaxConfig: 'local'};</script>\n",
              "        <script src=\"https://cdn.plot.ly/plotly-latest.min.js\"></script>    \n",
              "            <div id=\"e2d77391-5214-4e97-b434-be5f3d78faeb\" class=\"plotly-graph-div\" style=\"height:525px; width:100%;\"></div>\n",
              "            <script type=\"text/javascript\">\n",
              "                \n",
              "                    window.PLOTLYENV=window.PLOTLYENV || {};\n",
              "                    \n",
              "                if (document.getElementById(\"e2d77391-5214-4e97-b434-be5f3d78faeb\")) {\n",
              "                    Plotly.newPlot(\n",
              "                        'e2d77391-5214-4e97-b434-be5f3d78faeb',\n",
              "                        [{\"mode\": \"lines+markers\", \"name\": \"smaller_binary_crossentropy\", \"type\": \"scatter\", \"x\": [0, 1, 2, 3, 4, 5, 6, 7, 8, 9, 10, 11, 12, 13, 14, 15, 16, 17, 18, 19], \"y\": [0.6220393180847168, 0.47180551290512085, 0.35238057374954224, 0.2782609462738037, 0.23355531692504883, 0.20334292948246002, 0.18117094039916992, 0.16381478309631348, 0.14911949634552002, 0.1369265615940094, 0.12608471512794495, 0.11647877097129822, 0.10835062712430954, 0.10009066760540009, 0.09307156503200531, 0.08653459697961807, 0.08018944412469864, 0.07444219291210175, 0.06925611197948456, 0.06406306475400925]}, {\"mode\": \"lines+markers\", \"name\": \"smaller_val_binary_crossentropy\", \"type\": \"scatter\", \"x\": [0, 1, 2, 3, 4, 5, 6, 7, 8, 9, 10, 11, 12, 13, 14, 15, 16, 17, 18, 19], \"y\": [0.5532793998718262, 0.4308731257915497, 0.351396381855011, 0.3128970265388489, 0.2927744686603546, 0.2878020405769348, 0.28370219469070435, 0.2873363494873047, 0.2910974323749542, 0.2990725636482239, 0.30663973093032837, 0.31669408082962036, 0.3290495276451111, 0.34059834480285645, 0.3519684076309204, 0.36766108870506287, 0.38246390223503113, 0.3962721824645996, 0.41025736927986145, 0.4254414737224579]}, {\"mode\": \"lines+markers\", \"name\": \"baseline_binary_crossentropy\", \"type\": \"scatter\", \"x\": [0, 1, 2, 3, 4, 5, 6, 7, 8, 9, 10, 11, 12, 13, 14, 15, 16, 17, 18, 19], \"y\": [0.4901125133037567, 0.24650919437408447, 0.1828041821718216, 0.14598271250724792, 0.12157511711120605, 0.10241334140300751, 0.08696796000003815, 0.07363952696323395, 0.06279335916042328, 0.05284350737929344, 0.04437604546546936, 0.03653806075453758, 0.03033740445971489, 0.024423664435744286, 0.01938071846961975, 0.015833498910069466, 0.012679360806941986, 0.01021304726600647, 0.008454352617263794, 0.006797339301556349]}, {\"mode\": \"lines+markers\", \"name\": \"baseline_val_binary_crossentropy\", \"type\": \"scatter\", \"x\": [0, 1, 2, 3, 4, 5, 6, 7, 8, 9, 10, 11, 12, 13, 14, 15, 16, 17, 18, 19], \"y\": [0.33311691880226135, 0.28168049454689026, 0.291960746049881, 0.3092663288116455, 0.33394744992256165, 0.36591625213623047, 0.4017505943775177, 0.44172289967536926, 0.4802151918411255, 0.5244181156158447, 0.5702912211418152, 0.6092422008514404, 0.6525138020515442, 0.6962614059448242, 0.742368221282959, 0.7861763834953308, 0.8286733031272888, 0.8706836104393005, 0.907783031463623, 0.9426121711730957]}, {\"mode\": \"lines+markers\", \"name\": \"bigger_binary_crossentropy\", \"type\": \"scatter\", \"x\": [0, 1, 2, 3, 4, 5, 6, 7, 8, 9, 10, 11, 12, 13, 14, 15, 16, 17, 18, 19], \"y\": [0.34390056133270264, 0.14856509864330292, 0.05644354969263077, 0.009390503168106079, 0.0018722350941970944, 0.0008973220246843994, 0.00022005767095834017, 0.00015019881539046764, 0.00011163755698362365, 8.701999468030408e-05, 7.00574237271212e-05, 5.7559609558666125e-05, 4.813676787307486e-05, 4.0945556975202635e-05, 3.5115044738631696e-05, 3.0472714570350945e-05, 2.6628767955116928e-05, 2.3494765628129244e-05, 2.0856325136264786e-05, 1.8619708498590626e-05]}, {\"mode\": \"lines+markers\", \"name\": \"bigger_val_binary_crossentropy\", \"type\": \"scatter\", \"x\": [0, 1, 2, 3, 4, 5, 6, 7, 8, 9, 10, 11, 12, 13, 14, 15, 16, 17, 18, 19], \"y\": [0.30629098415374756, 0.3278030753135681, 0.4277244508266449, 0.5569241642951965, 0.6522569060325623, 0.6954910755157471, 0.7315372824668884, 0.7543655633926392, 0.7743379473686218, 0.7911458015441895, 0.805925726890564, 0.8188760280609131, 0.8306825160980225, 0.8415589332580566, 0.8517469763755798, 0.8612462282180786, 0.8704410791397095, 0.8788825869560242, 0.8865281939506531, 0.8944716453552246]}],\n",
              "                        {\"template\": {\"data\": {\"bar\": [{\"error_x\": {\"color\": \"rgb(36,36,36)\"}, \"error_y\": {\"color\": \"rgb(36,36,36)\"}, \"marker\": {\"line\": {\"color\": \"white\", \"width\": 0.5}}, \"type\": \"bar\"}], \"barpolar\": [{\"marker\": {\"line\": {\"color\": \"white\", \"width\": 0.5}}, \"type\": \"barpolar\"}], \"carpet\": [{\"aaxis\": {\"endlinecolor\": \"rgb(36,36,36)\", \"gridcolor\": \"white\", \"linecolor\": \"white\", \"minorgridcolor\": \"white\", \"startlinecolor\": \"rgb(36,36,36)\"}, \"baxis\": {\"endlinecolor\": \"rgb(36,36,36)\", \"gridcolor\": \"white\", \"linecolor\": \"white\", \"minorgridcolor\": \"white\", \"startlinecolor\": \"rgb(36,36,36)\"}, \"type\": \"carpet\"}], \"choropleth\": [{\"colorbar\": {\"outlinewidth\": 10, \"tickcolor\": \"rgb(36,36,36)\", \"ticklen\": 8, \"ticks\": \"outside\", \"tickwidth\": 2}, \"type\": \"choropleth\"}], \"contour\": [{\"colorbar\": {\"outlinewidth\": 10, \"tickcolor\": \"rgb(36,36,36)\", \"ticklen\": 8, \"ticks\": \"outside\", \"tickwidth\": 2}, \"colorscale\": [[0.0, \"#440154\"], [0.1111111111111111, \"#482878\"], [0.2222222222222222, \"#3e4989\"], [0.3333333333333333, \"#31688e\"], [0.4444444444444444, \"#26828e\"], [0.5555555555555556, \"#1f9e89\"], [0.6666666666666666, \"#35b779\"], [0.7777777777777778, \"#6ece58\"], [0.8888888888888888, \"#b5de2b\"], [1.0, \"#fde725\"]], \"type\": \"contour\"}], \"contourcarpet\": [{\"colorbar\": {\"outlinewidth\": 10, \"tickcolor\": \"rgb(36,36,36)\", \"ticklen\": 8, \"ticks\": \"outside\", \"tickwidth\": 2}, \"type\": \"contourcarpet\"}], \"heatmap\": [{\"colorbar\": {\"outlinewidth\": 10, \"tickcolor\": \"rgb(36,36,36)\", \"ticklen\": 8, \"ticks\": \"outside\", \"tickwidth\": 2}, \"colorscale\": [[0.0, \"#440154\"], [0.1111111111111111, \"#482878\"], [0.2222222222222222, \"#3e4989\"], [0.3333333333333333, \"#31688e\"], [0.4444444444444444, \"#26828e\"], [0.5555555555555556, \"#1f9e89\"], [0.6666666666666666, \"#35b779\"], [0.7777777777777778, \"#6ece58\"], [0.8888888888888888, \"#b5de2b\"], [1.0, \"#fde725\"]], \"type\": \"heatmap\"}], \"heatmapgl\": [{\"colorbar\": {\"outlinewidth\": 10, \"tickcolor\": \"rgb(36,36,36)\", \"ticklen\": 8, \"ticks\": \"outside\", \"tickwidth\": 2}, \"colorscale\": [[0.0, \"#440154\"], [0.1111111111111111, \"#482878\"], [0.2222222222222222, \"#3e4989\"], [0.3333333333333333, \"#31688e\"], [0.4444444444444444, \"#26828e\"], [0.5555555555555556, \"#1f9e89\"], [0.6666666666666666, \"#35b779\"], [0.7777777777777778, \"#6ece58\"], [0.8888888888888888, \"#b5de2b\"], [1.0, \"#fde725\"]], \"type\": \"heatmapgl\"}], \"histogram\": [{\"marker\": {\"line\": {\"color\": \"white\", \"width\": 0.6}}, \"type\": \"histogram\"}], \"histogram2d\": [{\"colorbar\": {\"outlinewidth\": 10, \"tickcolor\": \"rgb(36,36,36)\", \"ticklen\": 8, \"ticks\": \"outside\", \"tickwidth\": 2}, \"colorscale\": [[0.0, \"#440154\"], [0.1111111111111111, \"#482878\"], [0.2222222222222222, \"#3e4989\"], [0.3333333333333333, \"#31688e\"], [0.4444444444444444, \"#26828e\"], [0.5555555555555556, \"#1f9e89\"], [0.6666666666666666, \"#35b779\"], [0.7777777777777778, \"#6ece58\"], [0.8888888888888888, \"#b5de2b\"], [1.0, \"#fde725\"]], \"type\": \"histogram2d\"}], \"histogram2dcontour\": [{\"colorbar\": {\"outlinewidth\": 10, \"tickcolor\": \"rgb(36,36,36)\", \"ticklen\": 8, \"ticks\": \"outside\", \"tickwidth\": 2}, \"colorscale\": [[0.0, \"#440154\"], [0.1111111111111111, \"#482878\"], [0.2222222222222222, \"#3e4989\"], [0.3333333333333333, \"#31688e\"], [0.4444444444444444, \"#26828e\"], [0.5555555555555556, \"#1f9e89\"], [0.6666666666666666, \"#35b779\"], [0.7777777777777778, \"#6ece58\"], [0.8888888888888888, \"#b5de2b\"], [1.0, \"#fde725\"]], \"type\": \"histogram2dcontour\"}], \"mesh3d\": [{\"colorbar\": {\"outlinewidth\": 10, \"tickcolor\": \"rgb(36,36,36)\", \"ticklen\": 8, \"ticks\": \"outside\", \"tickwidth\": 2}, \"type\": \"mesh3d\"}], \"parcoords\": [{\"line\": {\"colorbar\": {\"outlinewidth\": 10, \"tickcolor\": \"rgb(36,36,36)\", \"ticklen\": 8, \"ticks\": \"outside\", \"tickwidth\": 2}}, \"type\": \"parcoords\"}], \"pie\": [{\"automargin\": true, \"type\": \"pie\"}], \"scatter\": [{\"marker\": {\"colorbar\": {\"outlinewidth\": 10, \"tickcolor\": \"rgb(36,36,36)\", \"ticklen\": 8, \"ticks\": \"outside\", \"tickwidth\": 2}}, \"type\": \"scatter\"}], \"scatter3d\": [{\"line\": {\"colorbar\": {\"outlinewidth\": 10, \"tickcolor\": \"rgb(36,36,36)\", \"ticklen\": 8, \"ticks\": \"outside\", \"tickwidth\": 2}}, \"marker\": {\"colorbar\": {\"outlinewidth\": 10, \"tickcolor\": \"rgb(36,36,36)\", \"ticklen\": 8, \"ticks\": \"outside\", \"tickwidth\": 2}}, \"type\": \"scatter3d\"}], \"scattercarpet\": [{\"marker\": {\"colorbar\": {\"outlinewidth\": 10, \"tickcolor\": \"rgb(36,36,36)\", \"ticklen\": 8, \"ticks\": \"outside\", \"tickwidth\": 2}}, \"type\": \"scattercarpet\"}], \"scattergeo\": [{\"marker\": {\"colorbar\": {\"outlinewidth\": 10, \"tickcolor\": \"rgb(36,36,36)\", \"ticklen\": 8, \"ticks\": \"outside\", \"tickwidth\": 2}}, \"type\": \"scattergeo\"}], \"scattergl\": [{\"marker\": {\"colorbar\": {\"outlinewidth\": 10, \"tickcolor\": \"rgb(36,36,36)\", \"ticklen\": 8, \"ticks\": \"outside\", \"tickwidth\": 2}}, \"type\": \"scattergl\"}], \"scattermapbox\": [{\"marker\": {\"colorbar\": {\"outlinewidth\": 10, \"tickcolor\": \"rgb(36,36,36)\", \"ticklen\": 8, \"ticks\": \"outside\", \"tickwidth\": 2}}, \"type\": \"scattermapbox\"}], \"scatterpolar\": [{\"marker\": {\"colorbar\": {\"outlinewidth\": 10, \"tickcolor\": \"rgb(36,36,36)\", \"ticklen\": 8, \"ticks\": \"outside\", \"tickwidth\": 2}}, \"type\": \"scatterpolar\"}], \"scatterpolargl\": [{\"marker\": {\"colorbar\": {\"outlinewidth\": 10, \"tickcolor\": \"rgb(36,36,36)\", \"ticklen\": 8, \"ticks\": \"outside\", \"tickwidth\": 2}}, \"type\": \"scatterpolargl\"}], \"scatterternary\": [{\"marker\": {\"colorbar\": {\"outlinewidth\": 10, \"tickcolor\": \"rgb(36,36,36)\", \"ticklen\": 8, \"ticks\": \"outside\", \"tickwidth\": 2}}, \"type\": \"scatterternary\"}], \"surface\": [{\"colorbar\": {\"outlinewidth\": 10, \"tickcolor\": \"rgb(36,36,36)\", \"ticklen\": 8, \"ticks\": \"outside\", \"tickwidth\": 2}, \"colorscale\": [[0.0, \"#440154\"], [0.1111111111111111, \"#482878\"], [0.2222222222222222, \"#3e4989\"], [0.3333333333333333, \"#31688e\"], [0.4444444444444444, \"#26828e\"], [0.5555555555555556, \"#1f9e89\"], [0.6666666666666666, \"#35b779\"], [0.7777777777777778, \"#6ece58\"], [0.8888888888888888, \"#b5de2b\"], [1.0, \"#fde725\"]], \"type\": \"surface\"}], \"table\": [{\"cells\": {\"fill\": {\"color\": \"rgb(237,237,237)\"}, \"line\": {\"color\": \"white\"}}, \"header\": {\"fill\": {\"color\": \"rgb(217,217,217)\"}, \"line\": {\"color\": \"white\"}}, \"type\": \"table\"}]}, \"layout\": {\"annotationdefaults\": {\"arrowhead\": 0, \"arrowwidth\": 1}, \"coloraxis\": {\"colorbar\": {\"outlinewidth\": 10, \"tickcolor\": \"rgb(36,36,36)\", \"ticklen\": 8, \"ticks\": \"outside\", \"tickwidth\": 2}}, \"colorscale\": {\"diverging\": [[0.0, \"rgb(103,0,31)\"], [0.1, \"rgb(178,24,43)\"], [0.2, \"rgb(214,96,77)\"], [0.3, \"rgb(244,165,130)\"], [0.4, \"rgb(253,219,199)\"], [0.5, \"rgb(247,247,247)\"], [0.6, \"rgb(209,229,240)\"], [0.7, \"rgb(146,197,222)\"], [0.8, \"rgb(67,147,195)\"], [0.9, \"rgb(33,102,172)\"], [1.0, \"rgb(5,48,97)\"]], \"sequential\": [[0.0, \"#440154\"], [0.1111111111111111, \"#482878\"], [0.2222222222222222, \"#3e4989\"], [0.3333333333333333, \"#31688e\"], [0.4444444444444444, \"#26828e\"], [0.5555555555555556, \"#1f9e89\"], [0.6666666666666666, \"#35b779\"], [0.7777777777777778, \"#6ece58\"], [0.8888888888888888, \"#b5de2b\"], [1.0, \"#fde725\"]], \"sequentialminus\": [[0.0, \"#440154\"], [0.1111111111111111, \"#482878\"], [0.2222222222222222, \"#3e4989\"], [0.3333333333333333, \"#31688e\"], [0.4444444444444444, \"#26828e\"], [0.5555555555555556, \"#1f9e89\"], [0.6666666666666666, \"#35b779\"], [0.7777777777777778, \"#6ece58\"], [0.8888888888888888, \"#b5de2b\"], [1.0, \"#fde725\"]]}, \"colorway\": [\"#1F77B4\", \"#FF7F0E\", \"#2CA02C\", \"#D62728\", \"#9467BD\", \"#8C564B\", \"#E377C2\", \"#7F7F7F\", \"#BCBD22\", \"#17BECF\"], \"font\": {\"color\": \"rgb(36,36,36)\"}, \"geo\": {\"bgcolor\": \"white\", \"lakecolor\": \"white\", \"landcolor\": \"white\", \"showlakes\": true, \"showland\": true, \"subunitcolor\": \"white\"}, \"hoverlabel\": {\"align\": \"left\"}, \"hovermode\": \"closest\", \"mapbox\": {\"style\": \"light\"}, \"paper_bgcolor\": \"white\", \"plot_bgcolor\": \"white\", \"polar\": {\"angularaxis\": {\"gridcolor\": \"rgb(232,232,232)\", \"linecolor\": \"rgb(36,36,36)\", \"showgrid\": false, \"showline\": true, \"ticks\": \"outside\"}, \"bgcolor\": \"white\", \"radialaxis\": {\"gridcolor\": \"rgb(232,232,232)\", \"linecolor\": \"rgb(36,36,36)\", \"showgrid\": false, \"showline\": true, \"ticks\": \"outside\"}}, \"scene\": {\"xaxis\": {\"backgroundcolor\": \"white\", \"gridcolor\": \"rgb(232,232,232)\", \"gridwidth\": 2, \"linecolor\": \"rgb(36,36,36)\", \"showbackground\": true, \"showgrid\": false, \"showline\": true, \"ticks\": \"outside\", \"zeroline\": false, \"zerolinecolor\": \"rgb(36,36,36)\"}, \"yaxis\": {\"backgroundcolor\": \"white\", \"gridcolor\": \"rgb(232,232,232)\", \"gridwidth\": 2, \"linecolor\": \"rgb(36,36,36)\", \"showbackground\": true, \"showgrid\": false, \"showline\": true, \"ticks\": \"outside\", \"zeroline\": false, \"zerolinecolor\": \"rgb(36,36,36)\"}, \"zaxis\": {\"backgroundcolor\": \"white\", \"gridcolor\": \"rgb(232,232,232)\", \"gridwidth\": 2, \"linecolor\": \"rgb(36,36,36)\", \"showbackground\": true, \"showgrid\": false, \"showline\": true, \"ticks\": \"outside\", \"zeroline\": false, \"zerolinecolor\": \"rgb(36,36,36)\"}}, \"shapedefaults\": {\"fillcolor\": \"black\", \"line\": {\"width\": 0}, \"opacity\": 0.3}, \"ternary\": {\"aaxis\": {\"gridcolor\": \"rgb(232,232,232)\", \"linecolor\": \"rgb(36,36,36)\", \"showgrid\": false, \"showline\": true, \"ticks\": \"outside\"}, \"baxis\": {\"gridcolor\": \"rgb(232,232,232)\", \"linecolor\": \"rgb(36,36,36)\", \"showgrid\": false, \"showline\": true, \"ticks\": \"outside\"}, \"bgcolor\": \"white\", \"caxis\": {\"gridcolor\": \"rgb(232,232,232)\", \"linecolor\": \"rgb(36,36,36)\", \"showgrid\": false, \"showline\": true, \"ticks\": \"outside\"}}, \"title\": {\"x\": 0.05}, \"xaxis\": {\"automargin\": true, \"gridcolor\": \"rgb(232,232,232)\", \"linecolor\": \"rgb(36,36,36)\", \"showgrid\": false, \"showline\": true, \"ticks\": \"outside\", \"title\": {\"standoff\": 15}, \"zeroline\": false, \"zerolinecolor\": \"rgb(36,36,36)\"}, \"yaxis\": {\"automargin\": true, \"gridcolor\": \"rgb(232,232,232)\", \"linecolor\": \"rgb(36,36,36)\", \"showgrid\": false, \"showline\": true, \"ticks\": \"outside\", \"title\": {\"standoff\": 15}, \"zeroline\": false, \"zerolinecolor\": \"rgb(36,36,36)\"}}}, \"xaxis\": {\"title\": {\"text\": \"Epoki\"}}, \"yaxis\": {\"title\": {\"text\": \"binary_crossentropy\"}}},\n",
              "                        {\"responsive\": true}\n",
              "                    ).then(function(){\n",
              "                            \n",
              "var gd = document.getElementById('e2d77391-5214-4e97-b434-be5f3d78faeb');\n",
              "var x = new MutationObserver(function (mutations, observer) {{\n",
              "        var display = window.getComputedStyle(gd).display;\n",
              "        if (!display || display === 'none') {{\n",
              "            console.log([gd, 'removed!']);\n",
              "            Plotly.purge(gd);\n",
              "            observer.disconnect();\n",
              "        }}\n",
              "}});\n",
              "\n",
              "// Listen for the removal of the full notebook cells\n",
              "var notebookContainer = gd.closest('#notebook-container');\n",
              "if (notebookContainer) {{\n",
              "    x.observe(notebookContainer, {childList: true});\n",
              "}}\n",
              "\n",
              "// Listen for the clearing of the current output cell\n",
              "var outputEl = gd.closest('.output');\n",
              "if (outputEl) {{\n",
              "    x.observe(outputEl, {childList: true});\n",
              "}}\n",
              "\n",
              "                        })\n",
              "                };\n",
              "                \n",
              "            </script>\n",
              "        </div>\n",
              "</body>\n",
              "</html>"
            ]
          },
          "metadata": {
            "tags": []
          }
        }
      ]
    },
    {
      "cell_type": "code",
      "metadata": {
        "id": "UjQX2lMlXq64"
      },
      "source": [
        "from tensorflow.keras.regularizers import l2\n",
        "l2_model = Sequential()\n",
        "l2_model.add(Dense(units = 16, kernel_regularizer = l2(0.001), activation = 'relu', input_shape = (NUM_WORDS,)))\n",
        "l2_model.add(Dense(units = 16, kernel_regularizer = l2(0.01), activation = 'relu'))\n",
        "l2_model.add(Dense(1, activation='sigmoid'))\n",
        "\n",
        "\n",
        "l2_model.compile(optimizer = 'adam',\n",
        "                 loss = 'binary_crossentropy',\n",
        "                 metrics = ['accuracy', 'binary_crossentropy'])\n"
      ],
      "execution_count": 48,
      "outputs": []
    },
    {
      "cell_type": "code",
      "metadata": {
        "id": "uS6SW9Dzo1OR",
        "outputId": "5cd2050a-7d1a-453a-954e-b60f41170ec1",
        "colab": {
          "base_uri": "https://localhost:8080/",
          "height": 709
        }
      },
      "source": [
        "l2_model_history = l2_model.fit(train_data, train_labels, epochs=20, batch_size=512, validation_data=(test_data, test_labels))"
      ],
      "execution_count": 49,
      "outputs": [
        {
          "output_type": "stream",
          "text": [
            "Epoch 1/20\n",
            "49/49 [==============================] - 2s 48ms/step - loss: 0.6285 - accuracy: 0.8156 - binary_crossentropy: 0.4633 - val_loss: 0.4880 - val_accuracy: 0.8760 - val_binary_crossentropy: 0.3319\n",
            "Epoch 2/20\n",
            "49/49 [==============================] - 2s 37ms/step - loss: 0.4035 - accuracy: 0.9120 - binary_crossentropy: 0.2520 - val_loss: 0.4323 - val_accuracy: 0.8876 - val_binary_crossentropy: 0.2878\n",
            "Epoch 3/20\n",
            "49/49 [==============================] - 2s 38ms/step - loss: 0.3439 - accuracy: 0.9287 - binary_crossentropy: 0.2048 - val_loss: 0.4193 - val_accuracy: 0.8843 - val_binary_crossentropy: 0.2861\n",
            "Epoch 4/20\n",
            "49/49 [==============================] - 2s 38ms/step - loss: 0.3103 - accuracy: 0.9385 - binary_crossentropy: 0.1811 - val_loss: 0.4124 - val_accuracy: 0.8844 - val_binary_crossentropy: 0.2878\n",
            "Epoch 5/20\n",
            "49/49 [==============================] - 2s 38ms/step - loss: 0.2880 - accuracy: 0.9455 - binary_crossentropy: 0.1666 - val_loss: 0.4219 - val_accuracy: 0.8771 - val_binary_crossentropy: 0.3042\n",
            "Epoch 6/20\n",
            "49/49 [==============================] - 2s 38ms/step - loss: 0.2726 - accuracy: 0.9479 - binary_crossentropy: 0.1575 - val_loss: 0.4128 - val_accuracy: 0.8789 - val_binary_crossentropy: 0.3005\n",
            "Epoch 7/20\n",
            "49/49 [==============================] - 2s 38ms/step - loss: 0.2592 - accuracy: 0.9520 - binary_crossentropy: 0.1489 - val_loss: 0.4135 - val_accuracy: 0.8774 - val_binary_crossentropy: 0.3058\n",
            "Epoch 8/20\n",
            "49/49 [==============================] - 2s 37ms/step - loss: 0.2491 - accuracy: 0.9546 - binary_crossentropy: 0.1433 - val_loss: 0.4168 - val_accuracy: 0.8752 - val_binary_crossentropy: 0.3130\n",
            "Epoch 9/20\n",
            "49/49 [==============================] - 2s 37ms/step - loss: 0.2426 - accuracy: 0.9553 - binary_crossentropy: 0.1399 - val_loss: 0.4315 - val_accuracy: 0.8707 - val_binary_crossentropy: 0.3304\n",
            "Epoch 10/20\n",
            "49/49 [==============================] - 2s 38ms/step - loss: 0.2359 - accuracy: 0.9558 - binary_crossentropy: 0.1357 - val_loss: 0.4226 - val_accuracy: 0.8724 - val_binary_crossentropy: 0.3237\n",
            "Epoch 11/20\n",
            "49/49 [==============================] - 2s 38ms/step - loss: 0.2317 - accuracy: 0.9564 - binary_crossentropy: 0.1334 - val_loss: 0.4351 - val_accuracy: 0.8691 - val_binary_crossentropy: 0.3378\n",
            "Epoch 12/20\n",
            "49/49 [==============================] - 2s 38ms/step - loss: 0.2261 - accuracy: 0.9574 - binary_crossentropy: 0.1293 - val_loss: 0.4272 - val_accuracy: 0.8708 - val_binary_crossentropy: 0.3314\n",
            "Epoch 13/20\n",
            "49/49 [==============================] - 2s 37ms/step - loss: 0.2210 - accuracy: 0.9593 - binary_crossentropy: 0.1257 - val_loss: 0.4321 - val_accuracy: 0.8711 - val_binary_crossentropy: 0.3376\n",
            "Epoch 14/20\n",
            "49/49 [==============================] - 2s 39ms/step - loss: 0.2175 - accuracy: 0.9603 - binary_crossentropy: 0.1235 - val_loss: 0.4383 - val_accuracy: 0.8676 - val_binary_crossentropy: 0.3452\n",
            "Epoch 15/20\n",
            "49/49 [==============================] - 2s 38ms/step - loss: 0.2138 - accuracy: 0.9617 - binary_crossentropy: 0.1209 - val_loss: 0.4363 - val_accuracy: 0.8688 - val_binary_crossentropy: 0.3443\n",
            "Epoch 16/20\n",
            "49/49 [==============================] - 2s 37ms/step - loss: 0.2117 - accuracy: 0.9617 - binary_crossentropy: 0.1198 - val_loss: 0.4444 - val_accuracy: 0.8676 - val_binary_crossentropy: 0.3530\n",
            "Epoch 17/20\n",
            "49/49 [==============================] - 2s 37ms/step - loss: 0.2087 - accuracy: 0.9622 - binary_crossentropy: 0.1175 - val_loss: 0.4594 - val_accuracy: 0.8644 - val_binary_crossentropy: 0.3687\n",
            "Epoch 18/20\n",
            "49/49 [==============================] - 2s 38ms/step - loss: 0.2067 - accuracy: 0.9627 - binary_crossentropy: 0.1160 - val_loss: 0.4510 - val_accuracy: 0.8652 - val_binary_crossentropy: 0.3608\n",
            "Epoch 19/20\n",
            "49/49 [==============================] - 2s 38ms/step - loss: 0.2033 - accuracy: 0.9637 - binary_crossentropy: 0.1133 - val_loss: 0.4509 - val_accuracy: 0.8665 - val_binary_crossentropy: 0.3615\n",
            "Epoch 20/20\n",
            "49/49 [==============================] - 2s 38ms/step - loss: 0.2016 - accuracy: 0.9632 - binary_crossentropy: 0.1125 - val_loss: 0.4772 - val_accuracy: 0.8598 - val_binary_crossentropy: 0.3886\n"
          ],
          "name": "stdout"
        }
      ]
    },
    {
      "cell_type": "code",
      "metadata": {
        "id": "608cH4w4u8Gw",
        "outputId": "7f120e63-3cba-4035-9676-cfa074ae5593",
        "colab": {
          "base_uri": "https://localhost:8080/",
          "height": 542
        }
      },
      "source": [
        "fig = go.Figure()\n",
        "for name, history in zip(['baseline', 'l2'], [baseline_history, l2_model_history]):\n",
        "    hist = pd.DataFrame(history.history)\n",
        "    hist['epoch'] = history.epoch\n",
        "    fig.add_trace(go.Scatter(x=hist['epoch'], y=hist['binary_crossentropy'], name=name + '_binary_crossentropy', mode='lines+markers'))\n",
        "    fig.add_trace(go.Scatter(x=hist['epoch'], y=hist['val_binary_crossentropy'], name=name + '_val_binary_crossentropy', mode='lines+markers'))\n",
        "    fig.update_layout(xaxis_title='Epoki', yaxis_title='binary_crossentropy')\n",
        "fig.show()\n"
      ],
      "execution_count": 50,
      "outputs": [
        {
          "output_type": "display_data",
          "data": {
            "text/html": [
              "<html>\n",
              "<head><meta charset=\"utf-8\" /></head>\n",
              "<body>\n",
              "    <div>\n",
              "            <script src=\"https://cdnjs.cloudflare.com/ajax/libs/mathjax/2.7.5/MathJax.js?config=TeX-AMS-MML_SVG\"></script><script type=\"text/javascript\">if (window.MathJax) {MathJax.Hub.Config({SVG: {font: \"STIX-Web\"}});}</script>\n",
              "                <script type=\"text/javascript\">window.PlotlyConfig = {MathJaxConfig: 'local'};</script>\n",
              "        <script src=\"https://cdn.plot.ly/plotly-latest.min.js\"></script>    \n",
              "            <div id=\"b7857b68-0fb8-4715-9953-6564480abd71\" class=\"plotly-graph-div\" style=\"height:525px; width:100%;\"></div>\n",
              "            <script type=\"text/javascript\">\n",
              "                \n",
              "                    window.PLOTLYENV=window.PLOTLYENV || {};\n",
              "                    \n",
              "                if (document.getElementById(\"b7857b68-0fb8-4715-9953-6564480abd71\")) {\n",
              "                    Plotly.newPlot(\n",
              "                        'b7857b68-0fb8-4715-9953-6564480abd71',\n",
              "                        [{\"mode\": \"lines+markers\", \"name\": \"baseline_binary_crossentropy\", \"type\": \"scatter\", \"x\": [0, 1, 2, 3, 4, 5, 6, 7, 8, 9, 10, 11, 12, 13, 14, 15, 16, 17, 18, 19], \"y\": [0.4819566011428833, 0.24958065152168274, 0.18292921781539917, 0.14506086707115173, 0.11782607436180115, 0.09441909193992615, 0.07693952322006226, 0.06171226128935814, 0.04887410253286362, 0.03788263350725174, 0.028665928170084953, 0.02171722985804081, 0.016400989145040512, 0.012570441700518131, 0.009806464426219463, 0.00765853188931942, 0.006061752792447805, 0.0048814681358635426, 0.004046118818223476, 0.003391269827261567]}, {\"mode\": \"lines+markers\", \"name\": \"baseline_val_binary_crossentropy\", \"type\": \"scatter\", \"x\": [0, 1, 2, 3, 4, 5, 6, 7, 8, 9, 10, 11, 12, 13, 14, 15, 16, 17, 18, 19], \"y\": [0.3387393057346344, 0.28357017040252686, 0.28920042514801025, 0.3098205029964447, 0.3314153850078583, 0.36018940806388855, 0.3924877345561981, 0.43395212292671204, 0.4704397916793823, 0.5057730078697205, 0.5417442321777344, 0.5733352899551392, 0.6097081303596497, 0.638225793838501, 0.6666509509086609, 0.695012629032135, 0.7182020545005798, 0.7455557584762573, 0.7682139277458191, 0.7913869619369507]}, {\"mode\": \"lines+markers\", \"name\": \"l2_binary_crossentropy\", \"type\": \"scatter\", \"x\": [0, 1, 2, 3, 4, 5, 6, 7, 8, 9, 10, 11, 12, 13, 14, 15, 16, 17, 18, 19], \"y\": [0.46332699060440063, 0.2520484924316406, 0.20484493672847748, 0.18108044564723969, 0.16664741933345795, 0.15750661492347717, 0.14889958500862122, 0.1432705521583557, 0.13985517621040344, 0.1357012391090393, 0.1333734095096588, 0.1293283849954605, 0.12571844458580017, 0.12354106456041336, 0.12092321366071701, 0.11976373195648193, 0.11745728552341461, 0.11603942513465881, 0.11331409960985184, 0.11249743402004242]}, {\"mode\": \"lines+markers\", \"name\": \"l2_val_binary_crossentropy\", \"type\": \"scatter\", \"x\": [0, 1, 2, 3, 4, 5, 6, 7, 8, 9, 10, 11, 12, 13, 14, 15, 16, 17, 18, 19], \"y\": [0.3319415748119354, 0.2878377437591553, 0.28606119751930237, 0.28777599334716797, 0.30416005849838257, 0.3005099594593048, 0.3058127462863922, 0.3130333721637726, 0.3304457664489746, 0.323702335357666, 0.3378080725669861, 0.3314170241355896, 0.337641179561615, 0.3451853394508362, 0.34426364302635193, 0.3530278205871582, 0.36871686577796936, 0.3607683479785919, 0.36154887080192566, 0.3885877728462219]}],\n",
              "                        {\"template\": {\"data\": {\"bar\": [{\"error_x\": {\"color\": \"#2a3f5f\"}, \"error_y\": {\"color\": \"#2a3f5f\"}, \"marker\": {\"line\": {\"color\": \"#E5ECF6\", \"width\": 0.5}}, \"type\": \"bar\"}], \"barpolar\": [{\"marker\": {\"line\": {\"color\": \"#E5ECF6\", \"width\": 0.5}}, \"type\": \"barpolar\"}], \"carpet\": [{\"aaxis\": {\"endlinecolor\": \"#2a3f5f\", \"gridcolor\": \"white\", \"linecolor\": \"white\", \"minorgridcolor\": \"white\", \"startlinecolor\": \"#2a3f5f\"}, \"baxis\": {\"endlinecolor\": \"#2a3f5f\", \"gridcolor\": \"white\", \"linecolor\": \"white\", \"minorgridcolor\": \"white\", \"startlinecolor\": \"#2a3f5f\"}, \"type\": \"carpet\"}], \"choropleth\": [{\"colorbar\": {\"outlinewidth\": 0, \"ticks\": \"\"}, \"type\": \"choropleth\"}], \"contour\": [{\"colorbar\": {\"outlinewidth\": 0, \"ticks\": \"\"}, \"colorscale\": [[0.0, \"#0d0887\"], [0.1111111111111111, \"#46039f\"], [0.2222222222222222, \"#7201a8\"], [0.3333333333333333, \"#9c179e\"], [0.4444444444444444, \"#bd3786\"], [0.5555555555555556, \"#d8576b\"], [0.6666666666666666, \"#ed7953\"], [0.7777777777777778, \"#fb9f3a\"], [0.8888888888888888, \"#fdca26\"], [1.0, \"#f0f921\"]], \"type\": \"contour\"}], \"contourcarpet\": [{\"colorbar\": {\"outlinewidth\": 0, \"ticks\": \"\"}, \"type\": \"contourcarpet\"}], \"heatmap\": [{\"colorbar\": {\"outlinewidth\": 0, \"ticks\": \"\"}, \"colorscale\": [[0.0, \"#0d0887\"], [0.1111111111111111, \"#46039f\"], [0.2222222222222222, \"#7201a8\"], [0.3333333333333333, \"#9c179e\"], [0.4444444444444444, \"#bd3786\"], [0.5555555555555556, \"#d8576b\"], [0.6666666666666666, \"#ed7953\"], [0.7777777777777778, \"#fb9f3a\"], [0.8888888888888888, \"#fdca26\"], [1.0, \"#f0f921\"]], \"type\": \"heatmap\"}], \"heatmapgl\": [{\"colorbar\": {\"outlinewidth\": 0, \"ticks\": \"\"}, \"colorscale\": [[0.0, \"#0d0887\"], [0.1111111111111111, \"#46039f\"], [0.2222222222222222, \"#7201a8\"], [0.3333333333333333, \"#9c179e\"], [0.4444444444444444, \"#bd3786\"], [0.5555555555555556, \"#d8576b\"], [0.6666666666666666, \"#ed7953\"], [0.7777777777777778, \"#fb9f3a\"], [0.8888888888888888, \"#fdca26\"], [1.0, \"#f0f921\"]], \"type\": \"heatmapgl\"}], \"histogram\": [{\"marker\": {\"colorbar\": {\"outlinewidth\": 0, \"ticks\": \"\"}}, \"type\": \"histogram\"}], \"histogram2d\": [{\"colorbar\": {\"outlinewidth\": 0, \"ticks\": \"\"}, \"colorscale\": [[0.0, \"#0d0887\"], [0.1111111111111111, \"#46039f\"], [0.2222222222222222, \"#7201a8\"], [0.3333333333333333, \"#9c179e\"], [0.4444444444444444, \"#bd3786\"], [0.5555555555555556, \"#d8576b\"], [0.6666666666666666, \"#ed7953\"], [0.7777777777777778, \"#fb9f3a\"], [0.8888888888888888, \"#fdca26\"], [1.0, \"#f0f921\"]], \"type\": \"histogram2d\"}], \"histogram2dcontour\": [{\"colorbar\": {\"outlinewidth\": 0, \"ticks\": \"\"}, \"colorscale\": [[0.0, \"#0d0887\"], [0.1111111111111111, \"#46039f\"], [0.2222222222222222, \"#7201a8\"], [0.3333333333333333, \"#9c179e\"], [0.4444444444444444, \"#bd3786\"], [0.5555555555555556, \"#d8576b\"], [0.6666666666666666, \"#ed7953\"], [0.7777777777777778, \"#fb9f3a\"], [0.8888888888888888, \"#fdca26\"], [1.0, \"#f0f921\"]], \"type\": \"histogram2dcontour\"}], \"mesh3d\": [{\"colorbar\": {\"outlinewidth\": 0, \"ticks\": \"\"}, \"type\": \"mesh3d\"}], \"parcoords\": [{\"line\": {\"colorbar\": {\"outlinewidth\": 0, \"ticks\": \"\"}}, \"type\": \"parcoords\"}], \"pie\": [{\"automargin\": true, \"type\": \"pie\"}], \"scatter\": [{\"marker\": {\"colorbar\": {\"outlinewidth\": 0, \"ticks\": \"\"}}, \"type\": \"scatter\"}], \"scatter3d\": [{\"line\": {\"colorbar\": {\"outlinewidth\": 0, \"ticks\": \"\"}}, \"marker\": {\"colorbar\": {\"outlinewidth\": 0, \"ticks\": \"\"}}, \"type\": \"scatter3d\"}], \"scattercarpet\": [{\"marker\": {\"colorbar\": {\"outlinewidth\": 0, \"ticks\": \"\"}}, \"type\": \"scattercarpet\"}], \"scattergeo\": [{\"marker\": {\"colorbar\": {\"outlinewidth\": 0, \"ticks\": \"\"}}, \"type\": \"scattergeo\"}], \"scattergl\": [{\"marker\": {\"colorbar\": {\"outlinewidth\": 0, \"ticks\": \"\"}}, \"type\": \"scattergl\"}], \"scattermapbox\": [{\"marker\": {\"colorbar\": {\"outlinewidth\": 0, \"ticks\": \"\"}}, \"type\": \"scattermapbox\"}], \"scatterpolar\": [{\"marker\": {\"colorbar\": {\"outlinewidth\": 0, \"ticks\": \"\"}}, \"type\": \"scatterpolar\"}], \"scatterpolargl\": [{\"marker\": {\"colorbar\": {\"outlinewidth\": 0, \"ticks\": \"\"}}, \"type\": \"scatterpolargl\"}], \"scatterternary\": [{\"marker\": {\"colorbar\": {\"outlinewidth\": 0, \"ticks\": \"\"}}, \"type\": \"scatterternary\"}], \"surface\": [{\"colorbar\": {\"outlinewidth\": 0, \"ticks\": \"\"}, \"colorscale\": [[0.0, \"#0d0887\"], [0.1111111111111111, \"#46039f\"], [0.2222222222222222, \"#7201a8\"], [0.3333333333333333, \"#9c179e\"], [0.4444444444444444, \"#bd3786\"], [0.5555555555555556, \"#d8576b\"], [0.6666666666666666, \"#ed7953\"], [0.7777777777777778, \"#fb9f3a\"], [0.8888888888888888, \"#fdca26\"], [1.0, \"#f0f921\"]], \"type\": \"surface\"}], \"table\": [{\"cells\": {\"fill\": {\"color\": \"#EBF0F8\"}, \"line\": {\"color\": \"white\"}}, \"header\": {\"fill\": {\"color\": \"#C8D4E3\"}, \"line\": {\"color\": \"white\"}}, \"type\": \"table\"}]}, \"layout\": {\"annotationdefaults\": {\"arrowcolor\": \"#2a3f5f\", \"arrowhead\": 0, \"arrowwidth\": 1}, \"coloraxis\": {\"colorbar\": {\"outlinewidth\": 0, \"ticks\": \"\"}}, \"colorscale\": {\"diverging\": [[0, \"#8e0152\"], [0.1, \"#c51b7d\"], [0.2, \"#de77ae\"], [0.3, \"#f1b6da\"], [0.4, \"#fde0ef\"], [0.5, \"#f7f7f7\"], [0.6, \"#e6f5d0\"], [0.7, \"#b8e186\"], [0.8, \"#7fbc41\"], [0.9, \"#4d9221\"], [1, \"#276419\"]], \"sequential\": [[0.0, \"#0d0887\"], [0.1111111111111111, \"#46039f\"], [0.2222222222222222, \"#7201a8\"], [0.3333333333333333, \"#9c179e\"], [0.4444444444444444, \"#bd3786\"], [0.5555555555555556, \"#d8576b\"], [0.6666666666666666, \"#ed7953\"], [0.7777777777777778, \"#fb9f3a\"], [0.8888888888888888, \"#fdca26\"], [1.0, \"#f0f921\"]], \"sequentialminus\": [[0.0, \"#0d0887\"], [0.1111111111111111, \"#46039f\"], [0.2222222222222222, \"#7201a8\"], [0.3333333333333333, \"#9c179e\"], [0.4444444444444444, \"#bd3786\"], [0.5555555555555556, \"#d8576b\"], [0.6666666666666666, \"#ed7953\"], [0.7777777777777778, \"#fb9f3a\"], [0.8888888888888888, \"#fdca26\"], [1.0, \"#f0f921\"]]}, \"colorway\": [\"#636efa\", \"#EF553B\", \"#00cc96\", \"#ab63fa\", \"#FFA15A\", \"#19d3f3\", \"#FF6692\", \"#B6E880\", \"#FF97FF\", \"#FECB52\"], \"font\": {\"color\": \"#2a3f5f\"}, \"geo\": {\"bgcolor\": \"white\", \"lakecolor\": \"white\", \"landcolor\": \"#E5ECF6\", \"showlakes\": true, \"showland\": true, \"subunitcolor\": \"white\"}, \"hoverlabel\": {\"align\": \"left\"}, \"hovermode\": \"closest\", \"mapbox\": {\"style\": \"light\"}, \"paper_bgcolor\": \"white\", \"plot_bgcolor\": \"#E5ECF6\", \"polar\": {\"angularaxis\": {\"gridcolor\": \"white\", \"linecolor\": \"white\", \"ticks\": \"\"}, \"bgcolor\": \"#E5ECF6\", \"radialaxis\": {\"gridcolor\": \"white\", \"linecolor\": \"white\", \"ticks\": \"\"}}, \"scene\": {\"xaxis\": {\"backgroundcolor\": \"#E5ECF6\", \"gridcolor\": \"white\", \"gridwidth\": 2, \"linecolor\": \"white\", \"showbackground\": true, \"ticks\": \"\", \"zerolinecolor\": \"white\"}, \"yaxis\": {\"backgroundcolor\": \"#E5ECF6\", \"gridcolor\": \"white\", \"gridwidth\": 2, \"linecolor\": \"white\", \"showbackground\": true, \"ticks\": \"\", \"zerolinecolor\": \"white\"}, \"zaxis\": {\"backgroundcolor\": \"#E5ECF6\", \"gridcolor\": \"white\", \"gridwidth\": 2, \"linecolor\": \"white\", \"showbackground\": true, \"ticks\": \"\", \"zerolinecolor\": \"white\"}}, \"shapedefaults\": {\"line\": {\"color\": \"#2a3f5f\"}}, \"ternary\": {\"aaxis\": {\"gridcolor\": \"white\", \"linecolor\": \"white\", \"ticks\": \"\"}, \"baxis\": {\"gridcolor\": \"white\", \"linecolor\": \"white\", \"ticks\": \"\"}, \"bgcolor\": \"#E5ECF6\", \"caxis\": {\"gridcolor\": \"white\", \"linecolor\": \"white\", \"ticks\": \"\"}}, \"title\": {\"x\": 0.05}, \"xaxis\": {\"automargin\": true, \"gridcolor\": \"white\", \"linecolor\": \"white\", \"ticks\": \"\", \"title\": {\"standoff\": 15}, \"zerolinecolor\": \"white\", \"zerolinewidth\": 2}, \"yaxis\": {\"automargin\": true, \"gridcolor\": \"white\", \"linecolor\": \"white\", \"ticks\": \"\", \"title\": {\"standoff\": 15}, \"zerolinecolor\": \"white\", \"zerolinewidth\": 2}}}, \"xaxis\": {\"title\": {\"text\": \"Epoki\"}}, \"yaxis\": {\"title\": {\"text\": \"binary_crossentropy\"}}},\n",
              "                        {\"responsive\": true}\n",
              "                    ).then(function(){\n",
              "                            \n",
              "var gd = document.getElementById('b7857b68-0fb8-4715-9953-6564480abd71');\n",
              "var x = new MutationObserver(function (mutations, observer) {{\n",
              "        var display = window.getComputedStyle(gd).display;\n",
              "        if (!display || display === 'none') {{\n",
              "            console.log([gd, 'removed!']);\n",
              "            Plotly.purge(gd);\n",
              "            observer.disconnect();\n",
              "        }}\n",
              "}});\n",
              "\n",
              "// Listen for the removal of the full notebook cells\n",
              "var notebookContainer = gd.closest('#notebook-container');\n",
              "if (notebookContainer) {{\n",
              "    x.observe(notebookContainer, {childList: true});\n",
              "}}\n",
              "\n",
              "// Listen for the clearing of the current output cell\n",
              "var outputEl = gd.closest('.output');\n",
              "if (outputEl) {{\n",
              "    x.observe(outputEl, {childList: true});\n",
              "}}\n",
              "\n",
              "                        })\n",
              "                };\n",
              "                \n",
              "            </script>\n",
              "        </div>\n",
              "</body>\n",
              "</html>"
            ]
          },
          "metadata": {
            "tags": []
          }
        }
      ]
    },
    {
      "cell_type": "code",
      "metadata": {
        "id": "jpPSOgnKvpBZ",
        "outputId": "0e650eca-2ea7-4160-af71-b5d9af2e7701",
        "colab": {
          "base_uri": "https://localhost:8080/",
          "height": 319
        }
      },
      "source": [
        "from tensorflow.keras.layers import Dropout\n",
        "\n",
        "dropout_model = Sequential()\n",
        "dropout_model.add(Dense(16, activation='relu', input_shape=(NUM_WORDS,)))\n",
        "dropout_model.add(Dropout(0.5))\n",
        "dropout_model.add(Dense(16, activation='relu'))\n",
        "dropout_model.add(Dropout(0.5))\n",
        "dropout_model.add(Dense(1, activation='sigmoid'))\n",
        "\n",
        "dropout_model.compile(optimizer='adam',\n",
        "                 loss='binary_crossentropy',\n",
        "                 metrics=['accuracy', 'binary_crossentropy'])\n",
        "\n",
        "dropout_model.summary()"
      ],
      "execution_count": 51,
      "outputs": [
        {
          "output_type": "stream",
          "text": [
            "Model: \"sequential_6\"\n",
            "_________________________________________________________________\n",
            "Layer (type)                 Output Shape              Param #   \n",
            "=================================================================\n",
            "dense_15 (Dense)             (None, 16)                160016    \n",
            "_________________________________________________________________\n",
            "dropout (Dropout)            (None, 16)                0         \n",
            "_________________________________________________________________\n",
            "dense_16 (Dense)             (None, 16)                272       \n",
            "_________________________________________________________________\n",
            "dropout_1 (Dropout)          (None, 16)                0         \n",
            "_________________________________________________________________\n",
            "dense_17 (Dense)             (None, 1)                 17        \n",
            "=================================================================\n",
            "Total params: 160,305\n",
            "Trainable params: 160,305\n",
            "Non-trainable params: 0\n",
            "_________________________________________________________________\n"
          ],
          "name": "stdout"
        }
      ]
    },
    {
      "cell_type": "code",
      "metadata": {
        "id": "2Vl6RYuAvuRn",
        "outputId": "74b8f55e-d7c7-4ac1-cc3c-ae6192c2ed27",
        "colab": {
          "base_uri": "https://localhost:8080/",
          "height": 709
        }
      },
      "source": [
        "dropout_history = dropout_model.fit(train_data, train_labels, epochs=20, batch_size=512, validation_data=(test_data, test_labels))"
      ],
      "execution_count": 52,
      "outputs": [
        {
          "output_type": "stream",
          "text": [
            "Epoch 1/20\n",
            "49/49 [==============================] - 8s 160ms/step - loss: 0.6150 - accuracy: 0.6565 - binary_crossentropy: 0.6150 - val_loss: 0.4623 - val_accuracy: 0.8549 - val_binary_crossentropy: 0.4623\n",
            "Epoch 2/20\n",
            "49/49 [==============================] - 2s 36ms/step - loss: 0.4436 - accuracy: 0.8130 - binary_crossentropy: 0.4436 - val_loss: 0.3343 - val_accuracy: 0.8807 - val_binary_crossentropy: 0.3343\n",
            "Epoch 3/20\n",
            "49/49 [==============================] - 2s 34ms/step - loss: 0.3418 - accuracy: 0.8737 - binary_crossentropy: 0.3418 - val_loss: 0.2860 - val_accuracy: 0.8874 - val_binary_crossentropy: 0.2860\n",
            "Epoch 4/20\n",
            "49/49 [==============================] - 2s 35ms/step - loss: 0.2804 - accuracy: 0.9030 - binary_crossentropy: 0.2804 - val_loss: 0.2752 - val_accuracy: 0.8872 - val_binary_crossentropy: 0.2752\n",
            "Epoch 5/20\n",
            "49/49 [==============================] - 2s 35ms/step - loss: 0.2424 - accuracy: 0.9196 - binary_crossentropy: 0.2424 - val_loss: 0.2790 - val_accuracy: 0.8873 - val_binary_crossentropy: 0.2790\n",
            "Epoch 6/20\n",
            "49/49 [==============================] - 2s 34ms/step - loss: 0.2085 - accuracy: 0.9335 - binary_crossentropy: 0.2085 - val_loss: 0.2905 - val_accuracy: 0.8849 - val_binary_crossentropy: 0.2905\n",
            "Epoch 7/20\n",
            "49/49 [==============================] - 2s 34ms/step - loss: 0.1907 - accuracy: 0.9386 - binary_crossentropy: 0.1907 - val_loss: 0.3030 - val_accuracy: 0.8819 - val_binary_crossentropy: 0.3030\n",
            "Epoch 8/20\n",
            "49/49 [==============================] - 2s 35ms/step - loss: 0.1669 - accuracy: 0.9465 - binary_crossentropy: 0.1669 - val_loss: 0.3135 - val_accuracy: 0.8814 - val_binary_crossentropy: 0.3135\n",
            "Epoch 9/20\n",
            "49/49 [==============================] - 2s 36ms/step - loss: 0.1511 - accuracy: 0.9505 - binary_crossentropy: 0.1511 - val_loss: 0.3361 - val_accuracy: 0.8800 - val_binary_crossentropy: 0.3361\n",
            "Epoch 10/20\n",
            "49/49 [==============================] - 2s 34ms/step - loss: 0.1375 - accuracy: 0.9546 - binary_crossentropy: 0.1375 - val_loss: 0.3632 - val_accuracy: 0.8788 - val_binary_crossentropy: 0.3632\n",
            "Epoch 11/20\n",
            "49/49 [==============================] - 2s 35ms/step - loss: 0.1215 - accuracy: 0.9607 - binary_crossentropy: 0.1215 - val_loss: 0.3872 - val_accuracy: 0.8800 - val_binary_crossentropy: 0.3872\n",
            "Epoch 12/20\n",
            "49/49 [==============================] - 2s 35ms/step - loss: 0.1110 - accuracy: 0.9653 - binary_crossentropy: 0.1110 - val_loss: 0.3946 - val_accuracy: 0.8766 - val_binary_crossentropy: 0.3946\n",
            "Epoch 13/20\n",
            "49/49 [==============================] - 2s 35ms/step - loss: 0.1020 - accuracy: 0.9674 - binary_crossentropy: 0.1020 - val_loss: 0.4250 - val_accuracy: 0.8758 - val_binary_crossentropy: 0.4250\n",
            "Epoch 14/20\n",
            "49/49 [==============================] - 2s 35ms/step - loss: 0.0957 - accuracy: 0.9704 - binary_crossentropy: 0.0957 - val_loss: 0.4601 - val_accuracy: 0.8748 - val_binary_crossentropy: 0.4601\n",
            "Epoch 15/20\n",
            "49/49 [==============================] - 2s 35ms/step - loss: 0.0911 - accuracy: 0.9720 - binary_crossentropy: 0.0911 - val_loss: 0.4774 - val_accuracy: 0.8749 - val_binary_crossentropy: 0.4774\n",
            "Epoch 16/20\n",
            "49/49 [==============================] - 2s 34ms/step - loss: 0.0813 - accuracy: 0.9758 - binary_crossentropy: 0.0813 - val_loss: 0.4741 - val_accuracy: 0.8723 - val_binary_crossentropy: 0.4741\n",
            "Epoch 17/20\n",
            "49/49 [==============================] - 2s 35ms/step - loss: 0.0791 - accuracy: 0.9754 - binary_crossentropy: 0.0791 - val_loss: 0.5122 - val_accuracy: 0.8719 - val_binary_crossentropy: 0.5122\n",
            "Epoch 18/20\n",
            "49/49 [==============================] - 2s 35ms/step - loss: 0.0750 - accuracy: 0.9771 - binary_crossentropy: 0.0750 - val_loss: 0.5415 - val_accuracy: 0.8725 - val_binary_crossentropy: 0.5415\n",
            "Epoch 19/20\n",
            "49/49 [==============================] - 2s 35ms/step - loss: 0.0729 - accuracy: 0.9781 - binary_crossentropy: 0.0729 - val_loss: 0.5738 - val_accuracy: 0.8719 - val_binary_crossentropy: 0.5738\n",
            "Epoch 20/20\n",
            "49/49 [==============================] - 2s 36ms/step - loss: 0.0667 - accuracy: 0.9792 - binary_crossentropy: 0.0667 - val_loss: 0.6038 - val_accuracy: 0.8718 - val_binary_crossentropy: 0.6038\n"
          ],
          "name": "stdout"
        }
      ]
    },
    {
      "cell_type": "code",
      "metadata": {
        "id": "-PGvjDoivyCy",
        "outputId": "54a02c2e-2645-4364-917a-8c9ff4343b1d",
        "colab": {
          "base_uri": "https://localhost:8080/",
          "height": 542
        }
      },
      "source": [
        "fig = go.Figure()\n",
        "for name, history in zip(['baseline', 'dropout'], [baseline_history, dropout_history]):\n",
        "    hist = pd.DataFrame(history.history)\n",
        "    hist['epoch'] = history.epoch\n",
        "    fig.add_trace(go.Scatter(x=hist['epoch'], y=hist['binary_crossentropy'], name=name + '_binary_crossentropy', mode='lines+markers'))\n",
        "    fig.add_trace(go.Scatter(x=hist['epoch'], y=hist['val_binary_crossentropy'], name=name + '_val_binary_crossentropy', mode='lines+markers'))\n",
        "    fig.update_layout(xaxis_title='Epoki', yaxis_title='binary_crossentropy')\n",
        "fig.show()"
      ],
      "execution_count": 53,
      "outputs": [
        {
          "output_type": "display_data",
          "data": {
            "text/html": [
              "<html>\n",
              "<head><meta charset=\"utf-8\" /></head>\n",
              "<body>\n",
              "    <div>\n",
              "            <script src=\"https://cdnjs.cloudflare.com/ajax/libs/mathjax/2.7.5/MathJax.js?config=TeX-AMS-MML_SVG\"></script><script type=\"text/javascript\">if (window.MathJax) {MathJax.Hub.Config({SVG: {font: \"STIX-Web\"}});}</script>\n",
              "                <script type=\"text/javascript\">window.PlotlyConfig = {MathJaxConfig: 'local'};</script>\n",
              "        <script src=\"https://cdn.plot.ly/plotly-latest.min.js\"></script>    \n",
              "            <div id=\"58bc6b04-0265-4e43-8cfa-d927aa3e5955\" class=\"plotly-graph-div\" style=\"height:525px; width:100%;\"></div>\n",
              "            <script type=\"text/javascript\">\n",
              "                \n",
              "                    window.PLOTLYENV=window.PLOTLYENV || {};\n",
              "                    \n",
              "                if (document.getElementById(\"58bc6b04-0265-4e43-8cfa-d927aa3e5955\")) {\n",
              "                    Plotly.newPlot(\n",
              "                        '58bc6b04-0265-4e43-8cfa-d927aa3e5955',\n",
              "                        [{\"mode\": \"lines+markers\", \"name\": \"baseline_binary_crossentropy\", \"type\": \"scatter\", \"x\": [0, 1, 2, 3, 4, 5, 6, 7, 8, 9, 10, 11, 12, 13, 14, 15, 16, 17, 18, 19], \"y\": [0.4819566011428833, 0.24958065152168274, 0.18292921781539917, 0.14506086707115173, 0.11782607436180115, 0.09441909193992615, 0.07693952322006226, 0.06171226128935814, 0.04887410253286362, 0.03788263350725174, 0.028665928170084953, 0.02171722985804081, 0.016400989145040512, 0.012570441700518131, 0.009806464426219463, 0.00765853188931942, 0.006061752792447805, 0.0048814681358635426, 0.004046118818223476, 0.003391269827261567]}, {\"mode\": \"lines+markers\", \"name\": \"baseline_val_binary_crossentropy\", \"type\": \"scatter\", \"x\": [0, 1, 2, 3, 4, 5, 6, 7, 8, 9, 10, 11, 12, 13, 14, 15, 16, 17, 18, 19], \"y\": [0.3387393057346344, 0.28357017040252686, 0.28920042514801025, 0.3098205029964447, 0.3314153850078583, 0.36018940806388855, 0.3924877345561981, 0.43395212292671204, 0.4704397916793823, 0.5057730078697205, 0.5417442321777344, 0.5733352899551392, 0.6097081303596497, 0.638225793838501, 0.6666509509086609, 0.695012629032135, 0.7182020545005798, 0.7455557584762573, 0.7682139277458191, 0.7913869619369507]}, {\"mode\": \"lines+markers\", \"name\": \"dropout_binary_crossentropy\", \"type\": \"scatter\", \"x\": [0, 1, 2, 3, 4, 5, 6, 7, 8, 9, 10, 11, 12, 13, 14, 15, 16, 17, 18, 19], \"y\": [0.6150232553482056, 0.44364964962005615, 0.34176430106163025, 0.2803829610347748, 0.24239039421081543, 0.2084559053182602, 0.19068250060081482, 0.16693760454654694, 0.15108852088451385, 0.1375274658203125, 0.12148681282997131, 0.11098703742027283, 0.10198843479156494, 0.09570891410112381, 0.09110492467880249, 0.08132213354110718, 0.07913045585155487, 0.074985072016716, 0.07293865084648132, 0.06668822467327118]}, {\"mode\": \"lines+markers\", \"name\": \"dropout_val_binary_crossentropy\", \"type\": \"scatter\", \"x\": [0, 1, 2, 3, 4, 5, 6, 7, 8, 9, 10, 11, 12, 13, 14, 15, 16, 17, 18, 19], \"y\": [0.46227824687957764, 0.33431416749954224, 0.28601667284965515, 0.2751716673374176, 0.2790204584598541, 0.29051774740219116, 0.303021103143692, 0.31354987621307373, 0.33610799908638, 0.3632080852985382, 0.3872140347957611, 0.3946211338043213, 0.42501184344291687, 0.46007105708122253, 0.47736743092536926, 0.4741485118865967, 0.5121586918830872, 0.5415409207344055, 0.5738124847412109, 0.6037804484367371]}],\n",
              "                        {\"template\": {\"data\": {\"bar\": [{\"error_x\": {\"color\": \"#2a3f5f\"}, \"error_y\": {\"color\": \"#2a3f5f\"}, \"marker\": {\"line\": {\"color\": \"#E5ECF6\", \"width\": 0.5}}, \"type\": \"bar\"}], \"barpolar\": [{\"marker\": {\"line\": {\"color\": \"#E5ECF6\", \"width\": 0.5}}, \"type\": \"barpolar\"}], \"carpet\": [{\"aaxis\": {\"endlinecolor\": \"#2a3f5f\", \"gridcolor\": \"white\", \"linecolor\": \"white\", \"minorgridcolor\": \"white\", \"startlinecolor\": \"#2a3f5f\"}, \"baxis\": {\"endlinecolor\": \"#2a3f5f\", \"gridcolor\": \"white\", \"linecolor\": \"white\", \"minorgridcolor\": \"white\", \"startlinecolor\": \"#2a3f5f\"}, \"type\": \"carpet\"}], \"choropleth\": [{\"colorbar\": {\"outlinewidth\": 0, \"ticks\": \"\"}, \"type\": \"choropleth\"}], \"contour\": [{\"colorbar\": {\"outlinewidth\": 0, \"ticks\": \"\"}, \"colorscale\": [[0.0, \"#0d0887\"], [0.1111111111111111, \"#46039f\"], [0.2222222222222222, \"#7201a8\"], [0.3333333333333333, \"#9c179e\"], [0.4444444444444444, \"#bd3786\"], [0.5555555555555556, \"#d8576b\"], [0.6666666666666666, \"#ed7953\"], [0.7777777777777778, \"#fb9f3a\"], [0.8888888888888888, \"#fdca26\"], [1.0, \"#f0f921\"]], \"type\": \"contour\"}], \"contourcarpet\": [{\"colorbar\": {\"outlinewidth\": 0, \"ticks\": \"\"}, \"type\": \"contourcarpet\"}], \"heatmap\": [{\"colorbar\": {\"outlinewidth\": 0, \"ticks\": \"\"}, \"colorscale\": [[0.0, \"#0d0887\"], [0.1111111111111111, \"#46039f\"], [0.2222222222222222, \"#7201a8\"], [0.3333333333333333, \"#9c179e\"], [0.4444444444444444, \"#bd3786\"], [0.5555555555555556, \"#d8576b\"], [0.6666666666666666, \"#ed7953\"], [0.7777777777777778, \"#fb9f3a\"], [0.8888888888888888, \"#fdca26\"], [1.0, \"#f0f921\"]], \"type\": \"heatmap\"}], \"heatmapgl\": [{\"colorbar\": {\"outlinewidth\": 0, \"ticks\": \"\"}, \"colorscale\": [[0.0, \"#0d0887\"], [0.1111111111111111, \"#46039f\"], [0.2222222222222222, \"#7201a8\"], [0.3333333333333333, \"#9c179e\"], [0.4444444444444444, \"#bd3786\"], [0.5555555555555556, \"#d8576b\"], [0.6666666666666666, \"#ed7953\"], [0.7777777777777778, \"#fb9f3a\"], [0.8888888888888888, \"#fdca26\"], [1.0, \"#f0f921\"]], \"type\": \"heatmapgl\"}], \"histogram\": [{\"marker\": {\"colorbar\": {\"outlinewidth\": 0, \"ticks\": \"\"}}, \"type\": \"histogram\"}], \"histogram2d\": [{\"colorbar\": {\"outlinewidth\": 0, \"ticks\": \"\"}, \"colorscale\": [[0.0, \"#0d0887\"], [0.1111111111111111, \"#46039f\"], [0.2222222222222222, \"#7201a8\"], [0.3333333333333333, \"#9c179e\"], [0.4444444444444444, \"#bd3786\"], [0.5555555555555556, \"#d8576b\"], [0.6666666666666666, \"#ed7953\"], [0.7777777777777778, \"#fb9f3a\"], [0.8888888888888888, \"#fdca26\"], [1.0, \"#f0f921\"]], \"type\": \"histogram2d\"}], \"histogram2dcontour\": [{\"colorbar\": {\"outlinewidth\": 0, \"ticks\": \"\"}, \"colorscale\": [[0.0, \"#0d0887\"], [0.1111111111111111, \"#46039f\"], [0.2222222222222222, \"#7201a8\"], [0.3333333333333333, \"#9c179e\"], [0.4444444444444444, \"#bd3786\"], [0.5555555555555556, \"#d8576b\"], [0.6666666666666666, \"#ed7953\"], [0.7777777777777778, \"#fb9f3a\"], [0.8888888888888888, \"#fdca26\"], [1.0, \"#f0f921\"]], \"type\": \"histogram2dcontour\"}], \"mesh3d\": [{\"colorbar\": {\"outlinewidth\": 0, \"ticks\": \"\"}, \"type\": \"mesh3d\"}], \"parcoords\": [{\"line\": {\"colorbar\": {\"outlinewidth\": 0, \"ticks\": \"\"}}, \"type\": \"parcoords\"}], \"pie\": [{\"automargin\": true, \"type\": \"pie\"}], \"scatter\": [{\"marker\": {\"colorbar\": {\"outlinewidth\": 0, \"ticks\": \"\"}}, \"type\": \"scatter\"}], \"scatter3d\": [{\"line\": {\"colorbar\": {\"outlinewidth\": 0, \"ticks\": \"\"}}, \"marker\": {\"colorbar\": {\"outlinewidth\": 0, \"ticks\": \"\"}}, \"type\": \"scatter3d\"}], \"scattercarpet\": [{\"marker\": {\"colorbar\": {\"outlinewidth\": 0, \"ticks\": \"\"}}, \"type\": \"scattercarpet\"}], \"scattergeo\": [{\"marker\": {\"colorbar\": {\"outlinewidth\": 0, \"ticks\": \"\"}}, \"type\": \"scattergeo\"}], \"scattergl\": [{\"marker\": {\"colorbar\": {\"outlinewidth\": 0, \"ticks\": \"\"}}, \"type\": \"scattergl\"}], \"scattermapbox\": [{\"marker\": {\"colorbar\": {\"outlinewidth\": 0, \"ticks\": \"\"}}, \"type\": \"scattermapbox\"}], \"scatterpolar\": [{\"marker\": {\"colorbar\": {\"outlinewidth\": 0, \"ticks\": \"\"}}, \"type\": \"scatterpolar\"}], \"scatterpolargl\": [{\"marker\": {\"colorbar\": {\"outlinewidth\": 0, \"ticks\": \"\"}}, \"type\": \"scatterpolargl\"}], \"scatterternary\": [{\"marker\": {\"colorbar\": {\"outlinewidth\": 0, \"ticks\": \"\"}}, \"type\": \"scatterternary\"}], \"surface\": [{\"colorbar\": {\"outlinewidth\": 0, \"ticks\": \"\"}, \"colorscale\": [[0.0, \"#0d0887\"], [0.1111111111111111, \"#46039f\"], [0.2222222222222222, \"#7201a8\"], [0.3333333333333333, \"#9c179e\"], [0.4444444444444444, \"#bd3786\"], [0.5555555555555556, \"#d8576b\"], [0.6666666666666666, \"#ed7953\"], [0.7777777777777778, \"#fb9f3a\"], [0.8888888888888888, \"#fdca26\"], [1.0, \"#f0f921\"]], \"type\": \"surface\"}], \"table\": [{\"cells\": {\"fill\": {\"color\": \"#EBF0F8\"}, \"line\": {\"color\": \"white\"}}, \"header\": {\"fill\": {\"color\": \"#C8D4E3\"}, \"line\": {\"color\": \"white\"}}, \"type\": \"table\"}]}, \"layout\": {\"annotationdefaults\": {\"arrowcolor\": \"#2a3f5f\", \"arrowhead\": 0, \"arrowwidth\": 1}, \"coloraxis\": {\"colorbar\": {\"outlinewidth\": 0, \"ticks\": \"\"}}, \"colorscale\": {\"diverging\": [[0, \"#8e0152\"], [0.1, \"#c51b7d\"], [0.2, \"#de77ae\"], [0.3, \"#f1b6da\"], [0.4, \"#fde0ef\"], [0.5, \"#f7f7f7\"], [0.6, \"#e6f5d0\"], [0.7, \"#b8e186\"], [0.8, \"#7fbc41\"], [0.9, \"#4d9221\"], [1, \"#276419\"]], \"sequential\": [[0.0, \"#0d0887\"], [0.1111111111111111, \"#46039f\"], [0.2222222222222222, \"#7201a8\"], [0.3333333333333333, \"#9c179e\"], [0.4444444444444444, \"#bd3786\"], [0.5555555555555556, \"#d8576b\"], [0.6666666666666666, \"#ed7953\"], [0.7777777777777778, \"#fb9f3a\"], [0.8888888888888888, \"#fdca26\"], [1.0, \"#f0f921\"]], \"sequentialminus\": [[0.0, \"#0d0887\"], [0.1111111111111111, \"#46039f\"], [0.2222222222222222, \"#7201a8\"], [0.3333333333333333, \"#9c179e\"], [0.4444444444444444, \"#bd3786\"], [0.5555555555555556, \"#d8576b\"], [0.6666666666666666, \"#ed7953\"], [0.7777777777777778, \"#fb9f3a\"], [0.8888888888888888, \"#fdca26\"], [1.0, \"#f0f921\"]]}, \"colorway\": [\"#636efa\", \"#EF553B\", \"#00cc96\", \"#ab63fa\", \"#FFA15A\", \"#19d3f3\", \"#FF6692\", \"#B6E880\", \"#FF97FF\", \"#FECB52\"], \"font\": {\"color\": \"#2a3f5f\"}, \"geo\": {\"bgcolor\": \"white\", \"lakecolor\": \"white\", \"landcolor\": \"#E5ECF6\", \"showlakes\": true, \"showland\": true, \"subunitcolor\": \"white\"}, \"hoverlabel\": {\"align\": \"left\"}, \"hovermode\": \"closest\", \"mapbox\": {\"style\": \"light\"}, \"paper_bgcolor\": \"white\", \"plot_bgcolor\": \"#E5ECF6\", \"polar\": {\"angularaxis\": {\"gridcolor\": \"white\", \"linecolor\": \"white\", \"ticks\": \"\"}, \"bgcolor\": \"#E5ECF6\", \"radialaxis\": {\"gridcolor\": \"white\", \"linecolor\": \"white\", \"ticks\": \"\"}}, \"scene\": {\"xaxis\": {\"backgroundcolor\": \"#E5ECF6\", \"gridcolor\": \"white\", \"gridwidth\": 2, \"linecolor\": \"white\", \"showbackground\": true, \"ticks\": \"\", \"zerolinecolor\": \"white\"}, \"yaxis\": {\"backgroundcolor\": \"#E5ECF6\", \"gridcolor\": \"white\", \"gridwidth\": 2, \"linecolor\": \"white\", \"showbackground\": true, \"ticks\": \"\", \"zerolinecolor\": \"white\"}, \"zaxis\": {\"backgroundcolor\": \"#E5ECF6\", \"gridcolor\": \"white\", \"gridwidth\": 2, \"linecolor\": \"white\", \"showbackground\": true, \"ticks\": \"\", \"zerolinecolor\": \"white\"}}, \"shapedefaults\": {\"line\": {\"color\": \"#2a3f5f\"}}, \"ternary\": {\"aaxis\": {\"gridcolor\": \"white\", \"linecolor\": \"white\", \"ticks\": \"\"}, \"baxis\": {\"gridcolor\": \"white\", \"linecolor\": \"white\", \"ticks\": \"\"}, \"bgcolor\": \"#E5ECF6\", \"caxis\": {\"gridcolor\": \"white\", \"linecolor\": \"white\", \"ticks\": \"\"}}, \"title\": {\"x\": 0.05}, \"xaxis\": {\"automargin\": true, \"gridcolor\": \"white\", \"linecolor\": \"white\", \"ticks\": \"\", \"title\": {\"standoff\": 15}, \"zerolinecolor\": \"white\", \"zerolinewidth\": 2}, \"yaxis\": {\"automargin\": true, \"gridcolor\": \"white\", \"linecolor\": \"white\", \"ticks\": \"\", \"title\": {\"standoff\": 15}, \"zerolinecolor\": \"white\", \"zerolinewidth\": 2}}}, \"xaxis\": {\"title\": {\"text\": \"Epoki\"}}, \"yaxis\": {\"title\": {\"text\": \"binary_crossentropy\"}}},\n",
              "                        {\"responsive\": true}\n",
              "                    ).then(function(){\n",
              "                            \n",
              "var gd = document.getElementById('58bc6b04-0265-4e43-8cfa-d927aa3e5955');\n",
              "var x = new MutationObserver(function (mutations, observer) {{\n",
              "        var display = window.getComputedStyle(gd).display;\n",
              "        if (!display || display === 'none') {{\n",
              "            console.log([gd, 'removed!']);\n",
              "            Plotly.purge(gd);\n",
              "            observer.disconnect();\n",
              "        }}\n",
              "}});\n",
              "\n",
              "// Listen for the removal of the full notebook cells\n",
              "var notebookContainer = gd.closest('#notebook-container');\n",
              "if (notebookContainer) {{\n",
              "    x.observe(notebookContainer, {childList: true});\n",
              "}}\n",
              "\n",
              "// Listen for the clearing of the current output cell\n",
              "var outputEl = gd.closest('.output');\n",
              "if (outputEl) {{\n",
              "    x.observe(outputEl, {childList: true});\n",
              "}}\n",
              "\n",
              "                        })\n",
              "                };\n",
              "                \n",
              "            </script>\n",
              "        </div>\n",
              "</body>\n",
              "</html>"
            ]
          },
          "metadata": {
            "tags": []
          }
        }
      ]
    },
    {
      "cell_type": "code",
      "metadata": {
        "id": "tntdTZszXqzQ"
      },
      "source": [
        ""
      ],
      "execution_count": null,
      "outputs": []
    }
  ]
}