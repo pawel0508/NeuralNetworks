{
  "nbformat": 4,
  "nbformat_minor": 0,
  "metadata": {
    "colab": {
      "name": "Untitled63.ipynb",
      "provenance": [],
      "toc_visible": true,
      "authorship_tag": "ABX9TyO/eoel+YpgGa+qBEJi/xM4",
      "include_colab_link": true
    },
    "kernelspec": {
      "name": "python3",
      "display_name": "Python 3"
    }
  },
  "cells": [
    {
      "cell_type": "markdown",
      "metadata": {
        "id": "view-in-github",
        "colab_type": "text"
      },
      "source": [
        "<a href=\"https://colab.research.google.com/github/pawel0508/NeuralNetworks/blob/main/Save_Load_Models.ipynb\" target=\"_parent\"><img src=\"https://colab.research.google.com/assets/colab-badge.svg\" alt=\"Open In Colab\"/></a>"
      ]
    },
    {
      "cell_type": "code",
      "metadata": {
        "id": "bx_yWbjfSLBC",
        "outputId": "d099adb3-a40b-477e-ddc6-b88152eeda0a",
        "colab": {
          "base_uri": "https://localhost:8080/",
          "height": 35
        }
      },
      "source": [
        "import os\n",
        "import matplotlib.pyplot as plt\n",
        "import seaborn as sns\n",
        "\n",
        "import tensorflow as tf\n",
        "from tensorflow.keras.datasets import mnist\n",
        "from tensorflow.keras.models import Sequential\n",
        "from tensorflow.keras.layers import Dense, Dropout\n",
        "\n",
        "sns.set()\n",
        "tf.__version__\n",
        "\n"
      ],
      "execution_count": 1,
      "outputs": [
        {
          "output_type": "execute_result",
          "data": {
            "application/vnd.google.colaboratory.intrinsic+json": {
              "type": "string"
            },
            "text/plain": [
              "'2.3.0'"
            ]
          },
          "metadata": {
            "tags": []
          },
          "execution_count": 1
        }
      ]
    },
    {
      "cell_type": "markdown",
      "metadata": {
        "id": "FKCRtyWShtgt"
      },
      "source": [
        "### **Zapisywanie i ładowanie wag z modelu**\n",
        "Celem tego notebook'a jest nauczenie się pracy z obsługą modeli, m.in.:\n",
        "\n",
        "* zapisanie wag po każdej epoce\n",
        "* zapisanie wag po określonej liczbie epok\n",
        "* załadowanie wag\n",
        "* zapisanie całego modelu\n",
        "* załadowanie całego modelu"
      ]
    },
    {
      "cell_type": "markdown",
      "metadata": {
        "id": "mf9ELNvQiQlq"
      },
      "source": [
        "#### **Załadowanie danych i wstępna selekcja**"
      ]
    },
    {
      "cell_type": "code",
      "metadata": {
        "id": "PmRCoRiphpWB",
        "outputId": "d5e5f2ef-ff4c-47c1-c7e9-d29c8bf8f009",
        "colab": {
          "base_uri": "https://localhost:8080/",
          "height": 118
        }
      },
      "source": [
        "(x_train, y_train), (x_test, y_test) = mnist.load_data()\n",
        "print(f'x_train shape: {x_train.shape}')\n",
        "print(f'y_train shape: {y_train.shape}')\n",
        "print(f'x_test shape: {x_test.shape}')\n",
        "print(f'y_test shape: {y_test.shape}')"
      ],
      "execution_count": 2,
      "outputs": [
        {
          "output_type": "stream",
          "text": [
            "Downloading data from https://storage.googleapis.com/tensorflow/tf-keras-datasets/mnist.npz\n",
            "11493376/11490434 [==============================] - 0s 0us/step\n",
            "x_train shape: (60000, 28, 28)\n",
            "y_train shape: (60000,)\n",
            "x_test shape: (10000, 28, 28)\n",
            "y_test shape: (10000,)\n"
          ],
          "name": "stdout"
        }
      ]
    },
    {
      "cell_type": "code",
      "metadata": {
        "id": "21MFZA1Kis8X",
        "outputId": "0180a9e8-de3a-4381-d66a-67ec6e5ad733",
        "colab": {
          "base_uri": "https://localhost:8080/",
          "height": 265
        }
      },
      "source": [
        "plt.imshow(x_train[0], cmap = 'Blues')\n",
        "plt.grid(False)\n",
        "plt.axis(False)"
      ],
      "execution_count": 3,
      "outputs": [
        {
          "output_type": "execute_result",
          "data": {
            "text/plain": [
              "(-0.5, 27.5, 27.5, -0.5)"
            ]
          },
          "metadata": {
            "tags": []
          },
          "execution_count": 3
        },
        {
          "output_type": "display_data",
          "data": {
            "image/png": "[encoded data removed]",
            "text/plain": [
              "<Figure size 432x288 with 1 Axes>"
            ]
          },
          "metadata": {
            "tags": [],
            "needs_background": "light"
          }
        }
      ]
    },
    {
      "cell_type": "code",
      "metadata": {
        "id": "ZnpFDzbei8U2",
        "outputId": "99443e7c-bd4f-428d-98d1-a9cd62c14fef",
        "colab": {
          "base_uri": "https://localhost:8080/",
          "height": 34
        }
      },
      "source": [
        "y_train[0]"
      ],
      "execution_count": 4,
      "outputs": [
        {
          "output_type": "execute_result",
          "data": {
            "text/plain": [
              "5"
            ]
          },
          "metadata": {
            "tags": []
          },
          "execution_count": 4
        }
      ]
    },
    {
      "cell_type": "code",
      "metadata": {
        "id": "JCf-g7qBjBJI"
      },
      "source": [
        "x_train = x_train[:1000].reshape(-1, 28*28)/255.\n",
        "x_test = x_test[:1000].reshape(-1, 28*28)/255.\n",
        "\n",
        "y_train = y_train[:1000]\n",
        "y_test = y_test[:1000]"
      ],
      "execution_count": 5,
      "outputs": []
    },
    {
      "cell_type": "markdown",
      "metadata": {
        "id": "xEDRCGNalD4S"
      },
      "source": [
        "### **Budowa modelu**"
      ]
    },
    {
      "cell_type": "code",
      "metadata": {
        "id": "o33Imgz7lAfI",
        "outputId": "8fb00e66-fdad-471b-dc45-6c45b0135e64",
        "colab": {
          "base_uri": "https://localhost:8080/",
          "height": 252
        }
      },
      "source": [
        "def create_model():\n",
        "  model = Sequential()\n",
        "  model.add(Dense(512, activation='relu', input_shape=(784,)))\n",
        "  model.add(Dropout(0.2))\n",
        "  model.add(Dense(10, activation='softmax'))\n",
        "\n",
        "  model.compile(optimizer='adam',\n",
        "                  loss='sparse_categorical_crossentropy',\n",
        "                  metrics=['accuracy'])\n",
        "  return model\n",
        "\n",
        "model = create_model()\n",
        "model.summary()"
      ],
      "execution_count": 7,
      "outputs": [
        {
          "output_type": "stream",
          "text": [
            "Model: \"sequential\"\n",
            "_________________________________________________________________\n",
            "Layer (type)                 Output Shape              Param #   \n",
            "=================================================================\n",
            "dense (Dense)                (None, 512)               401920    \n",
            "_________________________________________________________________\n",
            "dropout (Dropout)            (None, 512)               0         \n",
            "_________________________________________________________________\n",
            "dense_1 (Dense)              (None, 10)                5130      \n",
            "=================================================================\n",
            "Total params: 407,050\n",
            "Trainable params: 407,050\n",
            "Non-trainable params: 0\n",
            "_________________________________________________________________\n"
          ],
          "name": "stdout"
        }
      ]
    },
    {
      "cell_type": "markdown",
      "metadata": {
        "id": "urkJJmJWnztk"
      },
      "source": [
        "### **Zapisywanie punktów kontrolnych podczas trenowania**\n"
      ]
    },
    {
      "cell_type": "code",
      "metadata": {
        "id": "r4WMs1YXnrQt"
      },
      "source": [
        "checkpoint_path = 'training/cp.ckpt'\n",
        "checkpoint_dir = os.path.dirname(checkpoint_path)"
      ],
      "execution_count": 12,
      "outputs": []
    },
    {
      "cell_type": "code",
      "metadata": {
        "id": "6GVbicI9oEAR",
        "outputId": "3002544a-bba0-4170-a1c1-c15c33c6e4ba",
        "colab": {
          "base_uri": "https://localhost:8080/",
          "height": 706
        }
      },
      "source": [
        "from tensorflow.keras.callbacks import ModelCheckpoint\n",
        "\n",
        "cp_callback = ModelCheckpoint(filepath = checkpoint_path, \n",
        "                              save_weights_only = True,\n",
        "                              verbose = 1)\n",
        "\n",
        "model.fit(x_train, y_train, epochs = 10, validation_data = (x_test, y_test), callbacks = [cp_callback])"
      ],
      "execution_count": 13,
      "outputs": [
        {
          "output_type": "stream",
          "text": [
            "Epoch 1/10\n",
            "25/32 [======================>.......] - ETA: 0s - loss: 0.0350 - accuracy: 0.9962\n",
            "Epoch 00001: saving model to training/cp.ckpt\n",
            "32/32 [==============================] - 0s 13ms/step - loss: 0.0342 - accuracy: 0.9970 - val_loss: 0.3924 - val_accuracy: 0.8750\n",
            "Epoch 2/10\n",
            "29/32 [==========================>...] - ETA: 0s - loss: 0.0276 - accuracy: 0.9989\n",
            "Epoch 00002: saving model to training/cp.ckpt\n",
            "32/32 [==============================] - 0s 12ms/step - loss: 0.0270 - accuracy: 0.9990 - val_loss: 0.3900 - val_accuracy: 0.8730\n",
            "Epoch 3/10\n",
            "29/32 [==========================>...] - ETA: 0s - loss: 0.0190 - accuracy: 1.0000\n",
            "Epoch 00003: saving model to training/cp.ckpt\n",
            "32/32 [==============================] - 0s 12ms/step - loss: 0.0193 - accuracy: 1.0000 - val_loss: 0.4000 - val_accuracy: 0.8760\n",
            "Epoch 4/10\n",
            "27/32 [========================>.....] - ETA: 0s - loss: 0.0187 - accuracy: 1.0000\n",
            "Epoch 00004: saving model to training/cp.ckpt\n",
            "32/32 [==============================] - 0s 13ms/step - loss: 0.0176 - accuracy: 1.0000 - val_loss: 0.3998 - val_accuracy: 0.8770\n",
            "Epoch 5/10\n",
            "28/32 [=========================>....] - ETA: 0s - loss: 0.0125 - accuracy: 1.0000\n",
            "Epoch 00005: saving model to training/cp.ckpt\n",
            "32/32 [==============================] - 0s 12ms/step - loss: 0.0126 - accuracy: 1.0000 - val_loss: 0.4078 - val_accuracy: 0.8750\n",
            "Epoch 6/10\n",
            "27/32 [========================>.....] - ETA: 0s - loss: 0.0132 - accuracy: 1.0000\n",
            "Epoch 00006: saving model to training/cp.ckpt\n",
            "32/32 [==============================] - 0s 13ms/step - loss: 0.0128 - accuracy: 1.0000 - val_loss: 0.3984 - val_accuracy: 0.8800\n",
            "Epoch 7/10\n",
            "27/32 [========================>.....] - ETA: 0s - loss: 0.0105 - accuracy: 1.0000\n",
            "Epoch 00007: saving model to training/cp.ckpt\n",
            "32/32 [==============================] - 0s 13ms/step - loss: 0.0106 - accuracy: 1.0000 - val_loss: 0.4069 - val_accuracy: 0.8760\n",
            "Epoch 8/10\n",
            "28/32 [=========================>....] - ETA: 0s - loss: 0.0086 - accuracy: 1.0000\n",
            "Epoch 00008: saving model to training/cp.ckpt\n",
            "32/32 [==============================] - 0s 12ms/step - loss: 0.0085 - accuracy: 1.0000 - val_loss: 0.4029 - val_accuracy: 0.8800\n",
            "Epoch 9/10\n",
            "28/32 [=========================>....] - ETA: 0s - loss: 0.0079 - accuracy: 1.0000\n",
            "Epoch 00009: saving model to training/cp.ckpt\n",
            "32/32 [==============================] - 0s 12ms/step - loss: 0.0077 - accuracy: 1.0000 - val_loss: 0.4119 - val_accuracy: 0.8790\n",
            "Epoch 10/10\n",
            "27/32 [========================>.....] - ETA: 0s - loss: 0.0070 - accuracy: 1.0000\n",
            "Epoch 00010: saving model to training/cp.ckpt\n",
            "32/32 [==============================] - 0s 12ms/step - loss: 0.0069 - accuracy: 1.0000 - val_loss: 0.4130 - val_accuracy: 0.8820\n"
          ],
          "name": "stdout"
        },
        {
          "output_type": "execute_result",
          "data": {
            "text/plain": [
              "<tensorflow.python.keras.callbacks.History at 0x7fc8d6618668>"
            ]
          },
          "metadata": {
            "tags": []
          },
          "execution_count": 13
        }
      ]
    },
    {
      "cell_type": "code",
      "metadata": {
        "id": "WpFI9ExRokav",
        "outputId": "7cdf2a98-17fd-4104-bdb5-d0f46418fec3",
        "colab": {
          "base_uri": "https://localhost:8080/",
          "height": 84
        }
      },
      "source": [
        "ls -l {checkpoint_dir}"
      ],
      "execution_count": 15,
      "outputs": [
        {
          "output_type": "stream",
          "text": [
            "total 4784\n",
            "-rw-r--r-- 1 root root      71 Oct 25 21:21 checkpoint\n",
            "-rw-r--r-- 1 root root 4886673 Oct 25 21:21 cp.ckpt.data-00000-of-00001\n",
            "-rw-r--r-- 1 root root    1222 Oct 25 21:21 cp.ckpt.index\n"
          ],
          "name": "stdout"
        }
      ]
    },
    {
      "cell_type": "markdown",
      "metadata": {
        "id": "EjsmWXsZpgS8"
      },
      "source": [
        "### **Załadowanie wag do modelu**"
      ]
    },
    {
      "cell_type": "code",
      "metadata": {
        "id": "yU9TrQhMoy8m",
        "outputId": "b6b7f594-9179-4a3b-f978-b4a95ed7c90c",
        "colab": {
          "base_uri": "https://localhost:8080/",
          "height": 50
        }
      },
      "source": [
        "model = create_model()\n",
        "loss, acc = model.evaluate(x_test, y_test, verbose = 2)\n",
        "print(acc)"
      ],
      "execution_count": 17,
      "outputs": [
        {
          "output_type": "stream",
          "text": [
            "32/32 - 0s - loss: 2.3543 - accuracy: 0.0760\n",
            "0.07599999755620956\n"
          ],
          "name": "stdout"
        }
      ]
    },
    {
      "cell_type": "code",
      "metadata": {
        "id": "buo113xlptjM",
        "outputId": "2f94b87b-9de5-43ef-fe4b-63d734cacdfd",
        "colab": {
          "base_uri": "https://localhost:8080/",
          "height": 34
        }
      },
      "source": [
        "model.load_weights(checkpoint_path)"
      ],
      "execution_count": 18,
      "outputs": [
        {
          "output_type": "execute_result",
          "data": {
            "text/plain": [
              "<tensorflow.python.training.tracking.util.CheckpointLoadStatus at 0x7fc8d3309d68>"
            ]
          },
          "metadata": {
            "tags": []
          },
          "execution_count": 18
        }
      ]
    },
    {
      "cell_type": "code",
      "metadata": {
        "id": "MJtvqM8Hpy9x",
        "outputId": "757ab8cb-7aac-45ae-aa5c-0b77f1cba358",
        "colab": {
          "base_uri": "https://localhost:8080/",
          "height": 50
        }
      },
      "source": [
        "loss, acc = model.evaluate(x_test, y_test, verbose = 2)\n",
        "print(acc)"
      ],
      "execution_count": 19,
      "outputs": [
        {
          "output_type": "stream",
          "text": [
            "32/32 - 0s - loss: 0.4130 - accuracy: 0.8820\n",
            "0.8820000290870667\n"
          ],
          "name": "stdout"
        }
      ]
    },
    {
      "cell_type": "code",
      "metadata": {
        "id": "ZFXKECU2p1on"
      },
      "source": [
        "!rm -rf ./training"
      ],
      "execution_count": 20,
      "outputs": []
    },
    {
      "cell_type": "code",
      "metadata": {
        "id": "0dygZyoVp_Nh",
        "outputId": "c5639bc5-5059-4254-d602-215a54f1d0e3",
        "colab": {
          "base_uri": "https://localhost:8080/",
          "height": 386
        }
      },
      "source": [
        "checkpoint_path = 'training/cp-{epoch:04d}.ckpt'\n",
        "checkpoint_dir = os.path.dirname(checkpoint_path)\n",
        "\n",
        "cp_callback = ModelCheckpoint(filepath=checkpoint_path,\n",
        "                              save_weights_only=True,\n",
        "                              period=5,\n",
        "                              verbose=1)\n",
        "\n",
        "model = create_model()\n",
        "model.save_weights(checkpoint_path.format(epoch=0))\n",
        "\n",
        "model.fit(x_train, y_train, epochs=50, validation_data=(x_test, y_test), callbacks=[cp_callback], verbose=0)"
      ],
      "execution_count": 23,
      "outputs": [
        {
          "output_type": "stream",
          "text": [
            "WARNING:tensorflow:`period` argument is deprecated. Please use `save_freq` to specify the frequency in number of batches seen.\n",
            "\n",
            "Epoch 00005: saving model to training/cp-0005.ckpt\n",
            "\n",
            "Epoch 00010: saving model to training/cp-0010.ckpt\n",
            "\n",
            "Epoch 00015: saving model to training/cp-0015.ckpt\n",
            "\n",
            "Epoch 00020: saving model to training/cp-0020.ckpt\n",
            "\n",
            "Epoch 00025: saving model to training/cp-0025.ckpt\n",
            "\n",
            "Epoch 00030: saving model to training/cp-0030.ckpt\n",
            "\n",
            "Epoch 00035: saving model to training/cp-0035.ckpt\n",
            "\n",
            "Epoch 00040: saving model to training/cp-0040.ckpt\n",
            "\n",
            "Epoch 00045: saving model to training/cp-0045.ckpt\n",
            "\n",
            "Epoch 00050: saving model to training/cp-0050.ckpt\n"
          ],
          "name": "stdout"
        },
        {
          "output_type": "execute_result",
          "data": {
            "text/plain": [
              "<tensorflow.python.keras.callbacks.History at 0x7fc8d2a7e438>"
            ]
          },
          "metadata": {
            "tags": []
          },
          "execution_count": 23
        }
      ]
    },
    {
      "cell_type": "code",
      "metadata": {
        "id": "36NcwobPqES4",
        "outputId": "69d67c8f-c824-4ef5-ec5e-86924f18fae6",
        "colab": {
          "base_uri": "https://localhost:8080/",
          "height": 420
        }
      },
      "source": [
        "!ls -l ./training"
      ],
      "execution_count": 24,
      "outputs": [
        {
          "output_type": "stream",
          "text": [
            "total 49400\n",
            "-rw-r--r-- 1 root root      81 Oct 25 21:27 checkpoint\n",
            "-rw-r--r-- 1 root root 1628730 Oct 25 21:27 cp-0000.ckpt.data-00000-of-00001\n",
            "-rw-r--r-- 1 root root     402 Oct 25 21:27 cp-0000.ckpt.index\n",
            "-rw-r--r-- 1 root root 4886697 Oct 25 21:27 cp-0005.ckpt.data-00000-of-00001\n",
            "-rw-r--r-- 1 root root    1222 Oct 25 21:27 cp-0005.ckpt.index\n",
            "-rw-r--r-- 1 root root 4886697 Oct 25 21:27 cp-0010.ckpt.data-00000-of-00001\n",
            "-rw-r--r-- 1 root root    1222 Oct 25 21:27 cp-0010.ckpt.index\n",
            "-rw-r--r-- 1 root root 4886697 Oct 25 21:27 cp-0015.ckpt.data-00000-of-00001\n",
            "-rw-r--r-- 1 root root    1222 Oct 25 21:27 cp-0015.ckpt.index\n",
            "-rw-r--r-- 1 root root 4886697 Oct 25 21:27 cp-0020.ckpt.data-00000-of-00001\n",
            "-rw-r--r-- 1 root root    1222 Oct 25 21:27 cp-0020.ckpt.index\n",
            "-rw-r--r-- 1 root root 4886697 Oct 25 21:27 cp-0025.ckpt.data-00000-of-00001\n",
            "-rw-r--r-- 1 root root    1222 Oct 25 21:27 cp-0025.ckpt.index\n",
            "-rw-r--r-- 1 root root 4886697 Oct 25 21:27 cp-0030.ckpt.data-00000-of-00001\n",
            "-rw-r--r-- 1 root root    1222 Oct 25 21:27 cp-0030.ckpt.index\n",
            "-rw-r--r-- 1 root root 4886697 Oct 25 21:27 cp-0035.ckpt.data-00000-of-00001\n",
            "-rw-r--r-- 1 root root    1222 Oct 25 21:27 cp-0035.ckpt.index\n",
            "-rw-r--r-- 1 root root 4886697 Oct 25 21:27 cp-0040.ckpt.data-00000-of-00001\n",
            "-rw-r--r-- 1 root root    1222 Oct 25 21:27 cp-0040.ckpt.index\n",
            "-rw-r--r-- 1 root root 4886697 Oct 25 21:27 cp-0045.ckpt.data-00000-of-00001\n",
            "-rw-r--r-- 1 root root    1222 Oct 25 21:27 cp-0045.ckpt.index\n",
            "-rw-r--r-- 1 root root 4886697 Oct 25 21:27 cp-0050.ckpt.data-00000-of-00001\n",
            "-rw-r--r-- 1 root root    1222 Oct 25 21:27 cp-0050.ckpt.index\n"
          ],
          "name": "stdout"
        }
      ]
    },
    {
      "cell_type": "code",
      "metadata": {
        "id": "rfsw1jW7qN_J",
        "outputId": "11a504e3-64e1-41ea-ba11-092834c95a81",
        "colab": {
          "base_uri": "https://localhost:8080/",
          "height": 35
        }
      },
      "source": [
        "import tensorflow as tf\n",
        "\n",
        "latest = tf.train.latest_checkpoint(checkpoint_dir)\n",
        "latest"
      ],
      "execution_count": 25,
      "outputs": [
        {
          "output_type": "execute_result",
          "data": {
            "application/vnd.google.colaboratory.intrinsic+json": {
              "type": "string"
            },
            "text/plain": [
              "'training/cp-0050.ckpt'"
            ]
          },
          "metadata": {
            "tags": []
          },
          "execution_count": 25
        }
      ]
    },
    {
      "cell_type": "code",
      "metadata": {
        "id": "oh9NxZCzqPsr",
        "outputId": "2185c9cf-b3f2-4e8a-bc03-1e5bd2f736e1",
        "colab": {
          "base_uri": "https://localhost:8080/",
          "height": 171
        }
      },
      "source": [
        "\n",
        "model = create_model()\n",
        "model.load_weights(latest)\n",
        "\n",
        "loss, acc = model.evaluate(x_test, y_test, verbose=2)\n",
        "print(acc)"
      ],
      "execution_count": 27,
      "outputs": [
        {
          "output_type": "stream",
          "text": [
            "WARNING:tensorflow:Unresolved object in checkpoint: (root).optimizer.iter\n",
            "WARNING:tensorflow:Unresolved object in checkpoint: (root).optimizer.beta_1\n",
            "WARNING:tensorflow:Unresolved object in checkpoint: (root).optimizer.beta_2\n",
            "WARNING:tensorflow:Unresolved object in checkpoint: (root).optimizer.decay\n",
            "WARNING:tensorflow:Unresolved object in checkpoint: (root).optimizer.learning_rate\n",
            "WARNING:tensorflow:A checkpoint was restored (e.g. tf.train.Checkpoint.restore or tf.keras.Model.load_weights) but not all checkpointed values were used. See above for specific issues. Use expect_partial() on the load status object, e.g. tf.train.Checkpoint.restore(...).expect_partial(), to silence these warnings, or use assert_consumed() to make the check explicit. See https://www.tensorflow.org/guide/checkpoint#loading_mechanics for details.\n",
            "32/32 - 0s - loss: 0.4679 - accuracy: 0.8780\n",
            "0.878000020980835\n"
          ],
          "name": "stdout"
        }
      ]
    },
    {
      "cell_type": "markdown",
      "metadata": {
        "id": "3aPMs_TpqZI8"
      },
      "source": [
        "### **Ręczne zapisywanie wag**"
      ]
    },
    {
      "cell_type": "code",
      "metadata": {
        "id": "ZJzQAfgeqSsH",
        "outputId": "d3940225-d99c-43da-8778-16fdd7d80ccb",
        "colab": {
          "base_uri": "https://localhost:8080/",
          "height": 50
        }
      },
      "source": [
        "model.save_weights('./checkpoints/my_checkpoint')\n",
        "\n",
        "model = create_model()\n",
        "\n",
        "model.load_weights('./checkpoints/my_checkpoint')\n",
        "\n",
        "loss, acc = model.evaluate(x_test, y_test, verbose=2)\n",
        "print(acc)"
      ],
      "execution_count": 29,
      "outputs": [
        {
          "output_type": "stream",
          "text": [
            "32/32 - 0s - loss: 0.4679 - accuracy: 0.8780\n",
            "0.878000020980835\n"
          ],
          "name": "stdout"
        }
      ]
    },
    {
      "cell_type": "code",
      "metadata": {
        "id": "QRsRwIvPqgSX",
        "outputId": "49f8981c-246c-474c-ea4c-dcce812b10d7",
        "colab": {
          "base_uri": "https://localhost:8080/",
          "height": 84
        }
      },
      "source": [
        "\n",
        "!ls -l checkpoints/"
      ],
      "execution_count": 30,
      "outputs": [
        {
          "output_type": "stream",
          "text": [
            "total 4780\n",
            "-rw-r--r-- 1 root root      83 Oct 25 21:29 checkpoint\n",
            "-rw-r--r-- 1 root root 4886170 Oct 25 21:29 my_checkpoint.data-00000-of-00001\n",
            "-rw-r--r-- 1 root root     944 Oct 25 21:29 my_checkpoint.index\n"
          ],
          "name": "stdout"
        }
      ]
    },
    {
      "cell_type": "markdown",
      "metadata": {
        "id": "I4I2nxBnqv2v"
      },
      "source": [
        "### **Zapisywanie całego modelu**"
      ]
    },
    {
      "cell_type": "code",
      "metadata": {
        "id": "B1A-CjHCqt58",
        "outputId": "0f87bc65-850a-48b0-a5d6-065062f9f115",
        "colab": {
          "base_uri": "https://localhost:8080/",
          "height": 185
        }
      },
      "source": [
        "\n",
        "model = create_model()\n",
        "model.fit(x_train, y_train, epochs=5)\n",
        "model.save('my_model.h5')"
      ],
      "execution_count": 32,
      "outputs": [
        {
          "output_type": "stream",
          "text": [
            "Epoch 1/5\n",
            "32/32 [==============================] - 0s 5ms/step - loss: 1.2037 - accuracy: 0.6410\n",
            "Epoch 2/5\n",
            "32/32 [==============================] - 0s 5ms/step - loss: 0.4353 - accuracy: 0.8670\n",
            "Epoch 3/5\n",
            "32/32 [==============================] - 0s 5ms/step - loss: 0.3218 - accuracy: 0.9120\n",
            "Epoch 4/5\n",
            "32/32 [==============================] - 0s 6ms/step - loss: 0.2202 - accuracy: 0.9490\n",
            "Epoch 5/5\n",
            "32/32 [==============================] - 0s 6ms/step - loss: 0.1587 - accuracy: 0.9660\n"
          ],
          "name": "stdout"
        }
      ]
    },
    {
      "cell_type": "code",
      "metadata": {
        "id": "76RVNwKuq00V",
        "outputId": "f9e702c4-c72b-4fcf-b42a-6f8a73c3f520",
        "colab": {
          "base_uri": "https://localhost:8080/",
          "height": 252
        }
      },
      "source": [
        "from tensorflow.keras.models import load_model\n",
        "\n",
        "new_model = load_model('my_model.h5')\n",
        "new_model.summary()"
      ],
      "execution_count": 33,
      "outputs": [
        {
          "output_type": "stream",
          "text": [
            "Model: \"sequential_11\"\n",
            "_________________________________________________________________\n",
            "Layer (type)                 Output Shape              Param #   \n",
            "=================================================================\n",
            "dense_22 (Dense)             (None, 512)               401920    \n",
            "_________________________________________________________________\n",
            "dropout_11 (Dropout)         (None, 512)               0         \n",
            "_________________________________________________________________\n",
            "dense_23 (Dense)             (None, 10)                5130      \n",
            "=================================================================\n",
            "Total params: 407,050\n",
            "Trainable params: 407,050\n",
            "Non-trainable params: 0\n",
            "_________________________________________________________________\n"
          ],
          "name": "stdout"
        }
      ]
    },
    {
      "cell_type": "code",
      "metadata": {
        "id": "CPOg9Lmwq6Eb",
        "outputId": "2253259b-7532-439a-cf71-a6fb77ea9d84",
        "colab": {
          "base_uri": "https://localhost:8080/",
          "height": 50
        }
      },
      "source": [
        "loss, acc = new_model.evaluate(x_test, y_test, verbose=2)\n",
        "print(acc)"
      ],
      "execution_count": 35,
      "outputs": [
        {
          "output_type": "stream",
          "text": [
            "32/32 - 0s - loss: 0.4439 - accuracy: 0.0900\n",
            "0.09000000357627869\n"
          ],
          "name": "stdout"
        }
      ]
    },
    {
      "cell_type": "code",
      "metadata": {
        "id": "yhI3jq2bq8K3"
      },
      "source": [
        ""
      ],
      "execution_count": null,
      "outputs": []
    }
  ]
}