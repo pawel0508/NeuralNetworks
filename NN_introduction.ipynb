{
  "nbformat": 4,
  "nbformat_minor": 0,
  "metadata": {
    "colab": {
      "name": "Untitled58.ipynb",
      "provenance": [],
      "authorship_tag": "ABX9TyPw5C99FWBAqsirC3nXGhKx",
      "include_colab_link": true
    },
    "kernelspec": {
      "name": "python3",
      "display_name": "Python 3"
    }
  },
  "cells": [
    {
      "cell_type": "markdown",
      "metadata": {
        "id": "view-in-github",
        "colab_type": "text"
      },
      "source": [
        "<a href=\"https://colab.research.google.com/github/pawel0508/NeuralNetworks/blob/main/NN_introduction.ipynb\" target=\"_parent\"><img src=\"https://colab.research.google.com/assets/colab-badge.svg\" alt=\"Open In Colab\"/></a>"
      ]
    },
    {
      "cell_type": "code",
      "metadata": {
        "id": "PtmT4Dw3R3aY",
        "outputId": "29f71f62-0fba-4bf8-a5c5-e25b087c88e6",
        "colab": {
          "base_uri": "https://localhost:8080/",
          "height": 35
        }
      },
      "source": [
        "import tensorflow as tf\n",
        "import pandas as pd\n",
        "import numpy as np \n",
        "import plotly.express as px\n",
        "\n",
        "tf.__version__"
      ],
      "execution_count": 11,
      "outputs": [
        {
          "output_type": "execute_result",
          "data": {
            "application/vnd.google.colaboratory.intrinsic+json": {
              "type": "string"
            },
            "text/plain": [
              "'2.3.0'"
            ]
          },
          "metadata": {
            "tags": []
          },
          "execution_count": 11
        }
      ]
    },
    {
      "cell_type": "markdown",
      "metadata": {
        "id": "onVsiN37UMsT"
      },
      "source": [
        "### Wprowadzenie \n",
        "\n",
        "Model sekwencyjny to nic innego jak stos warstw."
      ]
    },
    {
      "cell_type": "code",
      "metadata": {
        "id": "XUd0M3GlUAUb",
        "outputId": "a451feaf-e6d1-44d9-d1a5-3f607fd16fb9",
        "colab": {
          "base_uri": "https://localhost:8080/",
          "height": 34
        }
      },
      "source": [
        "from tensorflow.keras.models import Sequential\n",
        "\n",
        "model = Sequential()\n",
        "print(model)"
      ],
      "execution_count": 4,
      "outputs": [
        {
          "output_type": "stream",
          "text": [
            "<tensorflow.python.keras.engine.sequential.Sequential object at 0x7f2fed81a668>\n"
          ],
          "name": "stdout"
        }
      ]
    },
    {
      "cell_type": "markdown",
      "metadata": {
        "id": "IM4JEmK9UmzL"
      },
      "source": [
        "Podstawowyn elementem składowym modelu są warstwy. Aby dodać najbardziej standardową warstwę - warstwę gęsto połączoną należy użyć warstwy ***Dense***.\n",
        "Aby dodać warstwę do modelu należy użyć funkcji ***.add()***."
      ]
    },
    {
      "cell_type": "code",
      "metadata": {
        "id": "fELxIK1UUfvx",
        "outputId": "d1ff3f31-d4e7-426d-a77d-a5d0ca7aa869",
        "colab": {
          "base_uri": "https://localhost:8080/",
          "height": 34
        }
      },
      "source": [
        "from tensorflow.keras.layers import Dense\n",
        "\n",
        "model.add(Dense(units = 4, input_shape = (10, )))\n",
        "print(model)"
      ],
      "execution_count": 5,
      "outputs": [
        {
          "output_type": "stream",
          "text": [
            "<tensorflow.python.keras.engine.sequential.Sequential object at 0x7f2fed81a668>\n"
          ],
          "name": "stdout"
        }
      ]
    },
    {
      "cell_type": "markdown",
      "metadata": {
        "id": "gZKM_SnMVn9M"
      },
      "source": [
        "Wyświetlanie podsumowania modelu."
      ]
    },
    {
      "cell_type": "code",
      "metadata": {
        "id": "gmNNR8FOVkD6",
        "outputId": "1b17550f-929a-44b6-d846-20b39dd70081",
        "colab": {
          "base_uri": "https://localhost:8080/",
          "height": 185
        }
      },
      "source": [
        "model.summary()"
      ],
      "execution_count": 6,
      "outputs": [
        {
          "output_type": "stream",
          "text": [
            "Model: \"sequential\"\n",
            "_________________________________________________________________\n",
            "Layer (type)                 Output Shape              Param #   \n",
            "=================================================================\n",
            "dense (Dense)                (None, 4)                 44        \n",
            "=================================================================\n",
            "Total params: 44\n",
            "Trainable params: 44\n",
            "Non-trainable params: 0\n",
            "_________________________________________________________________\n"
          ],
          "name": "stdout"
        }
      ]
    },
    {
      "cell_type": "markdown",
      "metadata": {
        "id": "fIC3gOuMVu_j"
      },
      "source": [
        "Dodanie kolejnej warstwy."
      ]
    },
    {
      "cell_type": "code",
      "metadata": {
        "id": "116xrGR7Vrzg"
      },
      "source": [
        "model.add(Dense(units = 2))"
      ],
      "execution_count": 8,
      "outputs": []
    },
    {
      "cell_type": "code",
      "metadata": {
        "id": "IZPJVtgsVyPh",
        "outputId": "92f110c2-cf0f-4327-916d-1c71bcdc33c7",
        "colab": {
          "base_uri": "https://localhost:8080/",
          "height": 218
        }
      },
      "source": [
        "model.summary()"
      ],
      "execution_count": 9,
      "outputs": [
        {
          "output_type": "stream",
          "text": [
            "Model: \"sequential\"\n",
            "_________________________________________________________________\n",
            "Layer (type)                 Output Shape              Param #   \n",
            "=================================================================\n",
            "dense (Dense)                (None, 4)                 44        \n",
            "_________________________________________________________________\n",
            "dense_1 (Dense)              (None, 2)                 10        \n",
            "=================================================================\n",
            "Total params: 54\n",
            "Trainable params: 54\n",
            "Non-trainable params: 0\n",
            "_________________________________________________________________\n"
          ],
          "name": "stdout"
        }
      ]
    },
    {
      "cell_type": "markdown",
      "metadata": {
        "id": "LwleacOV5TJw"
      },
      "source": [
        "### Funkcje aktywacji\n",
        "\n",
        "Istotnym elementem każdej sieci jest dobór odpowiednich funkcji aktywacji. Funkcje aktywacji są odpowiedzialne za aktywowanie odpowiednich neuronów w procesie uczenia. Jeżeli w procesie tworzenia warstwy nie określimy funkjci aktywacji, domyślnie stosowana jest ***liniowa*** funkcja aktywacji: $a(x) = x$. Warstwa z liniową funkcją aktywcji może uczyć się tylko liniowych przekształceń danych wejściowych. Dlatego stouje się różne funkcje aktywacji aby rozwiązać problemy nieliniowe.\n"
      ]
    },
    {
      "cell_type": "code",
      "metadata": {
        "id": "Y_Tu2dujV1qU",
        "outputId": "fc71b5a0-03bb-420e-9912-eaabbc2d9bb8",
        "colab": {
          "base_uri": "https://localhost:8080/",
          "height": 195
        }
      },
      "source": [
        "from tensorflow.keras.activations import linear\n",
        "\n",
        "random_data = sorted(np.random.randn(100))\n",
        "df = pd.DataFrame({'data' : random_data, 'linear' : linear(random_data)})\n",
        "df.head()"
      ],
      "execution_count": 26,
      "outputs": [
        {
          "output_type": "execute_result",
          "data": {
            "text/html": [
              "<div>\n",
              "<style scoped>\n",
              "    .dataframe tbody tr th:only-of-type {\n",
              "        vertical-align: middle;\n",
              "    }\n",
              "\n",
              "    .dataframe tbody tr th {\n",
              "        vertical-align: top;\n",
              "    }\n",
              "\n",
              "    .dataframe thead th {\n",
              "        text-align: right;\n",
              "    }\n",
              "</style>\n",
              "<table border=\"1\" class=\"dataframe\">\n",
              "  <thead>\n",
              "    <tr style=\"text-align: right;\">\n",
              "      <th></th>\n",
              "      <th>data</th>\n",
              "      <th>linear</th>\n",
              "    </tr>\n",
              "  </thead>\n",
              "  <tbody>\n",
              "    <tr>\n",
              "      <th>0</th>\n",
              "      <td>-1.981645</td>\n",
              "      <td>-1.981645</td>\n",
              "    </tr>\n",
              "    <tr>\n",
              "      <th>1</th>\n",
              "      <td>-1.880549</td>\n",
              "      <td>-1.880549</td>\n",
              "    </tr>\n",
              "    <tr>\n",
              "      <th>2</th>\n",
              "      <td>-1.691449</td>\n",
              "      <td>-1.691449</td>\n",
              "    </tr>\n",
              "    <tr>\n",
              "      <th>3</th>\n",
              "      <td>-1.687139</td>\n",
              "      <td>-1.687139</td>\n",
              "    </tr>\n",
              "    <tr>\n",
              "      <th>4</th>\n",
              "      <td>-1.585322</td>\n",
              "      <td>-1.585322</td>\n",
              "    </tr>\n",
              "  </tbody>\n",
              "</table>\n",
              "</div>"
            ],
            "text/plain": [
              "       data    linear\n",
              "0 -1.981645 -1.981645\n",
              "1 -1.880549 -1.880549\n",
              "2 -1.691449 -1.691449\n",
              "3 -1.687139 -1.687139\n",
              "4 -1.585322 -1.585322"
            ]
          },
          "metadata": {
            "tags": []
          },
          "execution_count": 26
        }
      ]
    },
    {
      "cell_type": "code",
      "metadata": {
        "id": "Hgn-YoQQ7NCB",
        "outputId": "19be7784-de3e-41d6-dfe7-3dc86e098464",
        "colab": {
          "base_uri": "https://localhost:8080/",
          "height": 567
        }
      },
      "source": [
        "px.line(data_frame = df, x = 'data', y = 'linear', template = 'simple_white',\n",
        "        width = 900, height = 550, title = 'Activation: linear')"
      ],
      "execution_count": 27,
      "outputs": [
        {
          "output_type": "display_data",
          "data": {
            "text/html": [
              "<html>\n",
              "<head><meta charset=\"utf-8\" /></head>\n",
              "<body>\n",
              "    <div>\n",
              "            <script src=\"https://cdnjs.cloudflare.com/ajax/libs/mathjax/2.7.5/MathJax.js?config=TeX-AMS-MML_SVG\"></script><script type=\"text/javascript\">if (window.MathJax) {MathJax.Hub.Config({SVG: {font: \"STIX-Web\"}});}</script>\n",
              "                <script type=\"text/javascript\">window.PlotlyConfig = {MathJaxConfig: 'local'};</script>\n",
              "        <script src=\"https://cdn.plot.ly/plotly-latest.min.js\"></script>    \n",
              "            <div id=\"b798b6ad-e3b0-43d3-abea-1136dcd9e47c\" class=\"plotly-graph-div\" style=\"height:550px; width:900px;\"></div>\n",
              "            <script type=\"text/javascript\">\n",
              "                \n",
              "                    window.PLOTLYENV=window.PLOTLYENV || {};\n",
              "                    \n",
              "                if (document.getElementById(\"b798b6ad-e3b0-43d3-abea-1136dcd9e47c\")) {\n",
              "                    Plotly.newPlot(\n",
              "                        'b798b6ad-e3b0-43d3-abea-1136dcd9e47c',\n",
              "                        [{\"hoverlabel\": {\"namelength\": 0}, \"hovertemplate\": \"data=%{x}<br>linear=%{y}\", \"legendgroup\": \"\", \"line\": {\"color\": \"#1F77B4\", \"dash\": \"solid\"}, \"mode\": \"lines\", \"name\": \"\", \"showlegend\": false, \"type\": \"scatter\", \"x\": [-1.9816448428795892, -1.8805487229948936, -1.6914492557112568, -1.6871387222017544, -1.5853224244312094, -1.500507289603698, -1.4933956230497312, -1.4616309893706656, -1.4358198544514005, -1.431543608650006, -1.4176217426032376, -1.298268488990907, -1.2611081341741368, -1.2573531976216488, -1.1169467626725322, -1.0846726723358848, -1.0698825604766597, -1.0515020467540295, -1.0208741794458722, -0.9962622127770125, -0.945291168015068, -0.9428842250019083, -0.9314169518181991, -0.8803811790690991, -0.840529933305659, -0.7511315994033833, -0.7335975454934144, -0.708182986734651, -0.6144255032243763, -0.5737250572838315, -0.5294900323821994, -0.4759497123280333, -0.43880623850313305, -0.43251013251095494, -0.37487733531649936, -0.3097187366688915, -0.30427787352795727, -0.27182205170303975, -0.26446791035094924, -0.25063769961604226, -0.20804791977100054, -0.177357707633728, -0.16855601094764872, -0.16005618774439576, -0.1466303116379206, -0.12707126156643234, -0.11227644366550876, -0.10049909545695793, -0.0892834933521303, -0.07044307675771042, -0.0672266931209318, 0.036953691791258424, 0.062058731902242745, 0.06540860357233409, 0.19547953952393077, 0.19760350884619635, 0.2341823520729999, 0.41635154682887526, 0.4827394628313168, 0.49249213348494775, 0.49812299268884974, 0.5129252960861613, 0.5216851347711682, 0.5399674613171359, 0.561963558361988, 0.5711567777532628, 0.5852003448289246, 0.6303445559314669, 0.6498935077585488, 0.7057806826965618, 0.7091608102594744, 0.7290443009104082, 0.7934214824857959, 0.7965751937119252, 0.8198293765673101, 0.9084237170840496, 0.9276357142313624, 0.951144283898416, 1.001061883273025, 1.0176013327517064, 1.081552165455598, 1.1135444275788604, 1.166691354551008, 1.2594922401082491, 1.2859369917491263, 1.2935735507769153, 1.3396875859522386, 1.4238399661058239, 1.4942536028084648, 1.5454224996329848, 1.6466745433213206, 1.6467679974789193, 1.7836840619307712, 1.8445954192561123, 1.961314969281664, 2.027525226078939, 2.0300468782785757, 2.0611932935508697, 2.227461710436273, 2.3847637634947705], \"xaxis\": \"x\", \"y\": [-1.9816448428795892, -1.8805487229948936, -1.6914492557112568, -1.6871387222017544, -1.5853224244312094, -1.500507289603698, -1.4933956230497312, -1.4616309893706656, -1.4358198544514005, -1.431543608650006, -1.4176217426032376, -1.298268488990907, -1.2611081341741368, -1.2573531976216488, -1.1169467626725322, -1.0846726723358848, -1.0698825604766597, -1.0515020467540295, -1.0208741794458722, -0.9962622127770125, -0.945291168015068, -0.9428842250019083, -0.9314169518181991, -0.8803811790690991, -0.840529933305659, -0.7511315994033833, -0.7335975454934144, -0.708182986734651, -0.6144255032243763, -0.5737250572838315, -0.5294900323821994, -0.4759497123280333, -0.43880623850313305, -0.43251013251095494, -0.37487733531649936, -0.3097187366688915, -0.30427787352795727, -0.27182205170303975, -0.26446791035094924, -0.25063769961604226, -0.20804791977100054, -0.177357707633728, -0.16855601094764872, -0.16005618774439576, -0.1466303116379206, -0.12707126156643234, -0.11227644366550876, -0.10049909545695793, -0.0892834933521303, -0.07044307675771042, -0.0672266931209318, 0.036953691791258424, 0.062058731902242745, 0.06540860357233409, 0.19547953952393077, 0.19760350884619635, 0.2341823520729999, 0.41635154682887526, 0.4827394628313168, 0.49249213348494775, 0.49812299268884974, 0.5129252960861613, 0.5216851347711682, 0.5399674613171359, 0.561963558361988, 0.5711567777532628, 0.5852003448289246, 0.6303445559314669, 0.6498935077585488, 0.7057806826965618, 0.7091608102594744, 0.7290443009104082, 0.7934214824857959, 0.7965751937119252, 0.8198293765673101, 0.9084237170840496, 0.9276357142313624, 0.951144283898416, 1.001061883273025, 1.0176013327517064, 1.081552165455598, 1.1135444275788604, 1.166691354551008, 1.2594922401082491, 1.2859369917491263, 1.2935735507769153, 1.3396875859522386, 1.4238399661058239, 1.4942536028084648, 1.5454224996329848, 1.6466745433213206, 1.6467679974789193, 1.7836840619307712, 1.8445954192561123, 1.961314969281664, 2.027525226078939, 2.0300468782785757, 2.0611932935508697, 2.227461710436273, 2.3847637634947705], \"yaxis\": \"y\"}],\n",
              "                        {\"height\": 550, \"legend\": {\"tracegroupgap\": 0}, \"template\": {\"data\": {\"bar\": [{\"error_x\": {\"color\": \"rgb(36,36,36)\"}, \"error_y\": {\"color\": \"rgb(36,36,36)\"}, \"marker\": {\"line\": {\"color\": \"white\", \"width\": 0.5}}, \"type\": \"bar\"}], \"barpolar\": [{\"marker\": {\"line\": {\"color\": \"white\", \"width\": 0.5}}, \"type\": \"barpolar\"}], \"carpet\": [{\"aaxis\": {\"endlinecolor\": \"rgb(36,36,36)\", \"gridcolor\": \"white\", \"linecolor\": \"white\", \"minorgridcolor\": \"white\", \"startlinecolor\": \"rgb(36,36,36)\"}, \"baxis\": {\"endlinecolor\": \"rgb(36,36,36)\", \"gridcolor\": \"white\", \"linecolor\": \"white\", \"minorgridcolor\": \"white\", \"startlinecolor\": \"rgb(36,36,36)\"}, \"type\": \"carpet\"}], \"choropleth\": [{\"colorbar\": {\"outlinewidth\": 10, \"tickcolor\": \"rgb(36,36,36)\", \"ticklen\": 8, \"ticks\": \"outside\", \"tickwidth\": 2}, \"type\": \"choropleth\"}], \"contour\": [{\"colorbar\": {\"outlinewidth\": 10, \"tickcolor\": \"rgb(36,36,36)\", \"ticklen\": 8, \"ticks\": \"outside\", \"tickwidth\": 2}, \"colorscale\": [[0.0, \"#440154\"], [0.1111111111111111, \"#482878\"], [0.2222222222222222, \"#3e4989\"], [0.3333333333333333, \"#31688e\"], [0.4444444444444444, \"#26828e\"], [0.5555555555555556, \"#1f9e89\"], [0.6666666666666666, \"#35b779\"], [0.7777777777777778, \"#6ece58\"], [0.8888888888888888, \"#b5de2b\"], [1.0, \"#fde725\"]], \"type\": \"contour\"}], \"contourcarpet\": [{\"colorbar\": {\"outlinewidth\": 10, \"tickcolor\": \"rgb(36,36,36)\", \"ticklen\": 8, \"ticks\": \"outside\", \"tickwidth\": 2}, \"type\": \"contourcarpet\"}], \"heatmap\": [{\"colorbar\": {\"outlinewidth\": 10, \"tickcolor\": \"rgb(36,36,36)\", \"ticklen\": 8, \"ticks\": \"outside\", \"tickwidth\": 2}, \"colorscale\": [[0.0, \"#440154\"], [0.1111111111111111, \"#482878\"], [0.2222222222222222, \"#3e4989\"], [0.3333333333333333, \"#31688e\"], [0.4444444444444444, \"#26828e\"], [0.5555555555555556, \"#1f9e89\"], [0.6666666666666666, \"#35b779\"], [0.7777777777777778, \"#6ece58\"], [0.8888888888888888, \"#b5de2b\"], [1.0, \"#fde725\"]], \"type\": \"heatmap\"}], \"heatmapgl\": [{\"colorbar\": {\"outlinewidth\": 10, \"tickcolor\": \"rgb(36,36,36)\", \"ticklen\": 8, \"ticks\": \"outside\", \"tickwidth\": 2}, \"colorscale\": [[0.0, \"#440154\"], [0.1111111111111111, \"#482878\"], [0.2222222222222222, \"#3e4989\"], [0.3333333333333333, \"#31688e\"], [0.4444444444444444, \"#26828e\"], [0.5555555555555556, \"#1f9e89\"], [0.6666666666666666, \"#35b779\"], [0.7777777777777778, \"#6ece58\"], [0.8888888888888888, \"#b5de2b\"], [1.0, \"#fde725\"]], \"type\": \"heatmapgl\"}], \"histogram\": [{\"marker\": {\"line\": {\"color\": \"white\", \"width\": 0.6}}, \"type\": \"histogram\"}], \"histogram2d\": [{\"colorbar\": {\"outlinewidth\": 10, \"tickcolor\": \"rgb(36,36,36)\", \"ticklen\": 8, \"ticks\": \"outside\", \"tickwidth\": 2}, \"colorscale\": [[0.0, \"#440154\"], [0.1111111111111111, \"#482878\"], [0.2222222222222222, \"#3e4989\"], [0.3333333333333333, \"#31688e\"], [0.4444444444444444, \"#26828e\"], [0.5555555555555556, \"#1f9e89\"], [0.6666666666666666, \"#35b779\"], [0.7777777777777778, \"#6ece58\"], [0.8888888888888888, \"#b5de2b\"], [1.0, \"#fde725\"]], \"type\": \"histogram2d\"}], \"histogram2dcontour\": [{\"colorbar\": {\"outlinewidth\": 10, \"tickcolor\": \"rgb(36,36,36)\", \"ticklen\": 8, \"ticks\": \"outside\", \"tickwidth\": 2}, \"colorscale\": [[0.0, \"#440154\"], [0.1111111111111111, \"#482878\"], [0.2222222222222222, \"#3e4989\"], [0.3333333333333333, \"#31688e\"], [0.4444444444444444, \"#26828e\"], [0.5555555555555556, \"#1f9e89\"], [0.6666666666666666, \"#35b779\"], [0.7777777777777778, \"#6ece58\"], [0.8888888888888888, \"#b5de2b\"], [1.0, \"#fde725\"]], \"type\": \"histogram2dcontour\"}], \"mesh3d\": [{\"colorbar\": {\"outlinewidth\": 10, \"tickcolor\": \"rgb(36,36,36)\", \"ticklen\": 8, \"ticks\": \"outside\", \"tickwidth\": 2}, \"type\": \"mesh3d\"}], \"parcoords\": [{\"line\": {\"colorbar\": {\"outlinewidth\": 10, \"tickcolor\": \"rgb(36,36,36)\", \"ticklen\": 8, \"ticks\": \"outside\", \"tickwidth\": 2}}, \"type\": \"parcoords\"}], \"pie\": [{\"automargin\": true, \"type\": \"pie\"}], \"scatter\": [{\"marker\": {\"colorbar\": {\"outlinewidth\": 10, \"tickcolor\": \"rgb(36,36,36)\", \"ticklen\": 8, \"ticks\": \"outside\", \"tickwidth\": 2}}, \"type\": \"scatter\"}], \"scatter3d\": [{\"line\": {\"colorbar\": {\"outlinewidth\": 10, \"tickcolor\": \"rgb(36,36,36)\", \"ticklen\": 8, \"ticks\": \"outside\", \"tickwidth\": 2}}, \"marker\": {\"colorbar\": {\"outlinewidth\": 10, \"tickcolor\": \"rgb(36,36,36)\", \"ticklen\": 8, \"ticks\": \"outside\", \"tickwidth\": 2}}, \"type\": \"scatter3d\"}], \"scattercarpet\": [{\"marker\": {\"colorbar\": {\"outlinewidth\": 10, \"tickcolor\": \"rgb(36,36,36)\", \"ticklen\": 8, \"ticks\": \"outside\", \"tickwidth\": 2}}, \"type\": \"scattercarpet\"}], \"scattergeo\": [{\"marker\": {\"colorbar\": {\"outlinewidth\": 10, \"tickcolor\": \"rgb(36,36,36)\", \"ticklen\": 8, \"ticks\": \"outside\", \"tickwidth\": 2}}, \"type\": \"scattergeo\"}], \"scattergl\": [{\"marker\": {\"colorbar\": {\"outlinewidth\": 10, \"tickcolor\": \"rgb(36,36,36)\", \"ticklen\": 8, \"ticks\": \"outside\", \"tickwidth\": 2}}, \"type\": \"scattergl\"}], \"scattermapbox\": [{\"marker\": {\"colorbar\": {\"outlinewidth\": 10, \"tickcolor\": \"rgb(36,36,36)\", \"ticklen\": 8, \"ticks\": \"outside\", \"tickwidth\": 2}}, \"type\": \"scattermapbox\"}], \"scatterpolar\": [{\"marker\": {\"colorbar\": {\"outlinewidth\": 10, \"tickcolor\": \"rgb(36,36,36)\", \"ticklen\": 8, \"ticks\": \"outside\", \"tickwidth\": 2}}, \"type\": \"scatterpolar\"}], \"scatterpolargl\": [{\"marker\": {\"colorbar\": {\"outlinewidth\": 10, \"tickcolor\": \"rgb(36,36,36)\", \"ticklen\": 8, \"ticks\": \"outside\", \"tickwidth\": 2}}, \"type\": \"scatterpolargl\"}], \"scatterternary\": [{\"marker\": {\"colorbar\": {\"outlinewidth\": 10, \"tickcolor\": \"rgb(36,36,36)\", \"ticklen\": 8, \"ticks\": \"outside\", \"tickwidth\": 2}}, \"type\": \"scatterternary\"}], \"surface\": [{\"colorbar\": {\"outlinewidth\": 10, \"tickcolor\": \"rgb(36,36,36)\", \"ticklen\": 8, \"ticks\": \"outside\", \"tickwidth\": 2}, \"colorscale\": [[0.0, \"#440154\"], [0.1111111111111111, \"#482878\"], [0.2222222222222222, \"#3e4989\"], [0.3333333333333333, \"#31688e\"], [0.4444444444444444, \"#26828e\"], [0.5555555555555556, \"#1f9e89\"], [0.6666666666666666, \"#35b779\"], [0.7777777777777778, \"#6ece58\"], [0.8888888888888888, \"#b5de2b\"], [1.0, \"#fde725\"]], \"type\": \"surface\"}], \"table\": [{\"cells\": {\"fill\": {\"color\": \"rgb(237,237,237)\"}, \"line\": {\"color\": \"white\"}}, \"header\": {\"fill\": {\"color\": \"rgb(217,217,217)\"}, \"line\": {\"color\": \"white\"}}, \"type\": \"table\"}]}, \"layout\": {\"annotationdefaults\": {\"arrowhead\": 0, \"arrowwidth\": 1}, \"coloraxis\": {\"colorbar\": {\"outlinewidth\": 10, \"tickcolor\": \"rgb(36,36,36)\", \"ticklen\": 8, \"ticks\": \"outside\", \"tickwidth\": 2}}, \"colorscale\": {\"diverging\": [[0.0, \"rgb(103,0,31)\"], [0.1, \"rgb(178,24,43)\"], [0.2, \"rgb(214,96,77)\"], [0.3, \"rgb(244,165,130)\"], [0.4, \"rgb(253,219,199)\"], [0.5, \"rgb(247,247,247)\"], [0.6, \"rgb(209,229,240)\"], [0.7, \"rgb(146,197,222)\"], [0.8, \"rgb(67,147,195)\"], [0.9, \"rgb(33,102,172)\"], [1.0, \"rgb(5,48,97)\"]], \"sequential\": [[0.0, \"#440154\"], [0.1111111111111111, \"#482878\"], [0.2222222222222222, \"#3e4989\"], [0.3333333333333333, \"#31688e\"], [0.4444444444444444, \"#26828e\"], [0.5555555555555556, \"#1f9e89\"], [0.6666666666666666, \"#35b779\"], [0.7777777777777778, \"#6ece58\"], [0.8888888888888888, \"#b5de2b\"], [1.0, \"#fde725\"]], \"sequentialminus\": [[0.0, \"#440154\"], [0.1111111111111111, \"#482878\"], [0.2222222222222222, \"#3e4989\"], [0.3333333333333333, \"#31688e\"], [0.4444444444444444, \"#26828e\"], [0.5555555555555556, \"#1f9e89\"], [0.6666666666666666, \"#35b779\"], [0.7777777777777778, \"#6ece58\"], [0.8888888888888888, \"#b5de2b\"], [1.0, \"#fde725\"]]}, \"colorway\": [\"#1F77B4\", \"#FF7F0E\", \"#2CA02C\", \"#D62728\", \"#9467BD\", \"#8C564B\", \"#E377C2\", \"#7F7F7F\", \"#BCBD22\", \"#17BECF\"], \"font\": {\"color\": \"rgb(36,36,36)\"}, \"geo\": {\"bgcolor\": \"white\", \"lakecolor\": \"white\", \"landcolor\": \"white\", \"showlakes\": true, \"showland\": true, \"subunitcolor\": \"white\"}, \"hoverlabel\": {\"align\": \"left\"}, \"hovermode\": \"closest\", \"mapbox\": {\"style\": \"light\"}, \"paper_bgcolor\": \"white\", \"plot_bgcolor\": \"white\", \"polar\": {\"angularaxis\": {\"gridcolor\": \"rgb(232,232,232)\", \"linecolor\": \"rgb(36,36,36)\", \"showgrid\": false, \"showline\": true, \"ticks\": \"outside\"}, \"bgcolor\": \"white\", \"radialaxis\": {\"gridcolor\": \"rgb(232,232,232)\", \"linecolor\": \"rgb(36,36,36)\", \"showgrid\": false, \"showline\": true, \"ticks\": \"outside\"}}, \"scene\": {\"xaxis\": {\"backgroundcolor\": \"white\", \"gridcolor\": \"rgb(232,232,232)\", \"gridwidth\": 2, \"linecolor\": \"rgb(36,36,36)\", \"showbackground\": true, \"showgrid\": false, \"showline\": true, \"ticks\": \"outside\", \"zeroline\": false, \"zerolinecolor\": \"rgb(36,36,36)\"}, \"yaxis\": {\"backgroundcolor\": \"white\", \"gridcolor\": \"rgb(232,232,232)\", \"gridwidth\": 2, \"linecolor\": \"rgb(36,36,36)\", \"showbackground\": true, \"showgrid\": false, \"showline\": true, \"ticks\": \"outside\", \"zeroline\": false, \"zerolinecolor\": \"rgb(36,36,36)\"}, \"zaxis\": {\"backgroundcolor\": \"white\", \"gridcolor\": \"rgb(232,232,232)\", \"gridwidth\": 2, \"linecolor\": \"rgb(36,36,36)\", \"showbackground\": true, \"showgrid\": false, \"showline\": true, \"ticks\": \"outside\", \"zeroline\": false, \"zerolinecolor\": \"rgb(36,36,36)\"}}, \"shapedefaults\": {\"fillcolor\": \"black\", \"line\": {\"width\": 0}, \"opacity\": 0.3}, \"ternary\": {\"aaxis\": {\"gridcolor\": \"rgb(232,232,232)\", \"linecolor\": \"rgb(36,36,36)\", \"showgrid\": false, \"showline\": true, \"ticks\": \"outside\"}, \"baxis\": {\"gridcolor\": \"rgb(232,232,232)\", \"linecolor\": \"rgb(36,36,36)\", \"showgrid\": false, \"showline\": true, \"ticks\": \"outside\"}, \"bgcolor\": \"white\", \"caxis\": {\"gridcolor\": \"rgb(232,232,232)\", \"linecolor\": \"rgb(36,36,36)\", \"showgrid\": false, \"showline\": true, \"ticks\": \"outside\"}}, \"title\": {\"x\": 0.05}, \"xaxis\": {\"automargin\": true, \"gridcolor\": \"rgb(232,232,232)\", \"linecolor\": \"rgb(36,36,36)\", \"showgrid\": false, \"showline\": true, \"ticks\": \"outside\", \"title\": {\"standoff\": 15}, \"zeroline\": false, \"zerolinecolor\": \"rgb(36,36,36)\"}, \"yaxis\": {\"automargin\": true, \"gridcolor\": \"rgb(232,232,232)\", \"linecolor\": \"rgb(36,36,36)\", \"showgrid\": false, \"showline\": true, \"ticks\": \"outside\", \"title\": {\"standoff\": 15}, \"zeroline\": false, \"zerolinecolor\": \"rgb(36,36,36)\"}}}, \"title\": {\"text\": \"Activation: linear\"}, \"width\": 900, \"xaxis\": {\"anchor\": \"y\", \"domain\": [0.0, 1.0], \"title\": {\"text\": \"data\"}}, \"yaxis\": {\"anchor\": \"x\", \"domain\": [0.0, 1.0], \"title\": {\"text\": \"linear\"}}},\n",
              "                        {\"responsive\": true}\n",
              "                    ).then(function(){\n",
              "                            \n",
              "var gd = document.getElementById('b798b6ad-e3b0-43d3-abea-1136dcd9e47c');\n",
              "var x = new MutationObserver(function (mutations, observer) {{\n",
              "        var display = window.getComputedStyle(gd).display;\n",
              "        if (!display || display === 'none') {{\n",
              "            console.log([gd, 'removed!']);\n",
              "            Plotly.purge(gd);\n",
              "            observer.disconnect();\n",
              "        }}\n",
              "}});\n",
              "\n",
              "// Listen for the removal of the full notebook cells\n",
              "var notebookContainer = gd.closest('#notebook-container');\n",
              "if (notebookContainer) {{\n",
              "    x.observe(notebookContainer, {childList: true});\n",
              "}}\n",
              "\n",
              "// Listen for the clearing of the current output cell\n",
              "var outputEl = gd.closest('.output');\n",
              "if (outputEl) {{\n",
              "    x.observe(outputEl, {childList: true});\n",
              "}}\n",
              "\n",
              "                        })\n",
              "                };\n",
              "                \n",
              "            </script>\n",
              "        </div>\n",
              "</body>\n",
              "</html>"
            ]
          },
          "metadata": {
            "tags": []
          }
        }
      ]
    },
    {
      "cell_type": "markdown",
      "metadata": {
        "id": "BstsFrOK7-og"
      },
      "source": [
        "Sigmoid"
      ]
    },
    {
      "cell_type": "code",
      "metadata": {
        "id": "nN81BP1O7k9t"
      },
      "source": [
        "from tensorflow.keras.activations import sigmoid\n",
        "\n",
        "df = pd.DataFrame({'data' : random_data, 'sigmoid' : sigmoid(random_data)})"
      ],
      "execution_count": 28,
      "outputs": []
    },
    {
      "cell_type": "code",
      "metadata": {
        "id": "Ir9aTKK_8MtM",
        "outputId": "968618eb-7fe9-4cf4-a38b-c7d7e2fe22d9",
        "colab": {
          "base_uri": "https://localhost:8080/",
          "height": 567
        }
      },
      "source": [
        "px.line(data_frame = df, x = 'data', y = 'sigmoid', template = 'simple_white',\n",
        "        width = 900, height = 550, title = 'Activation: Sigmoid')"
      ],
      "execution_count": 29,
      "outputs": [
        {
          "output_type": "display_data",
          "data": {
            "text/html": [
              "<html>\n",
              "<head><meta charset=\"utf-8\" /></head>\n",
              "<body>\n",
              "    <div>\n",
              "            <script src=\"https://cdnjs.cloudflare.com/ajax/libs/mathjax/2.7.5/MathJax.js?config=TeX-AMS-MML_SVG\"></script><script type=\"text/javascript\">if (window.MathJax) {MathJax.Hub.Config({SVG: {font: \"STIX-Web\"}});}</script>\n",
              "                <script type=\"text/javascript\">window.PlotlyConfig = {MathJaxConfig: 'local'};</script>\n",
              "        <script src=\"https://cdn.plot.ly/plotly-latest.min.js\"></script>    \n",
              "            <div id=\"6a3bd16c-785e-47a3-adcf-ffab437d32bf\" class=\"plotly-graph-div\" style=\"height:550px; width:900px;\"></div>\n",
              "            <script type=\"text/javascript\">\n",
              "                \n",
              "                    window.PLOTLYENV=window.PLOTLYENV || {};\n",
              "                    \n",
              "                if (document.getElementById(\"6a3bd16c-785e-47a3-adcf-ffab437d32bf\")) {\n",
              "                    Plotly.newPlot(\n",
              "                        '6a3bd16c-785e-47a3-adcf-ffab437d32bf',\n",
              "                        [{\"hoverlabel\": {\"namelength\": 0}, \"hovertemplate\": \"data=%{x}<br>sigmoid=%{y}\", \"legendgroup\": \"\", \"line\": {\"color\": \"#1F77B4\", \"dash\": \"solid\"}, \"mode\": \"lines\", \"name\": \"\", \"showlegend\": false, \"type\": \"scatter\", \"x\": [-1.9816448428795892, -1.8805487229948936, -1.6914492557112568, -1.6871387222017544, -1.5853224244312094, -1.500507289603698, -1.4933956230497312, -1.4616309893706656, -1.4358198544514005, -1.431543608650006, -1.4176217426032376, -1.298268488990907, -1.2611081341741368, -1.2573531976216488, -1.1169467626725322, -1.0846726723358848, -1.0698825604766597, -1.0515020467540295, -1.0208741794458722, -0.9962622127770125, -0.945291168015068, -0.9428842250019083, -0.9314169518181991, -0.8803811790690991, -0.840529933305659, -0.7511315994033833, -0.7335975454934144, -0.708182986734651, -0.6144255032243763, -0.5737250572838315, -0.5294900323821994, -0.4759497123280333, -0.43880623850313305, -0.43251013251095494, -0.37487733531649936, -0.3097187366688915, -0.30427787352795727, -0.27182205170303975, -0.26446791035094924, -0.25063769961604226, -0.20804791977100054, -0.177357707633728, -0.16855601094764872, -0.16005618774439576, -0.1466303116379206, -0.12707126156643234, -0.11227644366550876, -0.10049909545695793, -0.0892834933521303, -0.07044307675771042, -0.0672266931209318, 0.036953691791258424, 0.062058731902242745, 0.06540860357233409, 0.19547953952393077, 0.19760350884619635, 0.2341823520729999, 0.41635154682887526, 0.4827394628313168, 0.49249213348494775, 0.49812299268884974, 0.5129252960861613, 0.5216851347711682, 0.5399674613171359, 0.561963558361988, 0.5711567777532628, 0.5852003448289246, 0.6303445559314669, 0.6498935077585488, 0.7057806826965618, 0.7091608102594744, 0.7290443009104082, 0.7934214824857959, 0.7965751937119252, 0.8198293765673101, 0.9084237170840496, 0.9276357142313624, 0.951144283898416, 1.001061883273025, 1.0176013327517064, 1.081552165455598, 1.1135444275788604, 1.166691354551008, 1.2594922401082491, 1.2859369917491263, 1.2935735507769153, 1.3396875859522386, 1.4238399661058239, 1.4942536028084648, 1.5454224996329848, 1.6466745433213206, 1.6467679974789193, 1.7836840619307712, 1.8445954192561123, 1.961314969281664, 2.027525226078939, 2.0300468782785757, 2.0611932935508697, 2.227461710436273, 2.3847637634947705], \"xaxis\": \"x\", \"y\": [0.1211436058773845, 0.13232585880137007, 0.15558534396564674, 0.1561524967080215, 0.1700430171535865, 0.18234987555051765, 0.183412609904922, 0.18821799638318007, 0.19219350282036526, 0.1928582860597713, 0.19503469008498436, 0.2144565716501459, 0.2207831920768, 0.2214298609890859, 0.24657806681761885, 0.25262277571429503, 0.25542541856405326, 0.25893677094320267, 0.26485715595514253, 0.26967694932271086, 0.2798327913961418, 0.2803181109082335, 0.28263733414405834, 0.29309879546589784, 0.30142318565808107, 0.32057478098996617, 0.3244057678260932, 0.3300004579402337, 0.3510503429616281, 0.3603777323821236, 0.3706358377349979, 0.38320899672026476, 0.3920254554537052, 0.3935270946683523, 0.4073630132196288, 0.42318339354080564, 0.4245120559645928, 0.43245983879716643, 0.4342657157843011, 0.4376665457326548, 0.4481748184999398, 0.45577643616699937, 0.4579604826763042, 0.46007115805784415, 0.46340796071300916, 0.46827486221998854, 0.47196033856072456, 0.474896351626563, 0.47769394250019015, 0.48239650958499003, 0.48319965357326583, 0.5092373717778154, 0.5155097056021039, 0.5163463234554839, 0.5487148582227315, 0.5492407554705427, 0.558279487215574, 0.6026098782893029, 0.6183945500249461, 0.6206933393279486, 0.6220181262313635, 0.6254919813943288, 0.627541722680147, 0.631804848376705, 0.6369067479552555, 0.6390300527099884, 0.642263125738215, 0.6525675850986652, 0.6569864644890275, 0.6694681755133577, 0.6702157030437846, 0.6745955159692532, 0.6885655166699253, 0.6892414056125862, 0.6942001202887805, 0.7126774982448748, 0.7165953770883358, 0.7213452445222217, 0.7312673063207277, 0.7345051048987508, 0.7467876038421148, 0.7527893116213605, 0.7625464419046339, 0.7789386873583766, 0.7834586889566859, 0.7847514355181752, 0.792438560369825, 0.8059396962156096, 0.8167158569009075, 0.8242516149689182, 0.8384410987897611, 0.8384537574673891, 0.8561511770698982, 0.8634912936174558, 0.8766751918234533, 0.8836568943576468, 0.8839158881316806, 0.8870737620245569, 0.9026886186868871, 0.9156580612082076], \"yaxis\": \"y\"}],\n",
              "                        {\"height\": 550, \"legend\": {\"tracegroupgap\": 0}, \"template\": {\"data\": {\"bar\": [{\"error_x\": {\"color\": \"rgb(36,36,36)\"}, \"error_y\": {\"color\": \"rgb(36,36,36)\"}, \"marker\": {\"line\": {\"color\": \"white\", \"width\": 0.5}}, \"type\": \"bar\"}], \"barpolar\": [{\"marker\": {\"line\": {\"color\": \"white\", \"width\": 0.5}}, \"type\": \"barpolar\"}], \"carpet\": [{\"aaxis\": {\"endlinecolor\": \"rgb(36,36,36)\", \"gridcolor\": \"white\", \"linecolor\": \"white\", \"minorgridcolor\": \"white\", \"startlinecolor\": \"rgb(36,36,36)\"}, \"baxis\": {\"endlinecolor\": \"rgb(36,36,36)\", \"gridcolor\": \"white\", \"linecolor\": \"white\", \"minorgridcolor\": \"white\", \"startlinecolor\": \"rgb(36,36,36)\"}, \"type\": \"carpet\"}], \"choropleth\": [{\"colorbar\": {\"outlinewidth\": 10, \"tickcolor\": \"rgb(36,36,36)\", \"ticklen\": 8, \"ticks\": \"outside\", \"tickwidth\": 2}, \"type\": \"choropleth\"}], \"contour\": [{\"colorbar\": {\"outlinewidth\": 10, \"tickcolor\": \"rgb(36,36,36)\", \"ticklen\": 8, \"ticks\": \"outside\", \"tickwidth\": 2}, \"colorscale\": [[0.0, \"#440154\"], [0.1111111111111111, \"#482878\"], [0.2222222222222222, \"#3e4989\"], [0.3333333333333333, \"#31688e\"], [0.4444444444444444, \"#26828e\"], [0.5555555555555556, \"#1f9e89\"], [0.6666666666666666, \"#35b779\"], [0.7777777777777778, \"#6ece58\"], [0.8888888888888888, \"#b5de2b\"], [1.0, \"#fde725\"]], \"type\": \"contour\"}], \"contourcarpet\": [{\"colorbar\": {\"outlinewidth\": 10, \"tickcolor\": \"rgb(36,36,36)\", \"ticklen\": 8, \"ticks\": \"outside\", \"tickwidth\": 2}, \"type\": \"contourcarpet\"}], \"heatmap\": [{\"colorbar\": {\"outlinewidth\": 10, \"tickcolor\": \"rgb(36,36,36)\", \"ticklen\": 8, \"ticks\": \"outside\", \"tickwidth\": 2}, \"colorscale\": [[0.0, \"#440154\"], [0.1111111111111111, \"#482878\"], [0.2222222222222222, \"#3e4989\"], [0.3333333333333333, \"#31688e\"], [0.4444444444444444, \"#26828e\"], [0.5555555555555556, \"#1f9e89\"], [0.6666666666666666, \"#35b779\"], [0.7777777777777778, \"#6ece58\"], [0.8888888888888888, \"#b5de2b\"], [1.0, \"#fde725\"]], \"type\": \"heatmap\"}], \"heatmapgl\": [{\"colorbar\": {\"outlinewidth\": 10, \"tickcolor\": \"rgb(36,36,36)\", \"ticklen\": 8, \"ticks\": \"outside\", \"tickwidth\": 2}, \"colorscale\": [[0.0, \"#440154\"], [0.1111111111111111, \"#482878\"], [0.2222222222222222, \"#3e4989\"], [0.3333333333333333, \"#31688e\"], [0.4444444444444444, \"#26828e\"], [0.5555555555555556, \"#1f9e89\"], [0.6666666666666666, \"#35b779\"], [0.7777777777777778, \"#6ece58\"], [0.8888888888888888, \"#b5de2b\"], [1.0, \"#fde725\"]], \"type\": \"heatmapgl\"}], \"histogram\": [{\"marker\": {\"line\": {\"color\": \"white\", \"width\": 0.6}}, \"type\": \"histogram\"}], \"histogram2d\": [{\"colorbar\": {\"outlinewidth\": 10, \"tickcolor\": \"rgb(36,36,36)\", \"ticklen\": 8, \"ticks\": \"outside\", \"tickwidth\": 2}, \"colorscale\": [[0.0, \"#440154\"], [0.1111111111111111, \"#482878\"], [0.2222222222222222, \"#3e4989\"], [0.3333333333333333, \"#31688e\"], [0.4444444444444444, \"#26828e\"], [0.5555555555555556, \"#1f9e89\"], [0.6666666666666666, \"#35b779\"], [0.7777777777777778, \"#6ece58\"], [0.8888888888888888, \"#b5de2b\"], [1.0, \"#fde725\"]], \"type\": \"histogram2d\"}], \"histogram2dcontour\": [{\"colorbar\": {\"outlinewidth\": 10, \"tickcolor\": \"rgb(36,36,36)\", \"ticklen\": 8, \"ticks\": \"outside\", \"tickwidth\": 2}, \"colorscale\": [[0.0, \"#440154\"], [0.1111111111111111, \"#482878\"], [0.2222222222222222, \"#3e4989\"], [0.3333333333333333, \"#31688e\"], [0.4444444444444444, \"#26828e\"], [0.5555555555555556, \"#1f9e89\"], [0.6666666666666666, \"#35b779\"], [0.7777777777777778, \"#6ece58\"], [0.8888888888888888, \"#b5de2b\"], [1.0, \"#fde725\"]], \"type\": \"histogram2dcontour\"}], \"mesh3d\": [{\"colorbar\": {\"outlinewidth\": 10, \"tickcolor\": \"rgb(36,36,36)\", \"ticklen\": 8, \"ticks\": \"outside\", \"tickwidth\": 2}, \"type\": \"mesh3d\"}], \"parcoords\": [{\"line\": {\"colorbar\": {\"outlinewidth\": 10, \"tickcolor\": \"rgb(36,36,36)\", \"ticklen\": 8, \"ticks\": \"outside\", \"tickwidth\": 2}}, \"type\": \"parcoords\"}], \"pie\": [{\"automargin\": true, \"type\": \"pie\"}], \"scatter\": [{\"marker\": {\"colorbar\": {\"outlinewidth\": 10, \"tickcolor\": \"rgb(36,36,36)\", \"ticklen\": 8, \"ticks\": \"outside\", \"tickwidth\": 2}}, \"type\": \"scatter\"}], \"scatter3d\": [{\"line\": {\"colorbar\": {\"outlinewidth\": 10, \"tickcolor\": \"rgb(36,36,36)\", \"ticklen\": 8, \"ticks\": \"outside\", \"tickwidth\": 2}}, \"marker\": {\"colorbar\": {\"outlinewidth\": 10, \"tickcolor\": \"rgb(36,36,36)\", \"ticklen\": 8, \"ticks\": \"outside\", \"tickwidth\": 2}}, \"type\": \"scatter3d\"}], \"scattercarpet\": [{\"marker\": {\"colorbar\": {\"outlinewidth\": 10, \"tickcolor\": \"rgb(36,36,36)\", \"ticklen\": 8, \"ticks\": \"outside\", \"tickwidth\": 2}}, \"type\": \"scattercarpet\"}], \"scattergeo\": [{\"marker\": {\"colorbar\": {\"outlinewidth\": 10, \"tickcolor\": \"rgb(36,36,36)\", \"ticklen\": 8, \"ticks\": \"outside\", \"tickwidth\": 2}}, \"type\": \"scattergeo\"}], \"scattergl\": [{\"marker\": {\"colorbar\": {\"outlinewidth\": 10, \"tickcolor\": \"rgb(36,36,36)\", \"ticklen\": 8, \"ticks\": \"outside\", \"tickwidth\": 2}}, \"type\": \"scattergl\"}], \"scattermapbox\": [{\"marker\": {\"colorbar\": {\"outlinewidth\": 10, \"tickcolor\": \"rgb(36,36,36)\", \"ticklen\": 8, \"ticks\": \"outside\", \"tickwidth\": 2}}, \"type\": \"scattermapbox\"}], \"scatterpolar\": [{\"marker\": {\"colorbar\": {\"outlinewidth\": 10, \"tickcolor\": \"rgb(36,36,36)\", \"ticklen\": 8, \"ticks\": \"outside\", \"tickwidth\": 2}}, \"type\": \"scatterpolar\"}], \"scatterpolargl\": [{\"marker\": {\"colorbar\": {\"outlinewidth\": 10, \"tickcolor\": \"rgb(36,36,36)\", \"ticklen\": 8, \"ticks\": \"outside\", \"tickwidth\": 2}}, \"type\": \"scatterpolargl\"}], \"scatterternary\": [{\"marker\": {\"colorbar\": {\"outlinewidth\": 10, \"tickcolor\": \"rgb(36,36,36)\", \"ticklen\": 8, \"ticks\": \"outside\", \"tickwidth\": 2}}, \"type\": \"scatterternary\"}], \"surface\": [{\"colorbar\": {\"outlinewidth\": 10, \"tickcolor\": \"rgb(36,36,36)\", \"ticklen\": 8, \"ticks\": \"outside\", \"tickwidth\": 2}, \"colorscale\": [[0.0, \"#440154\"], [0.1111111111111111, \"#482878\"], [0.2222222222222222, \"#3e4989\"], [0.3333333333333333, \"#31688e\"], [0.4444444444444444, \"#26828e\"], [0.5555555555555556, \"#1f9e89\"], [0.6666666666666666, \"#35b779\"], [0.7777777777777778, \"#6ece58\"], [0.8888888888888888, \"#b5de2b\"], [1.0, \"#fde725\"]], \"type\": \"surface\"}], \"table\": [{\"cells\": {\"fill\": {\"color\": \"rgb(237,237,237)\"}, \"line\": {\"color\": \"white\"}}, \"header\": {\"fill\": {\"color\": \"rgb(217,217,217)\"}, \"line\": {\"color\": \"white\"}}, \"type\": \"table\"}]}, \"layout\": {\"annotationdefaults\": {\"arrowhead\": 0, \"arrowwidth\": 1}, \"coloraxis\": {\"colorbar\": {\"outlinewidth\": 10, \"tickcolor\": \"rgb(36,36,36)\", \"ticklen\": 8, \"ticks\": \"outside\", \"tickwidth\": 2}}, \"colorscale\": {\"diverging\": [[0.0, \"rgb(103,0,31)\"], [0.1, \"rgb(178,24,43)\"], [0.2, \"rgb(214,96,77)\"], [0.3, \"rgb(244,165,130)\"], [0.4, \"rgb(253,219,199)\"], [0.5, \"rgb(247,247,247)\"], [0.6, \"rgb(209,229,240)\"], [0.7, \"rgb(146,197,222)\"], [0.8, \"rgb(67,147,195)\"], [0.9, \"rgb(33,102,172)\"], [1.0, \"rgb(5,48,97)\"]], \"sequential\": [[0.0, \"#440154\"], [0.1111111111111111, \"#482878\"], [0.2222222222222222, \"#3e4989\"], [0.3333333333333333, \"#31688e\"], [0.4444444444444444, \"#26828e\"], [0.5555555555555556, \"#1f9e89\"], [0.6666666666666666, \"#35b779\"], [0.7777777777777778, \"#6ece58\"], [0.8888888888888888, \"#b5de2b\"], [1.0, \"#fde725\"]], \"sequentialminus\": [[0.0, \"#440154\"], [0.1111111111111111, \"#482878\"], [0.2222222222222222, \"#3e4989\"], [0.3333333333333333, \"#31688e\"], [0.4444444444444444, \"#26828e\"], [0.5555555555555556, \"#1f9e89\"], [0.6666666666666666, \"#35b779\"], [0.7777777777777778, \"#6ece58\"], [0.8888888888888888, \"#b5de2b\"], [1.0, \"#fde725\"]]}, \"colorway\": [\"#1F77B4\", \"#FF7F0E\", \"#2CA02C\", \"#D62728\", \"#9467BD\", \"#8C564B\", \"#E377C2\", \"#7F7F7F\", \"#BCBD22\", \"#17BECF\"], \"font\": {\"color\": \"rgb(36,36,36)\"}, \"geo\": {\"bgcolor\": \"white\", \"lakecolor\": \"white\", \"landcolor\": \"white\", \"showlakes\": true, \"showland\": true, \"subunitcolor\": \"white\"}, \"hoverlabel\": {\"align\": \"left\"}, \"hovermode\": \"closest\", \"mapbox\": {\"style\": \"light\"}, \"paper_bgcolor\": \"white\", \"plot_bgcolor\": \"white\", \"polar\": {\"angularaxis\": {\"gridcolor\": \"rgb(232,232,232)\", \"linecolor\": \"rgb(36,36,36)\", \"showgrid\": false, \"showline\": true, \"ticks\": \"outside\"}, \"bgcolor\": \"white\", \"radialaxis\": {\"gridcolor\": \"rgb(232,232,232)\", \"linecolor\": \"rgb(36,36,36)\", \"showgrid\": false, \"showline\": true, \"ticks\": \"outside\"}}, \"scene\": {\"xaxis\": {\"backgroundcolor\": \"white\", \"gridcolor\": \"rgb(232,232,232)\", \"gridwidth\": 2, \"linecolor\": \"rgb(36,36,36)\", \"showbackground\": true, \"showgrid\": false, \"showline\": true, \"ticks\": \"outside\", \"zeroline\": false, \"zerolinecolor\": \"rgb(36,36,36)\"}, \"yaxis\": {\"backgroundcolor\": \"white\", \"gridcolor\": \"rgb(232,232,232)\", \"gridwidth\": 2, \"linecolor\": \"rgb(36,36,36)\", \"showbackground\": true, \"showgrid\": false, \"showline\": true, \"ticks\": \"outside\", \"zeroline\": false, \"zerolinecolor\": \"rgb(36,36,36)\"}, \"zaxis\": {\"backgroundcolor\": \"white\", \"gridcolor\": \"rgb(232,232,232)\", \"gridwidth\": 2, \"linecolor\": \"rgb(36,36,36)\", \"showbackground\": true, \"showgrid\": false, \"showline\": true, \"ticks\": \"outside\", \"zeroline\": false, \"zerolinecolor\": \"rgb(36,36,36)\"}}, \"shapedefaults\": {\"fillcolor\": \"black\", \"line\": {\"width\": 0}, \"opacity\": 0.3}, \"ternary\": {\"aaxis\": {\"gridcolor\": \"rgb(232,232,232)\", \"linecolor\": \"rgb(36,36,36)\", \"showgrid\": false, \"showline\": true, \"ticks\": \"outside\"}, \"baxis\": {\"gridcolor\": \"rgb(232,232,232)\", \"linecolor\": \"rgb(36,36,36)\", \"showgrid\": false, \"showline\": true, \"ticks\": \"outside\"}, \"bgcolor\": \"white\", \"caxis\": {\"gridcolor\": \"rgb(232,232,232)\", \"linecolor\": \"rgb(36,36,36)\", \"showgrid\": false, \"showline\": true, \"ticks\": \"outside\"}}, \"title\": {\"x\": 0.05}, \"xaxis\": {\"automargin\": true, \"gridcolor\": \"rgb(232,232,232)\", \"linecolor\": \"rgb(36,36,36)\", \"showgrid\": false, \"showline\": true, \"ticks\": \"outside\", \"title\": {\"standoff\": 15}, \"zeroline\": false, \"zerolinecolor\": \"rgb(36,36,36)\"}, \"yaxis\": {\"automargin\": true, \"gridcolor\": \"rgb(232,232,232)\", \"linecolor\": \"rgb(36,36,36)\", \"showgrid\": false, \"showline\": true, \"ticks\": \"outside\", \"title\": {\"standoff\": 15}, \"zeroline\": false, \"zerolinecolor\": \"rgb(36,36,36)\"}}}, \"title\": {\"text\": \"Activation: Sigmoid\"}, \"width\": 900, \"xaxis\": {\"anchor\": \"y\", \"domain\": [0.0, 1.0], \"title\": {\"text\": \"data\"}}, \"yaxis\": {\"anchor\": \"x\", \"domain\": [0.0, 1.0], \"title\": {\"text\": \"sigmoid\"}}},\n",
              "                        {\"responsive\": true}\n",
              "                    ).then(function(){\n",
              "                            \n",
              "var gd = document.getElementById('6a3bd16c-785e-47a3-adcf-ffab437d32bf');\n",
              "var x = new MutationObserver(function (mutations, observer) {{\n",
              "        var display = window.getComputedStyle(gd).display;\n",
              "        if (!display || display === 'none') {{\n",
              "            console.log([gd, 'removed!']);\n",
              "            Plotly.purge(gd);\n",
              "            observer.disconnect();\n",
              "        }}\n",
              "}});\n",
              "\n",
              "// Listen for the removal of the full notebook cells\n",
              "var notebookContainer = gd.closest('#notebook-container');\n",
              "if (notebookContainer) {{\n",
              "    x.observe(notebookContainer, {childList: true});\n",
              "}}\n",
              "\n",
              "// Listen for the clearing of the current output cell\n",
              "var outputEl = gd.closest('.output');\n",
              "if (outputEl) {{\n",
              "    x.observe(outputEl, {childList: true});\n",
              "}}\n",
              "\n",
              "                        })\n",
              "                };\n",
              "                \n",
              "            </script>\n",
              "        </div>\n",
              "</body>\n",
              "</html>"
            ]
          },
          "metadata": {
            "tags": []
          }
        }
      ]
    },
    {
      "cell_type": "code",
      "metadata": {
        "id": "ETMU6-PL8Oln",
        "outputId": "c37f9b5e-8d82-41ed-b0d8-49e51d42eadb",
        "colab": {
          "base_uri": "https://localhost:8080/",
          "height": 567
        }
      },
      "source": [
        "from tensorflow.keras.activations import relu\n",
        "df = pd.DataFrame({'data' : random_data, 'relu' : relu(random_data)})\n",
        "px.line(data_frame = df, x = 'data', y = 'relu', template = 'simple_white',\n",
        "        width = 900, height = 550, title = 'Activation: Relu')"
      ],
      "execution_count": 30,
      "outputs": [
        {
          "output_type": "display_data",
          "data": {
            "text/html": [
              "<html>\n",
              "<head><meta charset=\"utf-8\" /></head>\n",
              "<body>\n",
              "    <div>\n",
              "            <script src=\"https://cdnjs.cloudflare.com/ajax/libs/mathjax/2.7.5/MathJax.js?config=TeX-AMS-MML_SVG\"></script><script type=\"text/javascript\">if (window.MathJax) {MathJax.Hub.Config({SVG: {font: \"STIX-Web\"}});}</script>\n",
              "                <script type=\"text/javascript\">window.PlotlyConfig = {MathJaxConfig: 'local'};</script>\n",
              "        <script src=\"https://cdn.plot.ly/plotly-latest.min.js\"></script>    \n",
              "            <div id=\"5d79f353-50aa-401a-85d5-36975526617e\" class=\"plotly-graph-div\" style=\"height:550px; width:900px;\"></div>\n",
              "            <script type=\"text/javascript\">\n",
              "                \n",
              "                    window.PLOTLYENV=window.PLOTLYENV || {};\n",
              "                    \n",
              "                if (document.getElementById(\"5d79f353-50aa-401a-85d5-36975526617e\")) {\n",
              "                    Plotly.newPlot(\n",
              "                        '5d79f353-50aa-401a-85d5-36975526617e',\n",
              "                        [{\"hoverlabel\": {\"namelength\": 0}, \"hovertemplate\": \"data=%{x}<br>relu=%{y}\", \"legendgroup\": \"\", \"line\": {\"color\": \"#1F77B4\", \"dash\": \"solid\"}, \"mode\": \"lines\", \"name\": \"\", \"showlegend\": false, \"type\": \"scatter\", \"x\": [-1.9816448428795892, -1.8805487229948936, -1.6914492557112568, -1.6871387222017544, -1.5853224244312094, -1.500507289603698, -1.4933956230497312, -1.4616309893706656, -1.4358198544514005, -1.431543608650006, -1.4176217426032376, -1.298268488990907, -1.2611081341741368, -1.2573531976216488, -1.1169467626725322, -1.0846726723358848, -1.0698825604766597, -1.0515020467540295, -1.0208741794458722, -0.9962622127770125, -0.945291168015068, -0.9428842250019083, -0.9314169518181991, -0.8803811790690991, -0.840529933305659, -0.7511315994033833, -0.7335975454934144, -0.708182986734651, -0.6144255032243763, -0.5737250572838315, -0.5294900323821994, -0.4759497123280333, -0.43880623850313305, -0.43251013251095494, -0.37487733531649936, -0.3097187366688915, -0.30427787352795727, -0.27182205170303975, -0.26446791035094924, -0.25063769961604226, -0.20804791977100054, -0.177357707633728, -0.16855601094764872, -0.16005618774439576, -0.1466303116379206, -0.12707126156643234, -0.11227644366550876, -0.10049909545695793, -0.0892834933521303, -0.07044307675771042, -0.0672266931209318, 0.036953691791258424, 0.062058731902242745, 0.06540860357233409, 0.19547953952393077, 0.19760350884619635, 0.2341823520729999, 0.41635154682887526, 0.4827394628313168, 0.49249213348494775, 0.49812299268884974, 0.5129252960861613, 0.5216851347711682, 0.5399674613171359, 0.561963558361988, 0.5711567777532628, 0.5852003448289246, 0.6303445559314669, 0.6498935077585488, 0.7057806826965618, 0.7091608102594744, 0.7290443009104082, 0.7934214824857959, 0.7965751937119252, 0.8198293765673101, 0.9084237170840496, 0.9276357142313624, 0.951144283898416, 1.001061883273025, 1.0176013327517064, 1.081552165455598, 1.1135444275788604, 1.166691354551008, 1.2594922401082491, 1.2859369917491263, 1.2935735507769153, 1.3396875859522386, 1.4238399661058239, 1.4942536028084648, 1.5454224996329848, 1.6466745433213206, 1.6467679974789193, 1.7836840619307712, 1.8445954192561123, 1.961314969281664, 2.027525226078939, 2.0300468782785757, 2.0611932935508697, 2.227461710436273, 2.3847637634947705], \"xaxis\": \"x\", \"y\": [0.0, 0.0, 0.0, 0.0, 0.0, 0.0, 0.0, 0.0, 0.0, 0.0, 0.0, 0.0, 0.0, 0.0, 0.0, 0.0, 0.0, 0.0, 0.0, 0.0, 0.0, 0.0, 0.0, 0.0, 0.0, 0.0, 0.0, 0.0, 0.0, 0.0, 0.0, 0.0, 0.0, 0.0, 0.0, 0.0, 0.0, 0.0, 0.0, 0.0, 0.0, 0.0, 0.0, 0.0, 0.0, 0.0, 0.0, 0.0, 0.0, 0.0, 0.0, 0.036953691791258424, 0.062058731902242745, 0.06540860357233409, 0.19547953952393077, 0.19760350884619635, 0.2341823520729999, 0.41635154682887526, 0.4827394628313168, 0.49249213348494775, 0.49812299268884974, 0.5129252960861613, 0.5216851347711682, 0.5399674613171359, 0.561963558361988, 0.5711567777532628, 0.5852003448289246, 0.6303445559314669, 0.6498935077585488, 0.7057806826965618, 0.7091608102594744, 0.7290443009104082, 0.7934214824857959, 0.7965751937119252, 0.8198293765673101, 0.9084237170840496, 0.9276357142313624, 0.951144283898416, 1.001061883273025, 1.0176013327517064, 1.081552165455598, 1.1135444275788604, 1.166691354551008, 1.2594922401082491, 1.2859369917491263, 1.2935735507769153, 1.3396875859522386, 1.4238399661058239, 1.4942536028084648, 1.5454224996329848, 1.6466745433213206, 1.6467679974789193, 1.7836840619307712, 1.8445954192561123, 1.961314969281664, 2.027525226078939, 2.0300468782785757, 2.0611932935508697, 2.227461710436273, 2.3847637634947705], \"yaxis\": \"y\"}],\n",
              "                        {\"height\": 550, \"legend\": {\"tracegroupgap\": 0}, \"template\": {\"data\": {\"bar\": [{\"error_x\": {\"color\": \"rgb(36,36,36)\"}, \"error_y\": {\"color\": \"rgb(36,36,36)\"}, \"marker\": {\"line\": {\"color\": \"white\", \"width\": 0.5}}, \"type\": \"bar\"}], \"barpolar\": [{\"marker\": {\"line\": {\"color\": \"white\", \"width\": 0.5}}, \"type\": \"barpolar\"}], \"carpet\": [{\"aaxis\": {\"endlinecolor\": \"rgb(36,36,36)\", \"gridcolor\": \"white\", \"linecolor\": \"white\", \"minorgridcolor\": \"white\", \"startlinecolor\": \"rgb(36,36,36)\"}, \"baxis\": {\"endlinecolor\": \"rgb(36,36,36)\", \"gridcolor\": \"white\", \"linecolor\": \"white\", \"minorgridcolor\": \"white\", \"startlinecolor\": \"rgb(36,36,36)\"}, \"type\": \"carpet\"}], \"choropleth\": [{\"colorbar\": {\"outlinewidth\": 10, \"tickcolor\": \"rgb(36,36,36)\", \"ticklen\": 8, \"ticks\": \"outside\", \"tickwidth\": 2}, \"type\": \"choropleth\"}], \"contour\": [{\"colorbar\": {\"outlinewidth\": 10, \"tickcolor\": \"rgb(36,36,36)\", \"ticklen\": 8, \"ticks\": \"outside\", \"tickwidth\": 2}, \"colorscale\": [[0.0, \"#440154\"], [0.1111111111111111, \"#482878\"], [0.2222222222222222, \"#3e4989\"], [0.3333333333333333, \"#31688e\"], [0.4444444444444444, \"#26828e\"], [0.5555555555555556, \"#1f9e89\"], [0.6666666666666666, \"#35b779\"], [0.7777777777777778, \"#6ece58\"], [0.8888888888888888, \"#b5de2b\"], [1.0, \"#fde725\"]], \"type\": \"contour\"}], \"contourcarpet\": [{\"colorbar\": {\"outlinewidth\": 10, \"tickcolor\": \"rgb(36,36,36)\", \"ticklen\": 8, \"ticks\": \"outside\", \"tickwidth\": 2}, \"type\": \"contourcarpet\"}], \"heatmap\": [{\"colorbar\": {\"outlinewidth\": 10, \"tickcolor\": \"rgb(36,36,36)\", \"ticklen\": 8, \"ticks\": \"outside\", \"tickwidth\": 2}, \"colorscale\": [[0.0, \"#440154\"], [0.1111111111111111, \"#482878\"], [0.2222222222222222, \"#3e4989\"], [0.3333333333333333, \"#31688e\"], [0.4444444444444444, \"#26828e\"], [0.5555555555555556, \"#1f9e89\"], [0.6666666666666666, \"#35b779\"], [0.7777777777777778, \"#6ece58\"], [0.8888888888888888, \"#b5de2b\"], [1.0, \"#fde725\"]], \"type\": \"heatmap\"}], \"heatmapgl\": [{\"colorbar\": {\"outlinewidth\": 10, \"tickcolor\": \"rgb(36,36,36)\", \"ticklen\": 8, \"ticks\": \"outside\", \"tickwidth\": 2}, \"colorscale\": [[0.0, \"#440154\"], [0.1111111111111111, \"#482878\"], [0.2222222222222222, \"#3e4989\"], [0.3333333333333333, \"#31688e\"], [0.4444444444444444, \"#26828e\"], [0.5555555555555556, \"#1f9e89\"], [0.6666666666666666, \"#35b779\"], [0.7777777777777778, \"#6ece58\"], [0.8888888888888888, \"#b5de2b\"], [1.0, \"#fde725\"]], \"type\": \"heatmapgl\"}], \"histogram\": [{\"marker\": {\"line\": {\"color\": \"white\", \"width\": 0.6}}, \"type\": \"histogram\"}], \"histogram2d\": [{\"colorbar\": {\"outlinewidth\": 10, \"tickcolor\": \"rgb(36,36,36)\", \"ticklen\": 8, \"ticks\": \"outside\", \"tickwidth\": 2}, \"colorscale\": [[0.0, \"#440154\"], [0.1111111111111111, \"#482878\"], [0.2222222222222222, \"#3e4989\"], [0.3333333333333333, \"#31688e\"], [0.4444444444444444, \"#26828e\"], [0.5555555555555556, \"#1f9e89\"], [0.6666666666666666, \"#35b779\"], [0.7777777777777778, \"#6ece58\"], [0.8888888888888888, \"#b5de2b\"], [1.0, \"#fde725\"]], \"type\": \"histogram2d\"}], \"histogram2dcontour\": [{\"colorbar\": {\"outlinewidth\": 10, \"tickcolor\": \"rgb(36,36,36)\", \"ticklen\": 8, \"ticks\": \"outside\", \"tickwidth\": 2}, \"colorscale\": [[0.0, \"#440154\"], [0.1111111111111111, \"#482878\"], [0.2222222222222222, \"#3e4989\"], [0.3333333333333333, \"#31688e\"], [0.4444444444444444, \"#26828e\"], [0.5555555555555556, \"#1f9e89\"], [0.6666666666666666, \"#35b779\"], [0.7777777777777778, \"#6ece58\"], [0.8888888888888888, \"#b5de2b\"], [1.0, \"#fde725\"]], \"type\": \"histogram2dcontour\"}], \"mesh3d\": [{\"colorbar\": {\"outlinewidth\": 10, \"tickcolor\": \"rgb(36,36,36)\", \"ticklen\": 8, \"ticks\": \"outside\", \"tickwidth\": 2}, \"type\": \"mesh3d\"}], \"parcoords\": [{\"line\": {\"colorbar\": {\"outlinewidth\": 10, \"tickcolor\": \"rgb(36,36,36)\", \"ticklen\": 8, \"ticks\": \"outside\", \"tickwidth\": 2}}, \"type\": \"parcoords\"}], \"pie\": [{\"automargin\": true, \"type\": \"pie\"}], \"scatter\": [{\"marker\": {\"colorbar\": {\"outlinewidth\": 10, \"tickcolor\": \"rgb(36,36,36)\", \"ticklen\": 8, \"ticks\": \"outside\", \"tickwidth\": 2}}, \"type\": \"scatter\"}], \"scatter3d\": [{\"line\": {\"colorbar\": {\"outlinewidth\": 10, \"tickcolor\": \"rgb(36,36,36)\", \"ticklen\": 8, \"ticks\": \"outside\", \"tickwidth\": 2}}, \"marker\": {\"colorbar\": {\"outlinewidth\": 10, \"tickcolor\": \"rgb(36,36,36)\", \"ticklen\": 8, \"ticks\": \"outside\", \"tickwidth\": 2}}, \"type\": \"scatter3d\"}], \"scattercarpet\": [{\"marker\": {\"colorbar\": {\"outlinewidth\": 10, \"tickcolor\": \"rgb(36,36,36)\", \"ticklen\": 8, \"ticks\": \"outside\", \"tickwidth\": 2}}, \"type\": \"scattercarpet\"}], \"scattergeo\": [{\"marker\": {\"colorbar\": {\"outlinewidth\": 10, \"tickcolor\": \"rgb(36,36,36)\", \"ticklen\": 8, \"ticks\": \"outside\", \"tickwidth\": 2}}, \"type\": \"scattergeo\"}], \"scattergl\": [{\"marker\": {\"colorbar\": {\"outlinewidth\": 10, \"tickcolor\": \"rgb(36,36,36)\", \"ticklen\": 8, \"ticks\": \"outside\", \"tickwidth\": 2}}, \"type\": \"scattergl\"}], \"scattermapbox\": [{\"marker\": {\"colorbar\": {\"outlinewidth\": 10, \"tickcolor\": \"rgb(36,36,36)\", \"ticklen\": 8, \"ticks\": \"outside\", \"tickwidth\": 2}}, \"type\": \"scattermapbox\"}], \"scatterpolar\": [{\"marker\": {\"colorbar\": {\"outlinewidth\": 10, \"tickcolor\": \"rgb(36,36,36)\", \"ticklen\": 8, \"ticks\": \"outside\", \"tickwidth\": 2}}, \"type\": \"scatterpolar\"}], \"scatterpolargl\": [{\"marker\": {\"colorbar\": {\"outlinewidth\": 10, \"tickcolor\": \"rgb(36,36,36)\", \"ticklen\": 8, \"ticks\": \"outside\", \"tickwidth\": 2}}, \"type\": \"scatterpolargl\"}], \"scatterternary\": [{\"marker\": {\"colorbar\": {\"outlinewidth\": 10, \"tickcolor\": \"rgb(36,36,36)\", \"ticklen\": 8, \"ticks\": \"outside\", \"tickwidth\": 2}}, \"type\": \"scatterternary\"}], \"surface\": [{\"colorbar\": {\"outlinewidth\": 10, \"tickcolor\": \"rgb(36,36,36)\", \"ticklen\": 8, \"ticks\": \"outside\", \"tickwidth\": 2}, \"colorscale\": [[0.0, \"#440154\"], [0.1111111111111111, \"#482878\"], [0.2222222222222222, \"#3e4989\"], [0.3333333333333333, \"#31688e\"], [0.4444444444444444, \"#26828e\"], [0.5555555555555556, \"#1f9e89\"], [0.6666666666666666, \"#35b779\"], [0.7777777777777778, \"#6ece58\"], [0.8888888888888888, \"#b5de2b\"], [1.0, \"#fde725\"]], \"type\": \"surface\"}], \"table\": [{\"cells\": {\"fill\": {\"color\": \"rgb(237,237,237)\"}, \"line\": {\"color\": \"white\"}}, \"header\": {\"fill\": {\"color\": \"rgb(217,217,217)\"}, \"line\": {\"color\": \"white\"}}, \"type\": \"table\"}]}, \"layout\": {\"annotationdefaults\": {\"arrowhead\": 0, \"arrowwidth\": 1}, \"coloraxis\": {\"colorbar\": {\"outlinewidth\": 10, \"tickcolor\": \"rgb(36,36,36)\", \"ticklen\": 8, \"ticks\": \"outside\", \"tickwidth\": 2}}, \"colorscale\": {\"diverging\": [[0.0, \"rgb(103,0,31)\"], [0.1, \"rgb(178,24,43)\"], [0.2, \"rgb(214,96,77)\"], [0.3, \"rgb(244,165,130)\"], [0.4, \"rgb(253,219,199)\"], [0.5, \"rgb(247,247,247)\"], [0.6, \"rgb(209,229,240)\"], [0.7, \"rgb(146,197,222)\"], [0.8, \"rgb(67,147,195)\"], [0.9, \"rgb(33,102,172)\"], [1.0, \"rgb(5,48,97)\"]], \"sequential\": [[0.0, \"#440154\"], [0.1111111111111111, \"#482878\"], [0.2222222222222222, \"#3e4989\"], [0.3333333333333333, \"#31688e\"], [0.4444444444444444, \"#26828e\"], [0.5555555555555556, \"#1f9e89\"], [0.6666666666666666, \"#35b779\"], [0.7777777777777778, \"#6ece58\"], [0.8888888888888888, \"#b5de2b\"], [1.0, \"#fde725\"]], \"sequentialminus\": [[0.0, \"#440154\"], [0.1111111111111111, \"#482878\"], [0.2222222222222222, \"#3e4989\"], [0.3333333333333333, \"#31688e\"], [0.4444444444444444, \"#26828e\"], [0.5555555555555556, \"#1f9e89\"], [0.6666666666666666, \"#35b779\"], [0.7777777777777778, \"#6ece58\"], [0.8888888888888888, \"#b5de2b\"], [1.0, \"#fde725\"]]}, \"colorway\": [\"#1F77B4\", \"#FF7F0E\", \"#2CA02C\", \"#D62728\", \"#9467BD\", \"#8C564B\", \"#E377C2\", \"#7F7F7F\", \"#BCBD22\", \"#17BECF\"], \"font\": {\"color\": \"rgb(36,36,36)\"}, \"geo\": {\"bgcolor\": \"white\", \"lakecolor\": \"white\", \"landcolor\": \"white\", \"showlakes\": true, \"showland\": true, \"subunitcolor\": \"white\"}, \"hoverlabel\": {\"align\": \"left\"}, \"hovermode\": \"closest\", \"mapbox\": {\"style\": \"light\"}, \"paper_bgcolor\": \"white\", \"plot_bgcolor\": \"white\", \"polar\": {\"angularaxis\": {\"gridcolor\": \"rgb(232,232,232)\", \"linecolor\": \"rgb(36,36,36)\", \"showgrid\": false, \"showline\": true, \"ticks\": \"outside\"}, \"bgcolor\": \"white\", \"radialaxis\": {\"gridcolor\": \"rgb(232,232,232)\", \"linecolor\": \"rgb(36,36,36)\", \"showgrid\": false, \"showline\": true, \"ticks\": \"outside\"}}, \"scene\": {\"xaxis\": {\"backgroundcolor\": \"white\", \"gridcolor\": \"rgb(232,232,232)\", \"gridwidth\": 2, \"linecolor\": \"rgb(36,36,36)\", \"showbackground\": true, \"showgrid\": false, \"showline\": true, \"ticks\": \"outside\", \"zeroline\": false, \"zerolinecolor\": \"rgb(36,36,36)\"}, \"yaxis\": {\"backgroundcolor\": \"white\", \"gridcolor\": \"rgb(232,232,232)\", \"gridwidth\": 2, \"linecolor\": \"rgb(36,36,36)\", \"showbackground\": true, \"showgrid\": false, \"showline\": true, \"ticks\": \"outside\", \"zeroline\": false, \"zerolinecolor\": \"rgb(36,36,36)\"}, \"zaxis\": {\"backgroundcolor\": \"white\", \"gridcolor\": \"rgb(232,232,232)\", \"gridwidth\": 2, \"linecolor\": \"rgb(36,36,36)\", \"showbackground\": true, \"showgrid\": false, \"showline\": true, \"ticks\": \"outside\", \"zeroline\": false, \"zerolinecolor\": \"rgb(36,36,36)\"}}, \"shapedefaults\": {\"fillcolor\": \"black\", \"line\": {\"width\": 0}, \"opacity\": 0.3}, \"ternary\": {\"aaxis\": {\"gridcolor\": \"rgb(232,232,232)\", \"linecolor\": \"rgb(36,36,36)\", \"showgrid\": false, \"showline\": true, \"ticks\": \"outside\"}, \"baxis\": {\"gridcolor\": \"rgb(232,232,232)\", \"linecolor\": \"rgb(36,36,36)\", \"showgrid\": false, \"showline\": true, \"ticks\": \"outside\"}, \"bgcolor\": \"white\", \"caxis\": {\"gridcolor\": \"rgb(232,232,232)\", \"linecolor\": \"rgb(36,36,36)\", \"showgrid\": false, \"showline\": true, \"ticks\": \"outside\"}}, \"title\": {\"x\": 0.05}, \"xaxis\": {\"automargin\": true, \"gridcolor\": \"rgb(232,232,232)\", \"linecolor\": \"rgb(36,36,36)\", \"showgrid\": false, \"showline\": true, \"ticks\": \"outside\", \"title\": {\"standoff\": 15}, \"zeroline\": false, \"zerolinecolor\": \"rgb(36,36,36)\"}, \"yaxis\": {\"automargin\": true, \"gridcolor\": \"rgb(232,232,232)\", \"linecolor\": \"rgb(36,36,36)\", \"showgrid\": false, \"showline\": true, \"ticks\": \"outside\", \"title\": {\"standoff\": 15}, \"zeroline\": false, \"zerolinecolor\": \"rgb(36,36,36)\"}}}, \"title\": {\"text\": \"Activation: Relu\"}, \"width\": 900, \"xaxis\": {\"anchor\": \"y\", \"domain\": [0.0, 1.0], \"title\": {\"text\": \"data\"}}, \"yaxis\": {\"anchor\": \"x\", \"domain\": [0.0, 1.0], \"title\": {\"text\": \"relu\"}}},\n",
              "                        {\"responsive\": true}\n",
              "                    ).then(function(){\n",
              "                            \n",
              "var gd = document.getElementById('5d79f353-50aa-401a-85d5-36975526617e');\n",
              "var x = new MutationObserver(function (mutations, observer) {{\n",
              "        var display = window.getComputedStyle(gd).display;\n",
              "        if (!display || display === 'none') {{\n",
              "            console.log([gd, 'removed!']);\n",
              "            Plotly.purge(gd);\n",
              "            observer.disconnect();\n",
              "        }}\n",
              "}});\n",
              "\n",
              "// Listen for the removal of the full notebook cells\n",
              "var notebookContainer = gd.closest('#notebook-container');\n",
              "if (notebookContainer) {{\n",
              "    x.observe(notebookContainer, {childList: true});\n",
              "}}\n",
              "\n",
              "// Listen for the clearing of the current output cell\n",
              "var outputEl = gd.closest('.output');\n",
              "if (outputEl) {{\n",
              "    x.observe(outputEl, {childList: true});\n",
              "}}\n",
              "\n",
              "                        })\n",
              "                };\n",
              "                \n",
              "            </script>\n",
              "        </div>\n",
              "</body>\n",
              "</html>"
            ]
          },
          "metadata": {
            "tags": []
          }
        }
      ]
    },
    {
      "cell_type": "code",
      "metadata": {
        "id": "4n38XLGo8nys",
        "outputId": "9a9df1d1-2d53-4b34-ab44-d203127c781c",
        "colab": {
          "base_uri": "https://localhost:8080/",
          "height": 567
        }
      },
      "source": [
        "from tensorflow.keras.activations import tanh\n",
        "df = pd.DataFrame({'data' : random_data, 'tanh' : tanh(random_data)})\n",
        "px.line(data_frame = df, x = 'data', y = 'tanh', template = 'simple_white',\n",
        "        width = 900, height = 550, title = 'Activation: Tanh')"
      ],
      "execution_count": 32,
      "outputs": [
        {
          "output_type": "display_data",
          "data": {
            "text/html": [
              "<html>\n",
              "<head><meta charset=\"utf-8\" /></head>\n",
              "<body>\n",
              "    <div>\n",
              "            <script src=\"https://cdnjs.cloudflare.com/ajax/libs/mathjax/2.7.5/MathJax.js?config=TeX-AMS-MML_SVG\"></script><script type=\"text/javascript\">if (window.MathJax) {MathJax.Hub.Config({SVG: {font: \"STIX-Web\"}});}</script>\n",
              "                <script type=\"text/javascript\">window.PlotlyConfig = {MathJaxConfig: 'local'};</script>\n",
              "        <script src=\"https://cdn.plot.ly/plotly-latest.min.js\"></script>    \n",
              "            <div id=\"19e1a758-bb70-4567-9f02-ea08402ecf12\" class=\"plotly-graph-div\" style=\"height:550px; width:900px;\"></div>\n",
              "            <script type=\"text/javascript\">\n",
              "                \n",
              "                    window.PLOTLYENV=window.PLOTLYENV || {};\n",
              "                    \n",
              "                if (document.getElementById(\"19e1a758-bb70-4567-9f02-ea08402ecf12\")) {\n",
              "                    Plotly.newPlot(\n",
              "                        '19e1a758-bb70-4567-9f02-ea08402ecf12',\n",
              "                        [{\"hoverlabel\": {\"namelength\": 0}, \"hovertemplate\": \"data=%{x}<br>tanh=%{y}\", \"legendgroup\": \"\", \"line\": {\"color\": \"#1F77B4\", \"dash\": \"solid\"}, \"mode\": \"lines\", \"name\": \"\", \"showlegend\": false, \"type\": \"scatter\", \"x\": [-1.9816448428795892, -1.8805487229948936, -1.6914492557112568, -1.6871387222017544, -1.5853224244312094, -1.500507289603698, -1.4933956230497312, -1.4616309893706656, -1.4358198544514005, -1.431543608650006, -1.4176217426032376, -1.298268488990907, -1.2611081341741368, -1.2573531976216488, -1.1169467626725322, -1.0846726723358848, -1.0698825604766597, -1.0515020467540295, -1.0208741794458722, -0.9962622127770125, -0.945291168015068, -0.9428842250019083, -0.9314169518181991, -0.8803811790690991, -0.840529933305659, -0.7511315994033833, -0.7335975454934144, -0.708182986734651, -0.6144255032243763, -0.5737250572838315, -0.5294900323821994, -0.4759497123280333, -0.43880623850313305, -0.43251013251095494, -0.37487733531649936, -0.3097187366688915, -0.30427787352795727, -0.27182205170303975, -0.26446791035094924, -0.25063769961604226, -0.20804791977100054, -0.177357707633728, -0.16855601094764872, -0.16005618774439576, -0.1466303116379206, -0.12707126156643234, -0.11227644366550876, -0.10049909545695793, -0.0892834933521303, -0.07044307675771042, -0.0672266931209318, 0.036953691791258424, 0.062058731902242745, 0.06540860357233409, 0.19547953952393077, 0.19760350884619635, 0.2341823520729999, 0.41635154682887526, 0.4827394628313168, 0.49249213348494775, 0.49812299268884974, 0.5129252960861613, 0.5216851347711682, 0.5399674613171359, 0.561963558361988, 0.5711567777532628, 0.5852003448289246, 0.6303445559314669, 0.6498935077585488, 0.7057806826965618, 0.7091608102594744, 0.7290443009104082, 0.7934214824857959, 0.7965751937119252, 0.8198293765673101, 0.9084237170840496, 0.9276357142313624, 0.951144283898416, 1.001061883273025, 1.0176013327517064, 1.081552165455598, 1.1135444275788604, 1.166691354551008, 1.2594922401082491, 1.2859369917491263, 1.2935735507769153, 1.3396875859522386, 1.4238399661058239, 1.4942536028084648, 1.5454224996329848, 1.6466745433213206, 1.6467679974789193, 1.7836840619307712, 1.8445954192561123, 1.961314969281664, 2.027525226078939, 2.0300468782785757, 2.0611932935508697, 2.227461710436273, 2.3847637634947705], \"xaxis\": \"x\", \"y\": [-0.9627075637980396, -0.9545408935809911, -0.9343315509462631, -0.9337817966417943, -0.9194290469506236, -0.9052398821629744, -0.9039476391382005, -0.8979689052428071, -0.8928530951823287, -0.8919824967543519, -0.8891017362702174, -0.8612767452583612, -0.8513693230771759, -0.8503327673217451, -0.8065042798077618, -0.7949254772780386, -0.789416971397052, -0.7823896361838496, -0.7702223544628951, -0.760019907181366, -0.7376438277703256, -0.7365445972540675, -0.731253841540122, -0.7066102289245536, -0.6860896478460057, -0.6358235633780808, -0.6252613585424459, -0.6095361669567022, -0.5472348205152828, -0.518089723628544, -0.4849911722259189, -0.44299401436999075, -0.4126544469588318, -0.40741692666455864, -0.35825048156971134, -0.30018119971664065, -0.2952225562180449, -0.2653194422683492, -0.25846974971871195, -0.24551801582088653, -0.20509728429757518, -0.17552117174184176, -0.16697765680594043, -0.15870327734469722, -0.145588398880171, -0.1263917060150739, -0.11180702491170913, -0.10016210759269968, -0.0890470050163159, -0.07032678938935646, -0.06712560046365365, 0.036936879957621745, 0.06197918579589313, 0.06531548403417652, 0.19302711343351014, 0.1950711037156439, 0.22999326166951556, 0.39385236243025235, 0.4484348704162463, 0.4561921671504232, 0.4606397093161562, 0.4722213122646, 0.47899955638324504, 0.49296333570562845, 0.509432858979027, 0.5162083146216896, 0.5264348692585039, 0.5582894234791754, 0.5715982718413487, 0.6080241902955272, 0.610150329216743, 0.6224803146486078, 0.6603429332667613, 0.662117757904154, 0.6749769971063445, 0.7203748279437727, 0.7294896838072626, 0.7403006542790133, 0.7620397591467003, 0.7688877398854491, 0.7937739864070898, 0.8053117229233213, 0.8232086033340043, 0.8509240648973088, 0.858058708356061, 0.8600595882906128, 0.8715971888049359, 0.8903972631047945, 0.9041044236959933, 0.9130270533775837, 0.9283998783625691, 0.9284127808012087, 0.9450900041481279, 0.9512343290083218, 0.9611900446444803, 0.9659215257244906, 0.9660900544962887, 0.9681052954995544, 0.9770245825803551, 0.9831739827417398], \"yaxis\": \"y\"}],\n",
              "                        {\"height\": 550, \"legend\": {\"tracegroupgap\": 0}, \"template\": {\"data\": {\"bar\": [{\"error_x\": {\"color\": \"rgb(36,36,36)\"}, \"error_y\": {\"color\": \"rgb(36,36,36)\"}, \"marker\": {\"line\": {\"color\": \"white\", \"width\": 0.5}}, \"type\": \"bar\"}], \"barpolar\": [{\"marker\": {\"line\": {\"color\": \"white\", \"width\": 0.5}}, \"type\": \"barpolar\"}], \"carpet\": [{\"aaxis\": {\"endlinecolor\": \"rgb(36,36,36)\", \"gridcolor\": \"white\", \"linecolor\": \"white\", \"minorgridcolor\": \"white\", \"startlinecolor\": \"rgb(36,36,36)\"}, \"baxis\": {\"endlinecolor\": \"rgb(36,36,36)\", \"gridcolor\": \"white\", \"linecolor\": \"white\", \"minorgridcolor\": \"white\", \"startlinecolor\": \"rgb(36,36,36)\"}, \"type\": \"carpet\"}], \"choropleth\": [{\"colorbar\": {\"outlinewidth\": 10, \"tickcolor\": \"rgb(36,36,36)\", \"ticklen\": 8, \"ticks\": \"outside\", \"tickwidth\": 2}, \"type\": \"choropleth\"}], \"contour\": [{\"colorbar\": {\"outlinewidth\": 10, \"tickcolor\": \"rgb(36,36,36)\", \"ticklen\": 8, \"ticks\": \"outside\", \"tickwidth\": 2}, \"colorscale\": [[0.0, \"#440154\"], [0.1111111111111111, \"#482878\"], [0.2222222222222222, \"#3e4989\"], [0.3333333333333333, \"#31688e\"], [0.4444444444444444, \"#26828e\"], [0.5555555555555556, \"#1f9e89\"], [0.6666666666666666, \"#35b779\"], [0.7777777777777778, \"#6ece58\"], [0.8888888888888888, \"#b5de2b\"], [1.0, \"#fde725\"]], \"type\": \"contour\"}], \"contourcarpet\": [{\"colorbar\": {\"outlinewidth\": 10, \"tickcolor\": \"rgb(36,36,36)\", \"ticklen\": 8, \"ticks\": \"outside\", \"tickwidth\": 2}, \"type\": \"contourcarpet\"}], \"heatmap\": [{\"colorbar\": {\"outlinewidth\": 10, \"tickcolor\": \"rgb(36,36,36)\", \"ticklen\": 8, \"ticks\": \"outside\", \"tickwidth\": 2}, \"colorscale\": [[0.0, \"#440154\"], [0.1111111111111111, \"#482878\"], [0.2222222222222222, \"#3e4989\"], [0.3333333333333333, \"#31688e\"], [0.4444444444444444, \"#26828e\"], [0.5555555555555556, \"#1f9e89\"], [0.6666666666666666, \"#35b779\"], [0.7777777777777778, \"#6ece58\"], [0.8888888888888888, \"#b5de2b\"], [1.0, \"#fde725\"]], \"type\": \"heatmap\"}], \"heatmapgl\": [{\"colorbar\": {\"outlinewidth\": 10, \"tickcolor\": \"rgb(36,36,36)\", \"ticklen\": 8, \"ticks\": \"outside\", \"tickwidth\": 2}, \"colorscale\": [[0.0, \"#440154\"], [0.1111111111111111, \"#482878\"], [0.2222222222222222, \"#3e4989\"], [0.3333333333333333, \"#31688e\"], [0.4444444444444444, \"#26828e\"], [0.5555555555555556, \"#1f9e89\"], [0.6666666666666666, \"#35b779\"], [0.7777777777777778, \"#6ece58\"], [0.8888888888888888, \"#b5de2b\"], [1.0, \"#fde725\"]], \"type\": \"heatmapgl\"}], \"histogram\": [{\"marker\": {\"line\": {\"color\": \"white\", \"width\": 0.6}}, \"type\": \"histogram\"}], \"histogram2d\": [{\"colorbar\": {\"outlinewidth\": 10, \"tickcolor\": \"rgb(36,36,36)\", \"ticklen\": 8, \"ticks\": \"outside\", \"tickwidth\": 2}, \"colorscale\": [[0.0, \"#440154\"], [0.1111111111111111, \"#482878\"], [0.2222222222222222, \"#3e4989\"], [0.3333333333333333, \"#31688e\"], [0.4444444444444444, \"#26828e\"], [0.5555555555555556, \"#1f9e89\"], [0.6666666666666666, \"#35b779\"], [0.7777777777777778, \"#6ece58\"], [0.8888888888888888, \"#b5de2b\"], [1.0, \"#fde725\"]], \"type\": \"histogram2d\"}], \"histogram2dcontour\": [{\"colorbar\": {\"outlinewidth\": 10, \"tickcolor\": \"rgb(36,36,36)\", \"ticklen\": 8, \"ticks\": \"outside\", \"tickwidth\": 2}, \"colorscale\": [[0.0, \"#440154\"], [0.1111111111111111, \"#482878\"], [0.2222222222222222, \"#3e4989\"], [0.3333333333333333, \"#31688e\"], [0.4444444444444444, \"#26828e\"], [0.5555555555555556, \"#1f9e89\"], [0.6666666666666666, \"#35b779\"], [0.7777777777777778, \"#6ece58\"], [0.8888888888888888, \"#b5de2b\"], [1.0, \"#fde725\"]], \"type\": \"histogram2dcontour\"}], \"mesh3d\": [{\"colorbar\": {\"outlinewidth\": 10, \"tickcolor\": \"rgb(36,36,36)\", \"ticklen\": 8, \"ticks\": \"outside\", \"tickwidth\": 2}, \"type\": \"mesh3d\"}], \"parcoords\": [{\"line\": {\"colorbar\": {\"outlinewidth\": 10, \"tickcolor\": \"rgb(36,36,36)\", \"ticklen\": 8, \"ticks\": \"outside\", \"tickwidth\": 2}}, \"type\": \"parcoords\"}], \"pie\": [{\"automargin\": true, \"type\": \"pie\"}], \"scatter\": [{\"marker\": {\"colorbar\": {\"outlinewidth\": 10, \"tickcolor\": \"rgb(36,36,36)\", \"ticklen\": 8, \"ticks\": \"outside\", \"tickwidth\": 2}}, \"type\": \"scatter\"}], \"scatter3d\": [{\"line\": {\"colorbar\": {\"outlinewidth\": 10, \"tickcolor\": \"rgb(36,36,36)\", \"ticklen\": 8, \"ticks\": \"outside\", \"tickwidth\": 2}}, \"marker\": {\"colorbar\": {\"outlinewidth\": 10, \"tickcolor\": \"rgb(36,36,36)\", \"ticklen\": 8, \"ticks\": \"outside\", \"tickwidth\": 2}}, \"type\": \"scatter3d\"}], \"scattercarpet\": [{\"marker\": {\"colorbar\": {\"outlinewidth\": 10, \"tickcolor\": \"rgb(36,36,36)\", \"ticklen\": 8, \"ticks\": \"outside\", \"tickwidth\": 2}}, \"type\": \"scattercarpet\"}], \"scattergeo\": [{\"marker\": {\"colorbar\": {\"outlinewidth\": 10, \"tickcolor\": \"rgb(36,36,36)\", \"ticklen\": 8, \"ticks\": \"outside\", \"tickwidth\": 2}}, \"type\": \"scattergeo\"}], \"scattergl\": [{\"marker\": {\"colorbar\": {\"outlinewidth\": 10, \"tickcolor\": \"rgb(36,36,36)\", \"ticklen\": 8, \"ticks\": \"outside\", \"tickwidth\": 2}}, \"type\": \"scattergl\"}], \"scattermapbox\": [{\"marker\": {\"colorbar\": {\"outlinewidth\": 10, \"tickcolor\": \"rgb(36,36,36)\", \"ticklen\": 8, \"ticks\": \"outside\", \"tickwidth\": 2}}, \"type\": \"scattermapbox\"}], \"scatterpolar\": [{\"marker\": {\"colorbar\": {\"outlinewidth\": 10, \"tickcolor\": \"rgb(36,36,36)\", \"ticklen\": 8, \"ticks\": \"outside\", \"tickwidth\": 2}}, \"type\": \"scatterpolar\"}], \"scatterpolargl\": [{\"marker\": {\"colorbar\": {\"outlinewidth\": 10, \"tickcolor\": \"rgb(36,36,36)\", \"ticklen\": 8, \"ticks\": \"outside\", \"tickwidth\": 2}}, \"type\": \"scatterpolargl\"}], \"scatterternary\": [{\"marker\": {\"colorbar\": {\"outlinewidth\": 10, \"tickcolor\": \"rgb(36,36,36)\", \"ticklen\": 8, \"ticks\": \"outside\", \"tickwidth\": 2}}, \"type\": \"scatterternary\"}], \"surface\": [{\"colorbar\": {\"outlinewidth\": 10, \"tickcolor\": \"rgb(36,36,36)\", \"ticklen\": 8, \"ticks\": \"outside\", \"tickwidth\": 2}, \"colorscale\": [[0.0, \"#440154\"], [0.1111111111111111, \"#482878\"], [0.2222222222222222, \"#3e4989\"], [0.3333333333333333, \"#31688e\"], [0.4444444444444444, \"#26828e\"], [0.5555555555555556, \"#1f9e89\"], [0.6666666666666666, \"#35b779\"], [0.7777777777777778, \"#6ece58\"], [0.8888888888888888, \"#b5de2b\"], [1.0, \"#fde725\"]], \"type\": \"surface\"}], \"table\": [{\"cells\": {\"fill\": {\"color\": \"rgb(237,237,237)\"}, \"line\": {\"color\": \"white\"}}, \"header\": {\"fill\": {\"color\": \"rgb(217,217,217)\"}, \"line\": {\"color\": \"white\"}}, \"type\": \"table\"}]}, \"layout\": {\"annotationdefaults\": {\"arrowhead\": 0, \"arrowwidth\": 1}, \"coloraxis\": {\"colorbar\": {\"outlinewidth\": 10, \"tickcolor\": \"rgb(36,36,36)\", \"ticklen\": 8, \"ticks\": \"outside\", \"tickwidth\": 2}}, \"colorscale\": {\"diverging\": [[0.0, \"rgb(103,0,31)\"], [0.1, \"rgb(178,24,43)\"], [0.2, \"rgb(214,96,77)\"], [0.3, \"rgb(244,165,130)\"], [0.4, \"rgb(253,219,199)\"], [0.5, \"rgb(247,247,247)\"], [0.6, \"rgb(209,229,240)\"], [0.7, \"rgb(146,197,222)\"], [0.8, \"rgb(67,147,195)\"], [0.9, \"rgb(33,102,172)\"], [1.0, \"rgb(5,48,97)\"]], \"sequential\": [[0.0, \"#440154\"], [0.1111111111111111, \"#482878\"], [0.2222222222222222, \"#3e4989\"], [0.3333333333333333, \"#31688e\"], [0.4444444444444444, \"#26828e\"], [0.5555555555555556, \"#1f9e89\"], [0.6666666666666666, \"#35b779\"], [0.7777777777777778, \"#6ece58\"], [0.8888888888888888, \"#b5de2b\"], [1.0, \"#fde725\"]], \"sequentialminus\": [[0.0, \"#440154\"], [0.1111111111111111, \"#482878\"], [0.2222222222222222, \"#3e4989\"], [0.3333333333333333, \"#31688e\"], [0.4444444444444444, \"#26828e\"], [0.5555555555555556, \"#1f9e89\"], [0.6666666666666666, \"#35b779\"], [0.7777777777777778, \"#6ece58\"], [0.8888888888888888, \"#b5de2b\"], [1.0, \"#fde725\"]]}, \"colorway\": [\"#1F77B4\", \"#FF7F0E\", \"#2CA02C\", \"#D62728\", \"#9467BD\", \"#8C564B\", \"#E377C2\", \"#7F7F7F\", \"#BCBD22\", \"#17BECF\"], \"font\": {\"color\": \"rgb(36,36,36)\"}, \"geo\": {\"bgcolor\": \"white\", \"lakecolor\": \"white\", \"landcolor\": \"white\", \"showlakes\": true, \"showland\": true, \"subunitcolor\": \"white\"}, \"hoverlabel\": {\"align\": \"left\"}, \"hovermode\": \"closest\", \"mapbox\": {\"style\": \"light\"}, \"paper_bgcolor\": \"white\", \"plot_bgcolor\": \"white\", \"polar\": {\"angularaxis\": {\"gridcolor\": \"rgb(232,232,232)\", \"linecolor\": \"rgb(36,36,36)\", \"showgrid\": false, \"showline\": true, \"ticks\": \"outside\"}, \"bgcolor\": \"white\", \"radialaxis\": {\"gridcolor\": \"rgb(232,232,232)\", \"linecolor\": \"rgb(36,36,36)\", \"showgrid\": false, \"showline\": true, \"ticks\": \"outside\"}}, \"scene\": {\"xaxis\": {\"backgroundcolor\": \"white\", \"gridcolor\": \"rgb(232,232,232)\", \"gridwidth\": 2, \"linecolor\": \"rgb(36,36,36)\", \"showbackground\": true, \"showgrid\": false, \"showline\": true, \"ticks\": \"outside\", \"zeroline\": false, \"zerolinecolor\": \"rgb(36,36,36)\"}, \"yaxis\": {\"backgroundcolor\": \"white\", \"gridcolor\": \"rgb(232,232,232)\", \"gridwidth\": 2, \"linecolor\": \"rgb(36,36,36)\", \"showbackground\": true, \"showgrid\": false, \"showline\": true, \"ticks\": \"outside\", \"zeroline\": false, \"zerolinecolor\": \"rgb(36,36,36)\"}, \"zaxis\": {\"backgroundcolor\": \"white\", \"gridcolor\": \"rgb(232,232,232)\", \"gridwidth\": 2, \"linecolor\": \"rgb(36,36,36)\", \"showbackground\": true, \"showgrid\": false, \"showline\": true, \"ticks\": \"outside\", \"zeroline\": false, \"zerolinecolor\": \"rgb(36,36,36)\"}}, \"shapedefaults\": {\"fillcolor\": \"black\", \"line\": {\"width\": 0}, \"opacity\": 0.3}, \"ternary\": {\"aaxis\": {\"gridcolor\": \"rgb(232,232,232)\", \"linecolor\": \"rgb(36,36,36)\", \"showgrid\": false, \"showline\": true, \"ticks\": \"outside\"}, \"baxis\": {\"gridcolor\": \"rgb(232,232,232)\", \"linecolor\": \"rgb(36,36,36)\", \"showgrid\": false, \"showline\": true, \"ticks\": \"outside\"}, \"bgcolor\": \"white\", \"caxis\": {\"gridcolor\": \"rgb(232,232,232)\", \"linecolor\": \"rgb(36,36,36)\", \"showgrid\": false, \"showline\": true, \"ticks\": \"outside\"}}, \"title\": {\"x\": 0.05}, \"xaxis\": {\"automargin\": true, \"gridcolor\": \"rgb(232,232,232)\", \"linecolor\": \"rgb(36,36,36)\", \"showgrid\": false, \"showline\": true, \"ticks\": \"outside\", \"title\": {\"standoff\": 15}, \"zeroline\": false, \"zerolinecolor\": \"rgb(36,36,36)\"}, \"yaxis\": {\"automargin\": true, \"gridcolor\": \"rgb(232,232,232)\", \"linecolor\": \"rgb(36,36,36)\", \"showgrid\": false, \"showline\": true, \"ticks\": \"outside\", \"title\": {\"standoff\": 15}, \"zeroline\": false, \"zerolinecolor\": \"rgb(36,36,36)\"}}}, \"title\": {\"text\": \"Activation: Tanh\"}, \"width\": 900, \"xaxis\": {\"anchor\": \"y\", \"domain\": [0.0, 1.0], \"title\": {\"text\": \"data\"}}, \"yaxis\": {\"anchor\": \"x\", \"domain\": [0.0, 1.0], \"title\": {\"text\": \"tanh\"}}},\n",
              "                        {\"responsive\": true}\n",
              "                    ).then(function(){\n",
              "                            \n",
              "var gd = document.getElementById('19e1a758-bb70-4567-9f02-ea08402ecf12');\n",
              "var x = new MutationObserver(function (mutations, observer) {{\n",
              "        var display = window.getComputedStyle(gd).display;\n",
              "        if (!display || display === 'none') {{\n",
              "            console.log([gd, 'removed!']);\n",
              "            Plotly.purge(gd);\n",
              "            observer.disconnect();\n",
              "        }}\n",
              "}});\n",
              "\n",
              "// Listen for the removal of the full notebook cells\n",
              "var notebookContainer = gd.closest('#notebook-container');\n",
              "if (notebookContainer) {{\n",
              "    x.observe(notebookContainer, {childList: true});\n",
              "}}\n",
              "\n",
              "// Listen for the clearing of the current output cell\n",
              "var outputEl = gd.closest('.output');\n",
              "if (outputEl) {{\n",
              "    x.observe(outputEl, {childList: true});\n",
              "}}\n",
              "\n",
              "                        })\n",
              "                };\n",
              "                \n",
              "            </script>\n",
              "        </div>\n",
              "</body>\n",
              "</html>"
            ]
          },
          "metadata": {
            "tags": []
          }
        }
      ]
    },
    {
      "cell_type": "markdown",
      "metadata": {
        "id": "eZgfALSo8--O"
      },
      "source": [
        "### Model"
      ]
    },
    {
      "cell_type": "code",
      "metadata": {
        "id": "m6Xn1cAg8-cW",
        "outputId": "afd93b65-7874-44e7-dc5d-f1620fdca4e7",
        "colab": {
          "base_uri": "https://localhost:8080/",
          "height": 218
        }
      },
      "source": [
        "model = Sequential()\n",
        "model.add(Dense(units = 8, activation = 'relu', input_shape = (10, )))\n",
        "model.add(Dense(units = 1, activation = 'sigmoid'))\n",
        "model.summary()"
      ],
      "execution_count": 33,
      "outputs": [
        {
          "output_type": "stream",
          "text": [
            "Model: \"sequential_1\"\n",
            "_________________________________________________________________\n",
            "Layer (type)                 Output Shape              Param #   \n",
            "=================================================================\n",
            "dense_2 (Dense)              (None, 8)                 88        \n",
            "_________________________________________________________________\n",
            "dense_3 (Dense)              (None, 1)                 9         \n",
            "=================================================================\n",
            "Total params: 97\n",
            "Trainable params: 97\n",
            "Non-trainable params: 0\n",
            "_________________________________________________________________\n"
          ],
          "name": "stdout"
        }
      ]
    },
    {
      "cell_type": "markdown",
      "metadata": {
        "id": "eoSgNZGS9bYY"
      },
      "source": [
        "### Kompilacja modelu\n",
        "\n",
        "Przed rozpoczęciem trenowania sieci należy odpowiednio skonfigurować proces uczenia. W tym kroku określa się:\n",
        "\n",
        "1. Rodzaj optymalizatora (Keras - Optymalizatory).\n",
        "2. Funkcje straty (Keras - Straty).\n",
        "3. Metryki które będziemy obserwować podczas trenowania sieci."
      ]
    },
    {
      "cell_type": "code",
      "metadata": {
        "id": "xbv3YbID81bq"
      },
      "source": [
        "# klasyfikacja binarna\n",
        "model.compile(optimizer = 'rmsprop',\n",
        "              loss = 'binary_crossentropy',\n",
        "              metrics = ['accuracy'])\n",
        "# klasyfikacja wieloklasowa \n",
        "model.compile(optimizer = 'rmsprop',\n",
        "              loss = 'categorical_crossentropy',\n",
        "              metrics = ['accuracy'])\n",
        "# regresja\n",
        "model.compile(optimizer = 'rmsprop', \n",
        "              metrics = 'mse')\n"
      ],
      "execution_count": 34,
      "outputs": []
    },
    {
      "cell_type": "markdown",
      "metadata": {
        "id": "wKVsqsVxMitO"
      },
      "source": [
        "### Trenowanie modelu\n",
        "Za dane wejściowe do modelu należy przekazywać obiekt Numpy arrays.\n",
        "1. ***epochs*** - krotność przejścia danych przez sieć w procesie uczenia.\n",
        "2. ***batch_size*** - rozmiar wsadu po którym następuje aktualizacja wag.\n",
        "3. ***validation_split*** - część danych treninogowych, które zostaną wykorzystane jako zbiór walidacyjny.\n",
        "4. ***validation_data*** - (x_val, y_val) - dane wykorzystane do walidacji modelu.\n"
      ]
    },
    {
      "cell_type": "code",
      "metadata": {
        "id": "0wHZLk7ZMfHx"
      },
      "source": [
        "# model.fit(data, labels, epochs=10, batch_size=32)\n",
        "# model.fit(data, labels, epochs=10, batch_size=32, validation_split=0.2)\n",
        "# model.fit(data, labels, epochs=10, batch_size=32, validation_data=(x_val, y_val))"
      ],
      "execution_count": 35,
      "outputs": []
    },
    {
      "cell_type": "markdown",
      "metadata": {
        "id": "Zs-hOgqVY4Kq"
      },
      "source": [
        "### Przykład - klasyfikacja binarna."
      ]
    },
    {
      "cell_type": "code",
      "metadata": {
        "id": "8vZtkSzJQvbW"
      },
      "source": [
        "data = np.random.randn(1000, 150)\n",
        "labels = np.random.randint(2, size = (1000, 1))"
      ],
      "execution_count": 36,
      "outputs": []
    },
    {
      "cell_type": "code",
      "metadata": {
        "id": "Lxv-MKPVZlGJ",
        "outputId": "24db0172-a5d7-4f16-c098-d3a5c9ed1027",
        "colab": {
          "base_uri": "https://localhost:8080/",
          "height": 34
        }
      },
      "source": [
        "print(data.shape)"
      ],
      "execution_count": 37,
      "outputs": [
        {
          "output_type": "stream",
          "text": [
            "(1000, 150)\n"
          ],
          "name": "stdout"
        }
      ]
    },
    {
      "cell_type": "code",
      "metadata": {
        "id": "cBt6MN4iZmPI",
        "outputId": "ca9a8bc5-0a3b-4afb-e738-f61a4c587316",
        "colab": {
          "base_uri": "https://localhost:8080/",
          "height": 34
        }
      },
      "source": [
        "print(labels.shape)"
      ],
      "execution_count": 38,
      "outputs": [
        {
          "output_type": "stream",
          "text": [
            "(1000, 1)\n"
          ],
          "name": "stdout"
        }
      ]
    },
    {
      "cell_type": "code",
      "metadata": {
        "id": "X8mWZQziZn4h",
        "outputId": "ff26f94f-c6cd-4c6b-f1a9-264eccf4ae2a",
        "colab": {
          "base_uri": "https://localhost:8080/",
          "height": 1000
        }
      },
      "source": [
        "data[:3]"
      ],
      "execution_count": 39,
      "outputs": [
        {
          "output_type": "execute_result",
          "data": {
            "text/plain": [
              "array([[ 4.14255991e-01, -9.31814046e-01,  8.80556480e-01,\n",
              "        -1.88941394e+00,  8.62775783e-01, -6.39844050e-03,\n",
              "        -1.48680209e+00,  1.13002560e+00, -4.02604217e-01,\n",
              "         2.65044391e-01, -1.32361357e+00,  8.33256414e-01,\n",
              "        -3.10110287e-01,  3.71443183e-01, -1.58765101e-01,\n",
              "         7.88300993e-02,  3.70211831e-01, -1.81447787e+00,\n",
              "         6.05915857e-01, -1.63483071e-01,  1.36192795e-01,\n",
              "         2.70755116e-01,  2.48948661e-01,  1.94555302e+00,\n",
              "        -9.87557256e-01,  2.68335572e-01, -1.24510474e+00,\n",
              "         2.40040055e-01, -6.35887101e-01,  6.07982827e-01,\n",
              "        -8.47980664e-01, -7.52157968e-01, -1.40481857e+00,\n",
              "         8.41970020e-01,  2.46304419e+00,  2.87656825e-02,\n",
              "        -1.17645494e+00, -7.82240355e-01, -2.10390656e+00,\n",
              "         7.22426555e-01,  9.96979397e-02,  1.41440245e+00,\n",
              "        -1.45608334e-01, -6.35512318e-01,  1.13737995e+00,\n",
              "         1.41921045e+00,  1.33373495e+00,  8.06164367e-01,\n",
              "         6.19518755e-01, -5.20891352e-01,  1.58935810e-01,\n",
              "         1.34802698e-02, -9.95795828e-01, -9.59166292e-01,\n",
              "         2.55638797e-02, -8.56192620e-01,  3.04885939e-01,\n",
              "        -1.14247844e+00, -2.52522862e-01, -7.86462003e-01,\n",
              "        -5.99380355e-01, -3.44367659e-01, -2.59602521e-01,\n",
              "        -8.40286616e-01, -3.30593955e-01,  7.97441762e-01,\n",
              "         3.28772374e-01, -1.93327690e+00, -2.15172724e-01,\n",
              "         1.79161085e+00,  1.08134915e+00,  1.40092173e+00,\n",
              "        -2.81175283e-01,  1.02930857e+00,  1.93989095e+00,\n",
              "        -5.62850063e-01, -1.42414262e+00,  1.11177629e+00,\n",
              "         2.19348087e-01,  1.46644982e+00,  7.40749626e-01,\n",
              "        -1.52231243e+00, -1.98454399e+00, -1.28557952e+00,\n",
              "        -5.40097835e-01,  9.88650878e-02, -5.24747842e-01,\n",
              "         5.18776302e-01, -1.88997816e+00, -5.96413072e-01,\n",
              "        -1.27169694e+00, -2.06883449e-01,  5.86375885e-01,\n",
              "        -6.48573537e-01,  1.25355978e-01,  1.69921423e+00,\n",
              "        -1.52737636e-01, -6.66043587e-01,  6.68978021e-01,\n",
              "        -8.10421560e-01,  6.96076060e-01, -5.09685502e-01,\n",
              "         8.98242132e-01, -3.94974081e-01,  2.02584748e+00,\n",
              "        -2.53864109e-01, -5.21975174e-01,  1.02141669e+00,\n",
              "        -8.65263516e-01,  6.21394309e-01, -1.40428835e+00,\n",
              "         1.73681808e-01,  9.80401551e-01, -2.33123779e-01,\n",
              "        -1.47005472e-01, -6.53716104e-02,  5.97564107e-01,\n",
              "         5.46175592e-01,  9.05643356e-01, -6.55071339e-01,\n",
              "         1.51021169e+00, -3.64452171e-02,  7.25843772e-01,\n",
              "        -4.90338612e-01,  3.19271097e-01, -1.18084496e+00,\n",
              "         2.08663987e-01, -2.41596333e-01,  8.18664867e-02,\n",
              "         4.60593244e-01,  1.25999321e+00,  2.32275445e-01,\n",
              "        -2.23798621e-02,  2.83890783e-01,  2.53723915e+00,\n",
              "        -2.70040159e-01,  1.83053487e+00,  1.11504767e+00,\n",
              "         2.27765022e+00, -5.54593385e-01, -1.63453966e+00,\n",
              "        -8.45766154e-01,  9.43300704e-01, -1.13792666e+00,\n",
              "        -1.35130059e+00,  7.16751003e-01,  2.35197663e+00,\n",
              "         1.38636594e+00,  1.65908005e-01,  1.26410739e+00],\n",
              "       [ 2.28402161e+00,  7.94082537e-02, -7.12868087e-01,\n",
              "        -4.13017360e-01, -1.04001564e+00,  1.98125589e+00,\n",
              "         8.62333780e-01, -1.17230165e+00,  5.45077543e-01,\n",
              "        -6.00827535e-02, -6.45006471e-01, -8.35111768e-01,\n",
              "        -4.18986600e-01,  1.99761559e+00,  4.51600123e-01,\n",
              "        -8.43926686e-01,  1.01306893e+00,  1.07798716e+00,\n",
              "         6.51304514e-01,  2.76472181e-01, -5.50152310e-01,\n",
              "        -1.09135839e-01,  7.57149723e-01, -8.52793108e-01,\n",
              "         3.90016269e-01, -2.71044595e-02,  6.91657592e-01,\n",
              "         4.19201962e-01,  6.64968554e-01, -8.13580947e-02,\n",
              "        -1.05499236e-01,  3.36658667e-01, -9.17940719e-04,\n",
              "        -1.19519279e+00, -6.43327209e-01,  1.96152679e-01,\n",
              "        -4.94511618e-02, -8.42514468e-01, -1.70510046e+00,\n",
              "         4.93982915e-01,  1.99175775e-01,  5.16866497e-01,\n",
              "         2.45246329e-01,  1.79098431e-01, -9.74603411e-01,\n",
              "         5.12549472e-01, -1.31779146e+00,  2.53572928e-01,\n",
              "         4.96179010e-01,  7.75741193e-01,  7.14051045e-01,\n",
              "        -2.09325108e+00,  1.83302698e-01, -3.54304865e-01,\n",
              "        -1.98670940e+00, -2.75487405e-01,  2.16164080e-01,\n",
              "         4.72494139e-01, -6.18066898e-01,  1.38958012e+00,\n",
              "         9.80339751e-01,  2.31768190e+00,  1.38585405e+00,\n",
              "         9.75634888e-01, -9.81164884e-01, -4.67623298e-01,\n",
              "         7.34201326e-01,  4.37074413e-02, -2.23859027e+00,\n",
              "        -4.85292253e-02,  2.01769357e-01,  4.47957824e-01,\n",
              "         8.94805256e-03, -3.65640618e-01, -1.01287239e-01,\n",
              "        -1.44399006e+00, -5.97314430e-01,  1.93585810e+00,\n",
              "         4.47622112e-01, -9.10824422e-01,  8.83755896e-01,\n",
              "         4.08602937e-01, -9.98878200e-01, -4.94048017e-01,\n",
              "         1.97738553e+00,  1.78050591e-01,  9.41343306e-01,\n",
              "         6.15122134e-01, -9.08213508e-01,  1.32648085e+00,\n",
              "         1.00374912e+00,  9.20762423e-01, -1.02090776e+00,\n",
              "         1.40397841e-01, -1.68601492e+00, -1.61171119e+00,\n",
              "        -1.31480946e+00, -2.28896370e-01, -7.39621488e-01,\n",
              "         4.43838242e-02, -1.11363639e+00,  5.17622468e-01,\n",
              "        -5.60698394e-01,  1.07832422e+00, -2.09632290e+00,\n",
              "        -1.07277507e+00, -2.92946661e-01, -1.54515121e-01,\n",
              "         6.08865686e-01,  1.98166660e+00,  1.46375211e+00,\n",
              "         1.22382647e+00,  1.07191110e-01,  5.30874278e-01,\n",
              "         1.24510915e-01, -1.25276944e+00,  2.89401983e-01,\n",
              "         4.86734912e-01, -8.03759619e-01,  1.21401143e+00,\n",
              "        -1.75341110e+00, -5.46127246e-02, -2.26915397e+00,\n",
              "         4.84309993e-01,  4.23194345e-02,  9.78429750e-01,\n",
              "         1.74112457e-01,  1.04871364e-01, -7.48909145e-01,\n",
              "         5.19762872e-01,  8.40985612e-01, -1.05414374e+00,\n",
              "         8.04466708e-01,  1.04622908e+00, -1.49467052e+00,\n",
              "        -2.69074146e-01,  4.42242128e-01,  4.13959803e-01,\n",
              "         1.22990115e+00,  7.32827224e-01,  3.18752105e-01,\n",
              "         1.48957373e+00,  3.55348999e-01, -5.28482589e-01,\n",
              "         4.51572728e-01,  2.29871329e+00, -1.97700017e+00,\n",
              "         1.24425537e-01,  7.36840990e-01,  2.20958439e+00],\n",
              "       [ 9.52566525e-01,  8.24877817e-01, -2.60447999e+00,\n",
              "         4.32298686e-01, -1.50813766e+00,  1.47418921e+00,\n",
              "        -5.10338079e-02,  1.21882327e+00,  1.82863721e+00,\n",
              "        -3.76655706e-01,  5.84010988e-01,  1.62305064e+00,\n",
              "        -3.65709211e-01,  1.69092429e+00, -6.47489615e-01,\n",
              "         9.27749725e-02, -1.01080411e+00, -8.82504870e-01,\n",
              "         5.47721839e-01, -1.56351323e+00, -1.00697204e+00,\n",
              "        -5.50436041e-01, -1.45949168e-01, -1.32101342e-01,\n",
              "        -1.50832698e+00, -9.10446235e-01, -1.23249759e+00,\n",
              "        -1.48350172e-02, -2.89716851e-01, -1.64559428e-01,\n",
              "         1.20098080e+00,  1.43240919e+00,  6.81586818e-01,\n",
              "         5.42007056e-01, -7.32974812e-01,  5.99378608e-01,\n",
              "         8.98051585e-01,  1.07648076e+00, -5.08091599e-01,\n",
              "         5.47738520e-01,  4.15392461e-01, -3.76066771e-02,\n",
              "        -1.24862444e+00, -1.41706425e-01, -1.15152423e+00,\n",
              "        -4.59201861e-01, -6.08860470e-01, -1.03306519e+00,\n",
              "        -1.07316444e-01, -7.49298649e-01,  4.18140609e-01,\n",
              "        -4.57679372e-01, -1.34994765e+00, -3.19833816e-01,\n",
              "         2.37017876e+00,  1.13632713e+00, -6.29970262e-01,\n",
              "        -7.19058095e-01,  5.93075183e-01, -3.04211462e-01,\n",
              "        -1.75511985e+00,  1.57878248e+00, -4.35446727e-01,\n",
              "         1.91485175e+00, -1.21827915e+00, -8.10258096e-01,\n",
              "         5.04005916e-01,  4.92681926e-01,  1.30498558e+00,\n",
              "        -9.46463519e-02,  1.49638575e+00, -1.15311717e+00,\n",
              "        -3.73666097e-01, -1.06010538e+00, -5.78087493e-01,\n",
              "         1.51258485e+00,  1.50546131e+00,  1.23938059e+00,\n",
              "         1.13770152e+00,  6.94754005e-01, -1.25592914e+00,\n",
              "         6.33978696e-01,  1.41133875e+00, -7.32293759e-01,\n",
              "         8.67749965e-01, -1.08286342e+00, -2.44526737e-01,\n",
              "         1.28165695e+00,  3.13059355e-01,  3.63230870e-01,\n",
              "        -1.60191816e+00,  5.53649762e-01,  9.09374700e-01,\n",
              "         2.72374049e-01, -6.11605669e-01,  1.55547846e+00,\n",
              "        -1.04161981e-01,  1.48969456e+00,  7.91682288e-01,\n",
              "         4.80130778e-01,  9.57862019e-01, -8.62841948e-01,\n",
              "        -3.13770083e-01, -2.75134072e-01,  1.47383892e+00,\n",
              "        -2.37899100e-01, -6.51197789e-01, -5.59111733e-01,\n",
              "        -1.82159367e-01,  5.04750182e-01,  2.59680469e-02,\n",
              "         2.03113067e-01,  8.88951766e-02,  3.16559313e-01,\n",
              "        -7.62696256e-01, -6.65254468e-01, -1.30639261e-01,\n",
              "         5.52806349e-01, -1.51088273e-01, -8.14580861e-01,\n",
              "        -1.06784695e+00, -6.25364490e-02, -2.95977762e-01,\n",
              "         1.14348844e+00,  4.73778077e-02,  3.31776748e-01,\n",
              "        -3.74323206e-01,  5.16409862e-01, -7.03795193e-01,\n",
              "         1.47772560e-02, -1.06610619e+00,  3.72370055e-01,\n",
              "        -2.12105954e-01, -5.20119722e-01, -2.54511472e+00,\n",
              "         1.54000377e+00,  6.21315484e-02, -5.64488473e-01,\n",
              "         5.40714475e-01, -8.21498486e-02, -7.62171549e-01,\n",
              "        -6.77810133e-01, -6.69446055e-01, -2.97150153e-03,\n",
              "         9.82776247e-01,  5.27579570e-01,  3.74927975e-01,\n",
              "         2.06958504e+00,  1.05688804e+00, -8.61196241e-01]])"
            ]
          },
          "metadata": {
            "tags": []
          },
          "execution_count": 39
        }
      ]
    },
    {
      "cell_type": "code",
      "metadata": {
        "id": "f46VEGz8ZqZG",
        "outputId": "20f598c7-4899-4ad4-86b2-b6e3ddca278f",
        "colab": {
          "base_uri": "https://localhost:8080/",
          "height": 185
        }
      },
      "source": [
        "labels[:10]"
      ],
      "execution_count": 40,
      "outputs": [
        {
          "output_type": "execute_result",
          "data": {
            "text/plain": [
              "array([[1],\n",
              "       [1],\n",
              "       [1],\n",
              "       [1],\n",
              "       [1],\n",
              "       [1],\n",
              "       [1],\n",
              "       [1],\n",
              "       [1],\n",
              "       [0]])"
            ]
          },
          "metadata": {
            "tags": []
          },
          "execution_count": 40
        }
      ]
    },
    {
      "cell_type": "code",
      "metadata": {
        "id": "hQPd92SQZuUw"
      },
      "source": [
        "model = Sequential()"
      ],
      "execution_count": 41,
      "outputs": []
    },
    {
      "cell_type": "code",
      "metadata": {
        "id": "hCrNgB8GZyHC",
        "outputId": "153091a9-c804-4f16-ec6c-1c6ebfb9c61f",
        "colab": {
          "base_uri": "https://localhost:8080/",
          "height": 218
        }
      },
      "source": [
        "model.add(Dense(units = 32, activation = 'relu', input_shape = (150, )))\n",
        "model.add(Dense(units = 1, activation = 'sigmoid'))\n",
        "\n",
        "model.compile(optimizer='rmsprop',\n",
        "              loss = 'binary_crossentropy',\n",
        "              metrics = ['accuracy'])\n",
        "model.summary()"
      ],
      "execution_count": 43,
      "outputs": [
        {
          "output_type": "stream",
          "text": [
            "Model: \"sequential_2\"\n",
            "_________________________________________________________________\n",
            "Layer (type)                 Output Shape              Param #   \n",
            "=================================================================\n",
            "dense_5 (Dense)              (None, 32)                4832      \n",
            "_________________________________________________________________\n",
            "dense_6 (Dense)              (None, 1)                 33        \n",
            "=================================================================\n",
            "Total params: 4,865\n",
            "Trainable params: 4,865\n",
            "Non-trainable params: 0\n",
            "_________________________________________________________________\n"
          ],
          "name": "stdout"
        }
      ]
    },
    {
      "cell_type": "code",
      "metadata": {
        "id": "pXP8T6xGak-S",
        "outputId": "e5641acd-a50f-4230-8cc2-1224d5feb4cd",
        "colab": {
          "base_uri": "https://localhost:8080/",
          "height": 706
        }
      },
      "source": [
        "model.fit(data, labels, epochs = 20)"
      ],
      "execution_count": 45,
      "outputs": [
        {
          "output_type": "stream",
          "text": [
            "Epoch 1/20\n",
            "32/32 [==============================] - 0s 1ms/step - loss: 0.7449 - accuracy: 0.5360\n",
            "Epoch 2/20\n",
            "32/32 [==============================] - 0s 1ms/step - loss: 0.6839 - accuracy: 0.5860\n",
            "Epoch 3/20\n",
            "32/32 [==============================] - 0s 1ms/step - loss: 0.6412 - accuracy: 0.6230\n",
            "Epoch 4/20\n",
            "32/32 [==============================] - 0s 982us/step - loss: 0.6056 - accuracy: 0.6700\n",
            "Epoch 5/20\n",
            "32/32 [==============================] - 0s 978us/step - loss: 0.5751 - accuracy: 0.7150\n",
            "Epoch 6/20\n",
            "32/32 [==============================] - 0s 1ms/step - loss: 0.5462 - accuracy: 0.7420\n",
            "Epoch 7/20\n",
            "32/32 [==============================] - 0s 1000us/step - loss: 0.5218 - accuracy: 0.7700\n",
            "Epoch 8/20\n",
            "32/32 [==============================] - 0s 993us/step - loss: 0.4976 - accuracy: 0.7890\n",
            "Epoch 9/20\n",
            "32/32 [==============================] - 0s 997us/step - loss: 0.4753 - accuracy: 0.8040\n",
            "Epoch 10/20\n",
            "32/32 [==============================] - 0s 1ms/step - loss: 0.4523 - accuracy: 0.8230\n",
            "Epoch 11/20\n",
            "32/32 [==============================] - 0s 1ms/step - loss: 0.4308 - accuracy: 0.8400\n",
            "Epoch 12/20\n",
            "32/32 [==============================] - 0s 976us/step - loss: 0.4089 - accuracy: 0.8590\n",
            "Epoch 13/20\n",
            "32/32 [==============================] - 0s 1ms/step - loss: 0.3887 - accuracy: 0.8660\n",
            "Epoch 14/20\n",
            "32/32 [==============================] - 0s 1ms/step - loss: 0.3678 - accuracy: 0.8860\n",
            "Epoch 15/20\n",
            "32/32 [==============================] - 0s 1ms/step - loss: 0.3452 - accuracy: 0.8970\n",
            "Epoch 16/20\n",
            "32/32 [==============================] - 0s 996us/step - loss: 0.3282 - accuracy: 0.9100\n",
            "Epoch 17/20\n",
            "32/32 [==============================] - 0s 1ms/step - loss: 0.3070 - accuracy: 0.9290\n",
            "Epoch 18/20\n",
            "32/32 [==============================] - 0s 1ms/step - loss: 0.2885 - accuracy: 0.9440\n",
            "Epoch 19/20\n",
            "32/32 [==============================] - 0s 1ms/step - loss: 0.2687 - accuracy: 0.9560\n",
            "Epoch 20/20\n",
            "32/32 [==============================] - 0s 1ms/step - loss: 0.2510 - accuracy: 0.9700\n"
          ],
          "name": "stdout"
        },
        {
          "output_type": "execute_result",
          "data": {
            "text/plain": [
              "<tensorflow.python.keras.callbacks.History at 0x7f2fd88fff60>"
            ]
          },
          "metadata": {
            "tags": []
          },
          "execution_count": 45
        }
      ]
    },
    {
      "cell_type": "code",
      "metadata": {
        "id": "V1Tz9YxuayDm",
        "outputId": "28ab2925-5694-44fd-e031-919781432f27",
        "colab": {
          "base_uri": "https://localhost:8080/",
          "height": 218
        }
      },
      "source": [
        "model_1 = Sequential()\n",
        "model_1.add(Dense(units = 32, activation = 'relu', input_shape = (150,)))\n",
        "model_1.add(Dense(units = 1, activation = 'sigmoid'))\n",
        "model_1.compile(optimizer = 'rmsprop',\n",
        "              loss = 'binary_crossentropy',\n",
        "              metrics = ['accuracy'])\n",
        "model_1.summary()"
      ],
      "execution_count": 68,
      "outputs": [
        {
          "output_type": "stream",
          "text": [
            "Model: \"sequential_11\"\n",
            "_________________________________________________________________\n",
            "Layer (type)                 Output Shape              Param #   \n",
            "=================================================================\n",
            "dense_21 (Dense)             (None, 32)                4832      \n",
            "_________________________________________________________________\n",
            "dense_22 (Dense)             (None, 1)                 33        \n",
            "=================================================================\n",
            "Total params: 4,865\n",
            "Trainable params: 4,865\n",
            "Non-trainable params: 0\n",
            "_________________________________________________________________\n"
          ],
          "name": "stdout"
        }
      ]
    },
    {
      "cell_type": "code",
      "metadata": {
        "id": "3r-Z7iZBfuTX",
        "outputId": "4f86f07b-8878-4a1e-bf58-65952858a7a5",
        "colab": {
          "base_uri": "https://localhost:8080/",
          "height": 706
        }
      },
      "source": [
        "model_1.fit(data, labels, epochs = 20, batch_size =30)"
      ],
      "execution_count": 69,
      "outputs": [
        {
          "output_type": "stream",
          "text": [
            "Epoch 1/20\n",
            "34/34 [==============================] - 0s 1ms/step - loss: 0.7960 - accuracy: 0.5130\n",
            "Epoch 2/20\n",
            "34/34 [==============================] - 0s 975us/step - loss: 0.6960 - accuracy: 0.5870\n",
            "Epoch 3/20\n",
            "34/34 [==============================] - 0s 937us/step - loss: 0.6395 - accuracy: 0.6280\n",
            "Epoch 4/20\n",
            "34/34 [==============================] - 0s 1ms/step - loss: 0.5970 - accuracy: 0.6750\n",
            "Epoch 5/20\n",
            "34/34 [==============================] - 0s 951us/step - loss: 0.5604 - accuracy: 0.7200\n",
            "Epoch 6/20\n",
            "34/34 [==============================] - 0s 973us/step - loss: 0.5304 - accuracy: 0.7540\n",
            "Epoch 7/20\n",
            "34/34 [==============================] - 0s 1ms/step - loss: 0.5016 - accuracy: 0.7900\n",
            "Epoch 8/20\n",
            "34/34 [==============================] - 0s 1ms/step - loss: 0.4749 - accuracy: 0.8120\n",
            "Epoch 9/20\n",
            "34/34 [==============================] - 0s 970us/step - loss: 0.4486 - accuracy: 0.8360\n",
            "Epoch 10/20\n",
            "34/34 [==============================] - 0s 912us/step - loss: 0.4249 - accuracy: 0.8450\n",
            "Epoch 11/20\n",
            "34/34 [==============================] - 0s 1ms/step - loss: 0.3999 - accuracy: 0.8670\n",
            "Epoch 12/20\n",
            "34/34 [==============================] - 0s 1ms/step - loss: 0.3772 - accuracy: 0.8850\n",
            "Epoch 13/20\n",
            "34/34 [==============================] - 0s 1ms/step - loss: 0.3524 - accuracy: 0.9060\n",
            "Epoch 14/20\n",
            "34/34 [==============================] - 0s 982us/step - loss: 0.3307 - accuracy: 0.9190\n",
            "Epoch 15/20\n",
            "34/34 [==============================] - 0s 1ms/step - loss: 0.3077 - accuracy: 0.9380\n",
            "Epoch 16/20\n",
            "34/34 [==============================] - 0s 1ms/step - loss: 0.2858 - accuracy: 0.9510\n",
            "Epoch 17/20\n",
            "34/34 [==============================] - 0s 1ms/step - loss: 0.2642 - accuracy: 0.9520\n",
            "Epoch 18/20\n",
            "34/34 [==============================] - 0s 1ms/step - loss: 0.2446 - accuracy: 0.9620\n",
            "Epoch 19/20\n",
            "34/34 [==============================] - 0s 1ms/step - loss: 0.2256 - accuracy: 0.9700\n",
            "Epoch 20/20\n",
            "34/34 [==============================] - 0s 1ms/step - loss: 0.2067 - accuracy: 0.9790\n"
          ],
          "name": "stdout"
        },
        {
          "output_type": "execute_result",
          "data": {
            "text/plain": [
              "<tensorflow.python.keras.callbacks.History at 0x7f2fd769f550>"
            ]
          },
          "metadata": {
            "tags": []
          },
          "execution_count": 69
        }
      ]
    },
    {
      "cell_type": "code",
      "metadata": {
        "id": "MavS8OvPf6kx",
        "outputId": "ebb01adc-d4f7-4a4e-b81b-8a04b733410d",
        "colab": {
          "base_uri": "https://localhost:8080/",
          "height": 218
        }
      },
      "source": [
        "model = Sequential()\n",
        "model.add(Dense(units = 32, activation = 'relu', input_shape = (150, )))\n",
        "model.add(Dense(units = 1, activation = 'sigmoid'))\n",
        "model.compile(optimizer = 'rmsprop',\n",
        "              loss = 'binary_crossentropy',\n",
        "              metrics = ['accuracy'])\n",
        "model.summary()"
      ],
      "execution_count": 66,
      "outputs": [
        {
          "output_type": "stream",
          "text": [
            "Model: \"sequential_10\"\n",
            "_________________________________________________________________\n",
            "Layer (type)                 Output Shape              Param #   \n",
            "=================================================================\n",
            "dense_19 (Dense)             (None, 32)                4832      \n",
            "_________________________________________________________________\n",
            "dense_20 (Dense)             (None, 1)                 33        \n",
            "=================================================================\n",
            "Total params: 4,865\n",
            "Trainable params: 4,865\n",
            "Non-trainable params: 0\n",
            "_________________________________________________________________\n"
          ],
          "name": "stdout"
        }
      ]
    },
    {
      "cell_type": "code",
      "metadata": {
        "id": "dpMrO5aXg1Hz",
        "outputId": "23a0c725-a375-4153-8cf4-68cc001223d5",
        "colab": {
          "base_uri": "https://localhost:8080/",
          "height": 706
        }
      },
      "source": [
        "model.fit(data, labels, epochs = 20, batch_size = 32, validation_split = 0.2)"
      ],
      "execution_count": 67,
      "outputs": [
        {
          "output_type": "stream",
          "text": [
            "Epoch 1/20\n",
            "25/25 [==============================] - 0s 6ms/step - loss: 0.8153 - accuracy: 0.5125 - val_loss: 0.7619 - val_accuracy: 0.5400\n",
            "Epoch 2/20\n",
            "25/25 [==============================] - 0s 2ms/step - loss: 0.7068 - accuracy: 0.5738 - val_loss: 0.7495 - val_accuracy: 0.5400\n",
            "Epoch 3/20\n",
            "25/25 [==============================] - 0s 2ms/step - loss: 0.6512 - accuracy: 0.6037 - val_loss: 0.7473 - val_accuracy: 0.5150\n",
            "Epoch 4/20\n",
            "25/25 [==============================] - 0s 2ms/step - loss: 0.6099 - accuracy: 0.6562 - val_loss: 0.7526 - val_accuracy: 0.5050\n",
            "Epoch 5/20\n",
            "25/25 [==============================] - 0s 2ms/step - loss: 0.5762 - accuracy: 0.7038 - val_loss: 0.7622 - val_accuracy: 0.5100\n",
            "Epoch 6/20\n",
            "25/25 [==============================] - 0s 2ms/step - loss: 0.5465 - accuracy: 0.7312 - val_loss: 0.7730 - val_accuracy: 0.4950\n",
            "Epoch 7/20\n",
            "25/25 [==============================] - 0s 2ms/step - loss: 0.5188 - accuracy: 0.7788 - val_loss: 0.7851 - val_accuracy: 0.4900\n",
            "Epoch 8/20\n",
            "25/25 [==============================] - 0s 2ms/step - loss: 0.4934 - accuracy: 0.7937 - val_loss: 0.7976 - val_accuracy: 0.4750\n",
            "Epoch 9/20\n",
            "25/25 [==============================] - 0s 2ms/step - loss: 0.4690 - accuracy: 0.8150 - val_loss: 0.8096 - val_accuracy: 0.4800\n",
            "Epoch 10/20\n",
            "25/25 [==============================] - 0s 2ms/step - loss: 0.4459 - accuracy: 0.8325 - val_loss: 0.8225 - val_accuracy: 0.4750\n",
            "Epoch 11/20\n",
            "25/25 [==============================] - 0s 2ms/step - loss: 0.4235 - accuracy: 0.8525 - val_loss: 0.8346 - val_accuracy: 0.4800\n",
            "Epoch 12/20\n",
            "25/25 [==============================] - 0s 2ms/step - loss: 0.4014 - accuracy: 0.8612 - val_loss: 0.8445 - val_accuracy: 0.4850\n",
            "Epoch 13/20\n",
            "25/25 [==============================] - 0s 2ms/step - loss: 0.3789 - accuracy: 0.8838 - val_loss: 0.8592 - val_accuracy: 0.4950\n",
            "Epoch 14/20\n",
            "25/25 [==============================] - 0s 2ms/step - loss: 0.3582 - accuracy: 0.8988 - val_loss: 0.8719 - val_accuracy: 0.4900\n",
            "Epoch 15/20\n",
            "25/25 [==============================] - 0s 2ms/step - loss: 0.3373 - accuracy: 0.9125 - val_loss: 0.8880 - val_accuracy: 0.4850\n",
            "Epoch 16/20\n",
            "25/25 [==============================] - 0s 2ms/step - loss: 0.3163 - accuracy: 0.9312 - val_loss: 0.9008 - val_accuracy: 0.4950\n",
            "Epoch 17/20\n",
            "25/25 [==============================] - 0s 2ms/step - loss: 0.2964 - accuracy: 0.9400 - val_loss: 0.9140 - val_accuracy: 0.5000\n",
            "Epoch 18/20\n",
            "25/25 [==============================] - 0s 2ms/step - loss: 0.2758 - accuracy: 0.9525 - val_loss: 0.9310 - val_accuracy: 0.4950\n",
            "Epoch 19/20\n",
            "25/25 [==============================] - 0s 2ms/step - loss: 0.2569 - accuracy: 0.9600 - val_loss: 0.9429 - val_accuracy: 0.5050\n",
            "Epoch 20/20\n",
            "25/25 [==============================] - 0s 2ms/step - loss: 0.2384 - accuracy: 0.9712 - val_loss: 0.9604 - val_accuracy: 0.5000\n"
          ],
          "name": "stdout"
        },
        {
          "output_type": "execute_result",
          "data": {
            "text/plain": [
              "<tensorflow.python.keras.callbacks.History at 0x7f2fe22c2710>"
            ]
          },
          "metadata": {
            "tags": []
          },
          "execution_count": 67
        }
      ]
    },
    {
      "cell_type": "code",
      "metadata": {
        "id": "PuU1_loYg3nZ"
      },
      "source": [
        "\n",
        "model = Sequential()\n",
        "model.add(Dense(units=32, activation='relu', input_shape=(150,)))\n",
        "model.add(Dense(1, activation='sigmoid'))\n",
        "\n",
        "model.compile(optimizer='rmsprop',\n",
        "              loss='binary_crossentropy',\n",
        "              metrics=['accuracy'])\n",
        "\n",
        "history = model.fit(data, labels, epochs=20, batch_size=32, validation_split=0.2, verbose=0)"
      ],
      "execution_count": 73,
      "outputs": []
    },
    {
      "cell_type": "code",
      "metadata": {
        "id": "eyZNbXqlhjbJ",
        "outputId": "1afc6fe5-6e2a-4786-86d0-e7f8b2b13383",
        "colab": {
          "base_uri": "https://localhost:8080/",
          "height": 639
        }
      },
      "source": [
        "pd.DataFrame(history.history)"
      ],
      "execution_count": 76,
      "outputs": [
        {
          "output_type": "execute_result",
          "data": {
            "text/html": [
              "<div>\n",
              "<style scoped>\n",
              "    .dataframe tbody tr th:only-of-type {\n",
              "        vertical-align: middle;\n",
              "    }\n",
              "\n",
              "    .dataframe tbody tr th {\n",
              "        vertical-align: top;\n",
              "    }\n",
              "\n",
              "    .dataframe thead th {\n",
              "        text-align: right;\n",
              "    }\n",
              "</style>\n",
              "<table border=\"1\" class=\"dataframe\">\n",
              "  <thead>\n",
              "    <tr style=\"text-align: right;\">\n",
              "      <th></th>\n",
              "      <th>loss</th>\n",
              "      <th>accuracy</th>\n",
              "      <th>val_loss</th>\n",
              "      <th>val_accuracy</th>\n",
              "    </tr>\n",
              "  </thead>\n",
              "  <tbody>\n",
              "    <tr>\n",
              "      <th>0</th>\n",
              "      <td>0.748004</td>\n",
              "      <td>0.53500</td>\n",
              "      <td>0.751215</td>\n",
              "      <td>0.520</td>\n",
              "    </tr>\n",
              "    <tr>\n",
              "      <th>1</th>\n",
              "      <td>0.673271</td>\n",
              "      <td>0.60000</td>\n",
              "      <td>0.750224</td>\n",
              "      <td>0.540</td>\n",
              "    </tr>\n",
              "    <tr>\n",
              "      <th>2</th>\n",
              "      <td>0.631944</td>\n",
              "      <td>0.63875</td>\n",
              "      <td>0.751871</td>\n",
              "      <td>0.535</td>\n",
              "    </tr>\n",
              "    <tr>\n",
              "      <th>3</th>\n",
              "      <td>0.597228</td>\n",
              "      <td>0.68750</td>\n",
              "      <td>0.758025</td>\n",
              "      <td>0.525</td>\n",
              "    </tr>\n",
              "    <tr>\n",
              "      <th>4</th>\n",
              "      <td>0.566941</td>\n",
              "      <td>0.72000</td>\n",
              "      <td>0.763883</td>\n",
              "      <td>0.530</td>\n",
              "    </tr>\n",
              "    <tr>\n",
              "      <th>5</th>\n",
              "      <td>0.539225</td>\n",
              "      <td>0.73875</td>\n",
              "      <td>0.770881</td>\n",
              "      <td>0.540</td>\n",
              "    </tr>\n",
              "    <tr>\n",
              "      <th>6</th>\n",
              "      <td>0.513583</td>\n",
              "      <td>0.77500</td>\n",
              "      <td>0.779006</td>\n",
              "      <td>0.535</td>\n",
              "    </tr>\n",
              "    <tr>\n",
              "      <th>7</th>\n",
              "      <td>0.488932</td>\n",
              "      <td>0.80125</td>\n",
              "      <td>0.787669</td>\n",
              "      <td>0.520</td>\n",
              "    </tr>\n",
              "    <tr>\n",
              "      <th>8</th>\n",
              "      <td>0.464654</td>\n",
              "      <td>0.83750</td>\n",
              "      <td>0.797169</td>\n",
              "      <td>0.515</td>\n",
              "    </tr>\n",
              "    <tr>\n",
              "      <th>9</th>\n",
              "      <td>0.442457</td>\n",
              "      <td>0.85500</td>\n",
              "      <td>0.807472</td>\n",
              "      <td>0.515</td>\n",
              "    </tr>\n",
              "    <tr>\n",
              "      <th>10</th>\n",
              "      <td>0.420429</td>\n",
              "      <td>0.86750</td>\n",
              "      <td>0.815918</td>\n",
              "      <td>0.530</td>\n",
              "    </tr>\n",
              "    <tr>\n",
              "      <th>11</th>\n",
              "      <td>0.398688</td>\n",
              "      <td>0.88875</td>\n",
              "      <td>0.827483</td>\n",
              "      <td>0.535</td>\n",
              "    </tr>\n",
              "    <tr>\n",
              "      <th>12</th>\n",
              "      <td>0.377965</td>\n",
              "      <td>0.89625</td>\n",
              "      <td>0.838044</td>\n",
              "      <td>0.525</td>\n",
              "    </tr>\n",
              "    <tr>\n",
              "      <th>13</th>\n",
              "      <td>0.358494</td>\n",
              "      <td>0.91250</td>\n",
              "      <td>0.848328</td>\n",
              "      <td>0.530</td>\n",
              "    </tr>\n",
              "    <tr>\n",
              "      <th>14</th>\n",
              "      <td>0.337082</td>\n",
              "      <td>0.92625</td>\n",
              "      <td>0.858445</td>\n",
              "      <td>0.530</td>\n",
              "    </tr>\n",
              "    <tr>\n",
              "      <th>15</th>\n",
              "      <td>0.317096</td>\n",
              "      <td>0.93000</td>\n",
              "      <td>0.867954</td>\n",
              "      <td>0.525</td>\n",
              "    </tr>\n",
              "    <tr>\n",
              "      <th>16</th>\n",
              "      <td>0.297833</td>\n",
              "      <td>0.94500</td>\n",
              "      <td>0.879618</td>\n",
              "      <td>0.530</td>\n",
              "    </tr>\n",
              "    <tr>\n",
              "      <th>17</th>\n",
              "      <td>0.279520</td>\n",
              "      <td>0.95000</td>\n",
              "      <td>0.889323</td>\n",
              "      <td>0.545</td>\n",
              "    </tr>\n",
              "    <tr>\n",
              "      <th>18</th>\n",
              "      <td>0.260803</td>\n",
              "      <td>0.95125</td>\n",
              "      <td>0.900748</td>\n",
              "      <td>0.540</td>\n",
              "    </tr>\n",
              "    <tr>\n",
              "      <th>19</th>\n",
              "      <td>0.243343</td>\n",
              "      <td>0.96000</td>\n",
              "      <td>0.909902</td>\n",
              "      <td>0.545</td>\n",
              "    </tr>\n",
              "  </tbody>\n",
              "</table>\n",
              "</div>"
            ],
            "text/plain": [
              "        loss  accuracy  val_loss  val_accuracy\n",
              "0   0.748004   0.53500  0.751215         0.520\n",
              "1   0.673271   0.60000  0.750224         0.540\n",
              "2   0.631944   0.63875  0.751871         0.535\n",
              "3   0.597228   0.68750  0.758025         0.525\n",
              "4   0.566941   0.72000  0.763883         0.530\n",
              "5   0.539225   0.73875  0.770881         0.540\n",
              "6   0.513583   0.77500  0.779006         0.535\n",
              "7   0.488932   0.80125  0.787669         0.520\n",
              "8   0.464654   0.83750  0.797169         0.515\n",
              "9   0.442457   0.85500  0.807472         0.515\n",
              "10  0.420429   0.86750  0.815918         0.530\n",
              "11  0.398688   0.88875  0.827483         0.535\n",
              "12  0.377965   0.89625  0.838044         0.525\n",
              "13  0.358494   0.91250  0.848328         0.530\n",
              "14  0.337082   0.92625  0.858445         0.530\n",
              "15  0.317096   0.93000  0.867954         0.525\n",
              "16  0.297833   0.94500  0.879618         0.530\n",
              "17  0.279520   0.95000  0.889323         0.545\n",
              "18  0.260803   0.95125  0.900748         0.540\n",
              "19  0.243343   0.96000  0.909902         0.545"
            ]
          },
          "metadata": {
            "tags": []
          },
          "execution_count": 76
        }
      ]
    },
    {
      "cell_type": "code",
      "metadata": {
        "id": "HLBO4tqphxJV"
      },
      "source": [
        "test_data = np.random.randn(5,150)\n",
        "test_labels = np.random.randint(2, size = (5,1))"
      ],
      "execution_count": 78,
      "outputs": []
    },
    {
      "cell_type": "code",
      "metadata": {
        "id": "tmmEMpDDjiUE",
        "outputId": "1680beb2-3aa7-4323-fdf5-11731d9304a8",
        "colab": {
          "base_uri": "https://localhost:8080/",
          "height": 101
        }
      },
      "source": [
        "model.predict(test_data)"
      ],
      "execution_count": 81,
      "outputs": [
        {
          "output_type": "execute_result",
          "data": {
            "text/plain": [
              "array([[0.18944457],\n",
              "       [0.7461901 ],\n",
              "       [0.14634588],\n",
              "       [0.5075339 ],\n",
              "       [0.9671933 ]], dtype=float32)"
            ]
          },
          "metadata": {
            "tags": []
          },
          "execution_count": 81
        }
      ]
    },
    {
      "cell_type": "code",
      "metadata": {
        "id": "ntu-3av7jjcy",
        "outputId": "9b97db34-f335-4940-dde7-3a71693f47a3",
        "colab": {
          "base_uri": "https://localhost:8080/",
          "height": 171
        }
      },
      "source": [
        "model.predict_proba(test_data)"
      ],
      "execution_count": 83,
      "outputs": [
        {
          "output_type": "stream",
          "text": [
            "WARNING:tensorflow:From <ipython-input-83-179dbf9460b3>:1: Sequential.predict_proba (from tensorflow.python.keras.engine.sequential) is deprecated and will be removed after 2021-01-01.\n",
            "Instructions for updating:\n",
            "Please use `model.predict()` instead.\n"
          ],
          "name": "stdout"
        },
        {
          "output_type": "execute_result",
          "data": {
            "text/plain": [
              "array([[0.18944457],\n",
              "       [0.7461901 ],\n",
              "       [0.14634588],\n",
              "       [0.5075339 ],\n",
              "       [0.9671933 ]], dtype=float32)"
            ]
          },
          "metadata": {
            "tags": []
          },
          "execution_count": 83
        }
      ]
    },
    {
      "cell_type": "code",
      "metadata": {
        "id": "kCXaNmw3jvjX",
        "outputId": "df37d552-d36a-4899-fd41-a38ed3c885e9",
        "colab": {
          "base_uri": "https://localhost:8080/",
          "height": 171
        }
      },
      "source": [
        "model.predict_classes(test_data)"
      ],
      "execution_count": 84,
      "outputs": [
        {
          "output_type": "stream",
          "text": [
            "WARNING:tensorflow:From <ipython-input-84-873120e67cf4>:1: Sequential.predict_classes (from tensorflow.python.keras.engine.sequential) is deprecated and will be removed after 2021-01-01.\n",
            "Instructions for updating:\n",
            "Please use instead:* `np.argmax(model.predict(x), axis=-1)`,   if your model does multi-class classification   (e.g. if it uses a `softmax` last-layer activation).* `(model.predict(x) > 0.5).astype(\"int32\")`,   if your model does binary classification   (e.g. if it uses a `sigmoid` last-layer activation).\n"
          ],
          "name": "stdout"
        },
        {
          "output_type": "execute_result",
          "data": {
            "text/plain": [
              "array([[0],\n",
              "       [1],\n",
              "       [0],\n",
              "       [1],\n",
              "       [1]], dtype=int32)"
            ]
          },
          "metadata": {
            "tags": []
          },
          "execution_count": 84
        }
      ]
    },
    {
      "cell_type": "markdown",
      "metadata": {
        "id": "8i8IFSOmlfEv"
      },
      "source": [
        "Przykład - klasyfikacja wieloklasowa\n"
      ]
    },
    {
      "cell_type": "code",
      "metadata": {
        "id": "eTjYn8Z9j0E0"
      },
      "source": [
        "data = np.random.randn(1000, 150)\n",
        "labels = np.random.randint(4, size = (1000, 1))"
      ],
      "execution_count": 87,
      "outputs": []
    },
    {
      "cell_type": "code",
      "metadata": {
        "id": "eWhCdkOelrQb",
        "outputId": "1cbc7716-04cd-4cc0-8ee5-4bc950dab01b",
        "colab": {
          "base_uri": "https://localhost:8080/",
          "height": 50
        }
      },
      "source": [
        "print(data.shape)\n",
        "print(labels.shape)"
      ],
      "execution_count": 88,
      "outputs": [
        {
          "output_type": "stream",
          "text": [
            "(1000, 150)\n",
            "(1000, 1)\n"
          ],
          "name": "stdout"
        }
      ]
    },
    {
      "cell_type": "code",
      "metadata": {
        "id": "-wPQ-SDLl3EU",
        "outputId": "381edef6-0eea-4624-9623-21b8e23ff3e5",
        "colab": {
          "base_uri": "https://localhost:8080/",
          "height": 134
        }
      },
      "source": [
        "from tensorflow.keras.utils import to_categorical\n",
        "labels = to_categorical(labels, num_classes = 10)\n",
        "labels"
      ],
      "execution_count": 89,
      "outputs": [
        {
          "output_type": "execute_result",
          "data": {
            "text/plain": [
              "array([[0., 0., 1., ..., 0., 0., 0.],\n",
              "       [0., 1., 0., ..., 0., 0., 0.],\n",
              "       [0., 0., 1., ..., 0., 0., 0.],\n",
              "       ...,\n",
              "       [0., 0., 1., ..., 0., 0., 0.],\n",
              "       [1., 0., 0., ..., 0., 0., 0.],\n",
              "       [0., 1., 0., ..., 0., 0., 0.]], dtype=float32)"
            ]
          },
          "metadata": {
            "tags": []
          },
          "execution_count": 89
        }
      ]
    },
    {
      "cell_type": "code",
      "metadata": {
        "id": "JH-UEPhYmLTT",
        "outputId": "fcfd935c-9b21-4853-e720-aed1cbcdbeb5",
        "colab": {
          "base_uri": "https://localhost:8080/",
          "height": 34
        }
      },
      "source": [
        "labels[1]"
      ],
      "execution_count": 90,
      "outputs": [
        {
          "output_type": "execute_result",
          "data": {
            "text/plain": [
              "array([0., 1., 0., 0., 0., 0., 0., 0., 0., 0.], dtype=float32)"
            ]
          },
          "metadata": {
            "tags": []
          },
          "execution_count": 90
        }
      ]
    },
    {
      "cell_type": "code",
      "metadata": {
        "id": "BnxOG0gCmPx9",
        "outputId": "06bcfff2-203a-4079-abfc-3ec062c523f3",
        "colab": {
          "base_uri": "https://localhost:8080/",
          "height": 34
        }
      },
      "source": [
        "model = Sequential()\n",
        "model.add(Dense(units = 32, activation = 'relu', input_shape = (150,)))\n",
        "model.add(Dense(units = 10, activation = 'softmax'))\n",
        "\n",
        "model.compile(optimizer = 'rmsprop',\n",
        "              loss = 'categorical_crossentropy',\n",
        "              metrics = ['accuracy'])\n",
        "model.fit(data, labels, batch_size = 10, epochs = 20, validation_split = 0.2, verbose = 0)"
      ],
      "execution_count": 91,
      "outputs": [
        {
          "output_type": "execute_result",
          "data": {
            "text/plain": [
              "<tensorflow.python.keras.callbacks.History at 0x7f2fe292dbe0>"
            ]
          },
          "metadata": {
            "tags": []
          },
          "execution_count": 91
        }
      ]
    },
    {
      "cell_type": "code",
      "metadata": {
        "id": "ujY8bv2tmx7P"
      },
      "source": [
        "test_data = np.random.randn(10, 150)"
      ],
      "execution_count": 99,
      "outputs": []
    },
    {
      "cell_type": "code",
      "metadata": {
        "id": "hzKvW_dIm5s6",
        "outputId": "825d1036-71fe-404f-86c1-e491cad20f81",
        "colab": {
          "base_uri": "https://localhost:8080/",
          "height": 521
        }
      },
      "source": [
        "model.predict(test_data)"
      ],
      "execution_count": 100,
      "outputs": [
        {
          "output_type": "execute_result",
          "data": {
            "text/plain": [
              "array([[8.6757565e-01, 5.9627998e-03, 5.6954313e-02, 6.9507264e-02,\n",
              "        6.8744027e-10, 4.6116718e-11, 1.9020918e-09, 2.6031990e-10,\n",
              "        1.5137084e-09, 8.7376767e-10],\n",
              "       [1.1012409e-01, 4.2888102e-01, 5.5033524e-02, 4.0595841e-01,\n",
              "        1.7042859e-07, 9.1336666e-08, 1.4993611e-07, 1.8816446e-07,\n",
              "        2.6969718e-07, 2.0606437e-06],\n",
              "       [6.0466290e-02, 5.6938224e-02, 1.5889113e-01, 7.2370434e-01,\n",
              "        1.8190383e-08, 2.8595160e-09, 3.0467906e-09, 5.5667053e-09,\n",
              "        4.4556452e-09, 1.6202762e-08],\n",
              "       [3.0904990e-01, 1.2562370e-01, 5.6091386e-01, 4.4124946e-03,\n",
              "        3.1648708e-09, 1.2995591e-09, 9.9092923e-10, 1.2961405e-09,\n",
              "        2.8018338e-10, 4.0991072e-10],\n",
              "       [3.8229746e-01, 2.9906061e-01, 2.9200235e-01, 2.6639482e-02,\n",
              "        1.5863325e-08, 2.2454534e-08, 3.1312513e-08, 2.0942107e-08,\n",
              "        2.6990896e-09, 2.2593341e-08],\n",
              "       [1.1950890e-02, 2.7229941e-01, 1.4711502e-01, 5.6863469e-01,\n",
              "        4.5239142e-11, 1.3920975e-11, 1.4105968e-10, 2.0848294e-11,\n",
              "        1.4078685e-10, 1.6669712e-11],\n",
              "       [2.8568679e-03, 2.5490638e-02, 1.8177289e-01, 7.8987968e-01,\n",
              "        1.3907647e-09, 9.4827937e-11, 5.4555297e-12, 1.0362891e-11,\n",
              "        2.9503285e-11, 8.2248992e-11],\n",
              "       [6.9193232e-01, 3.9953455e-02, 1.8593079e-01, 8.2180806e-02,\n",
              "        3.3764434e-07, 2.4653270e-08, 1.0153775e-06, 3.5830773e-08,\n",
              "        1.1427099e-06, 5.5134116e-08],\n",
              "       [6.5123880e-01, 1.7461880e-01, 6.9410005e-03, 1.6720144e-01,\n",
              "        1.4145830e-10, 1.4087932e-11, 2.7411715e-10, 1.6445506e-11,\n",
              "        8.5728336e-10, 8.6582630e-11],\n",
              "       [3.8701411e-02, 4.8835149e-01, 3.0589420e-01, 1.6705140e-01,\n",
              "        1.9560592e-07, 2.8084733e-08, 1.6105808e-07, 8.1397332e-08,\n",
              "        1.6188487e-07, 9.2175685e-07]], dtype=float32)"
            ]
          },
          "metadata": {
            "tags": []
          },
          "execution_count": 100
        }
      ]
    },
    {
      "cell_type": "code",
      "metadata": {
        "id": "i9OS5PcEm9ri",
        "outputId": "2d72ee12-0b56-4b04-e9d5-d5b2cfc121af",
        "colab": {
          "base_uri": "https://localhost:8080/",
          "height": 521
        }
      },
      "source": [
        "model.predict_proba(test_data)"
      ],
      "execution_count": 101,
      "outputs": [
        {
          "output_type": "execute_result",
          "data": {
            "text/plain": [
              "array([[8.6757565e-01, 5.9627998e-03, 5.6954313e-02, 6.9507264e-02,\n",
              "        6.8744027e-10, 4.6116718e-11, 1.9020918e-09, 2.6031990e-10,\n",
              "        1.5137084e-09, 8.7376767e-10],\n",
              "       [1.1012409e-01, 4.2888102e-01, 5.5033524e-02, 4.0595841e-01,\n",
              "        1.7042859e-07, 9.1336666e-08, 1.4993611e-07, 1.8816446e-07,\n",
              "        2.6969718e-07, 2.0606437e-06],\n",
              "       [6.0466290e-02, 5.6938224e-02, 1.5889113e-01, 7.2370434e-01,\n",
              "        1.8190383e-08, 2.8595160e-09, 3.0467906e-09, 5.5667053e-09,\n",
              "        4.4556452e-09, 1.6202762e-08],\n",
              "       [3.0904990e-01, 1.2562370e-01, 5.6091386e-01, 4.4124946e-03,\n",
              "        3.1648708e-09, 1.2995591e-09, 9.9092923e-10, 1.2961405e-09,\n",
              "        2.8018338e-10, 4.0991072e-10],\n",
              "       [3.8229746e-01, 2.9906061e-01, 2.9200235e-01, 2.6639482e-02,\n",
              "        1.5863325e-08, 2.2454534e-08, 3.1312513e-08, 2.0942107e-08,\n",
              "        2.6990896e-09, 2.2593341e-08],\n",
              "       [1.1950890e-02, 2.7229941e-01, 1.4711502e-01, 5.6863469e-01,\n",
              "        4.5239142e-11, 1.3920975e-11, 1.4105968e-10, 2.0848294e-11,\n",
              "        1.4078685e-10, 1.6669712e-11],\n",
              "       [2.8568679e-03, 2.5490638e-02, 1.8177289e-01, 7.8987968e-01,\n",
              "        1.3907647e-09, 9.4827937e-11, 5.4555297e-12, 1.0362891e-11,\n",
              "        2.9503285e-11, 8.2248992e-11],\n",
              "       [6.9193232e-01, 3.9953455e-02, 1.8593079e-01, 8.2180806e-02,\n",
              "        3.3764434e-07, 2.4653270e-08, 1.0153775e-06, 3.5830773e-08,\n",
              "        1.1427099e-06, 5.5134116e-08],\n",
              "       [6.5123880e-01, 1.7461880e-01, 6.9410005e-03, 1.6720144e-01,\n",
              "        1.4145830e-10, 1.4087932e-11, 2.7411715e-10, 1.6445506e-11,\n",
              "        8.5728336e-10, 8.6582630e-11],\n",
              "       [3.8701411e-02, 4.8835149e-01, 3.0589420e-01, 1.6705140e-01,\n",
              "        1.9560592e-07, 2.8084733e-08, 1.6105808e-07, 8.1397332e-08,\n",
              "        1.6188487e-07, 9.2175685e-07]], dtype=float32)"
            ]
          },
          "metadata": {
            "tags": []
          },
          "execution_count": 101
        }
      ]
    },
    {
      "cell_type": "code",
      "metadata": {
        "id": "VYnZZyUGnR4O",
        "outputId": "b54cbe91-a090-4ab7-edc2-a2eee24b32dd",
        "colab": {
          "base_uri": "https://localhost:8080/",
          "height": 34
        }
      },
      "source": [
        "model.predict_classes(test_data)"
      ],
      "execution_count": 102,
      "outputs": [
        {
          "output_type": "execute_result",
          "data": {
            "text/plain": [
              "array([0, 1, 3, 2, 0, 3, 3, 0, 0, 1])"
            ]
          },
          "metadata": {
            "tags": []
          },
          "execution_count": 102
        }
      ]
    },
    {
      "cell_type": "markdown",
      "metadata": {
        "id": "TEmj3lXxsphN"
      },
      "source": [
        "### Przykład regresja"
      ]
    },
    {
      "cell_type": "code",
      "metadata": {
        "id": "BjX-oqbNnZuB"
      },
      "source": [
        "data = np.random.random((1000, 150))\n",
        "labels = 50 * np.random.random(1000)"
      ],
      "execution_count": 103,
      "outputs": []
    },
    {
      "cell_type": "code",
      "metadata": {
        "id": "0P56S64gsrKt",
        "outputId": "82b60d2d-bbba-412c-9fcd-b3d51b538c1e",
        "colab": {
          "base_uri": "https://localhost:8080/",
          "height": 1000
        }
      },
      "source": [
        "data[:3]"
      ],
      "execution_count": 104,
      "outputs": [
        {
          "output_type": "execute_result",
          "data": {
            "text/plain": [
              "array([[0.65307335, 0.00619162, 0.90726794, 0.91947951, 0.43437353,\n",
              "        0.78809903, 0.77540707, 0.4475071 , 0.65012962, 0.70399201,\n",
              "        0.14385485, 0.45231397, 0.16135991, 0.76353907, 0.93498643,\n",
              "        0.05930006, 0.80471512, 0.03730724, 0.06357292, 0.72684036,\n",
              "        0.55190076, 0.39529675, 0.37972089, 0.5788766 , 0.39625379,\n",
              "        0.8899904 , 0.30028327, 0.94902106, 0.9966471 , 0.94756656,\n",
              "        0.37764663, 0.22811407, 0.37586539, 0.40109651, 0.07482254,\n",
              "        0.99364927, 0.18368454, 0.34630815, 0.91051064, 0.43168913,\n",
              "        0.25708079, 0.04642848, 0.76176993, 0.58820019, 0.23096597,\n",
              "        0.87773583, 0.37136277, 0.37548447, 0.70464562, 0.19758536,\n",
              "        0.82292542, 0.29361754, 0.61992975, 0.62001066, 0.42409979,\n",
              "        0.54098644, 0.02608381, 0.22277813, 0.17742248, 0.17168954,\n",
              "        0.87511136, 0.63817395, 0.64594774, 0.61812149, 0.86943823,\n",
              "        0.72850398, 0.61852105, 0.27501744, 0.92498936, 0.63151019,\n",
              "        0.9844028 , 0.90899412, 0.70063336, 0.46727526, 0.60145108,\n",
              "        0.72976013, 0.33403679, 0.59369307, 0.52510002, 0.29398363,\n",
              "        0.21511567, 0.88614128, 0.93534083, 0.51859357, 0.10432231,\n",
              "        0.39416642, 0.67991602, 0.35337561, 0.00477628, 0.75977123,\n",
              "        0.32975537, 0.28985185, 0.89773257, 0.20720985, 0.53492796,\n",
              "        0.00113618, 0.74271247, 0.54691738, 0.1395866 , 0.86780152,\n",
              "        0.14613332, 0.66058119, 0.53032699, 0.72106205, 0.55447715,\n",
              "        0.84449889, 0.51848256, 0.83578261, 0.64760185, 0.90159153,\n",
              "        0.22062962, 0.81442262, 0.3854047 , 0.36768935, 0.73580664,\n",
              "        0.98009692, 0.32302902, 0.74177954, 0.92055403, 0.27595948,\n",
              "        0.85471135, 0.88633938, 0.2910648 , 0.35927586, 0.55820594,\n",
              "        0.09118822, 0.38950809, 0.29252047, 0.18119186, 0.35686594,\n",
              "        0.03215549, 0.66668448, 0.55563573, 0.84155185, 0.81170683,\n",
              "        0.15818417, 0.55300227, 0.17394708, 0.49752625, 0.73440334,\n",
              "        0.87097182, 0.83155868, 0.07776641, 0.30902391, 0.55349735,\n",
              "        0.34190842, 0.38276563, 0.69997909, 0.90902238, 0.77986258],\n",
              "       [0.03996769, 0.69261675, 0.53425882, 0.61069793, 0.54587346,\n",
              "        0.8639719 , 0.45765019, 0.88839647, 0.21704984, 0.86477175,\n",
              "        0.73192329, 0.21940292, 0.30161387, 0.66855303, 0.22802709,\n",
              "        0.99434056, 0.71892359, 0.82853313, 0.85845994, 0.4542246 ,\n",
              "        0.54583048, 0.05158696, 0.85621723, 0.01805863, 0.47263446,\n",
              "        0.45797329, 0.25807437, 0.0710931 , 0.17160589, 0.16786805,\n",
              "        0.46476912, 0.89431239, 0.31063512, 0.08978973, 0.83552056,\n",
              "        0.41069054, 0.72995493, 0.45731891, 0.80490138, 0.27358233,\n",
              "        0.59696   , 0.22825085, 0.44956158, 0.59304694, 0.93043359,\n",
              "        0.91251241, 0.65609036, 0.69993581, 0.54631511, 0.4011992 ,\n",
              "        0.21742925, 0.64516276, 0.83011604, 0.64111298, 0.37477028,\n",
              "        0.64783756, 0.95048955, 0.08778397, 0.58459232, 0.47850587,\n",
              "        0.62307189, 0.87921371, 0.71326114, 0.16058224, 0.19413698,\n",
              "        0.17521567, 0.10734337, 0.7513389 , 0.9540419 , 0.26514762,\n",
              "        0.47155416, 0.53016036, 0.74607261, 0.93785181, 0.7204953 ,\n",
              "        0.14576928, 0.86123593, 0.90036128, 0.06277294, 0.86254899,\n",
              "        0.64049362, 0.2675144 , 0.06580347, 0.45296066, 0.09024596,\n",
              "        0.46405625, 0.75083408, 0.5982505 , 0.13424335, 0.16968639,\n",
              "        0.85371845, 0.14575322, 0.13667766, 0.31304336, 0.32671231,\n",
              "        0.41462852, 0.10594508, 0.91279538, 0.04143168, 0.8763079 ,\n",
              "        0.87018632, 0.66616842, 0.57865143, 0.99413881, 0.62346086,\n",
              "        0.82527095, 0.86269552, 0.9472137 , 0.51888847, 0.48690082,\n",
              "        0.67122141, 0.68748019, 0.43579438, 0.87913544, 0.10506916,\n",
              "        0.85033639, 0.73118466, 0.63490813, 0.584035  , 0.04776046,\n",
              "        0.69774466, 0.94837327, 0.90460241, 0.6131874 , 0.37319549,\n",
              "        0.30204152, 0.59503601, 0.9713239 , 0.31492547, 0.59415567,\n",
              "        0.33832689, 0.14269208, 0.82642691, 0.66452076, 0.5832607 ,\n",
              "        0.83604093, 0.07615396, 0.93412458, 0.77533323, 0.99858285,\n",
              "        0.26048757, 0.13458371, 0.43686327, 0.18844839, 0.37416634,\n",
              "        0.66969659, 0.82060355, 0.35180534, 0.63197572, 0.83867278],\n",
              "       [0.9600564 , 0.13891911, 0.13732102, 0.38713462, 0.54057928,\n",
              "        0.10199297, 0.74993995, 0.3312163 , 0.23098387, 0.23626435,\n",
              "        0.69240614, 0.58866832, 0.02799299, 0.85554017, 0.14923046,\n",
              "        0.62615149, 0.04104975, 0.26600636, 0.01317825, 0.62290005,\n",
              "        0.1112167 , 0.04799599, 0.99644693, 0.18400061, 0.48183229,\n",
              "        0.23488515, 0.88403351, 0.76533851, 0.65382043, 0.37479096,\n",
              "        0.45172603, 0.70057731, 0.9053678 , 0.25797884, 0.94601061,\n",
              "        0.77954229, 0.85628584, 0.92206561, 0.37728934, 0.29901948,\n",
              "        0.60643854, 0.78697533, 0.22353634, 0.90278994, 0.69048735,\n",
              "        0.40511704, 0.96806138, 0.93036562, 0.51950968, 0.34704498,\n",
              "        0.51781635, 0.24050981, 0.01696301, 0.93128909, 0.29378052,\n",
              "        0.90691598, 0.39839531, 0.10087476, 0.16493133, 0.65678895,\n",
              "        0.002988  , 0.28849066, 0.96747007, 0.03185875, 0.33495959,\n",
              "        0.9113942 , 0.41485891, 0.02602665, 0.74932764, 0.60749898,\n",
              "        0.17820111, 0.63006055, 0.33497599, 0.66347097, 0.00340487,\n",
              "        0.80932403, 0.44741272, 0.36149757, 0.10234066, 0.67279804,\n",
              "        0.13593773, 0.0929102 , 0.62240769, 0.68971931, 0.91495072,\n",
              "        0.02020463, 0.34529697, 0.96918116, 0.78003891, 0.93425621,\n",
              "        0.21016585, 0.38361773, 0.90449135, 0.68237189, 0.45717121,\n",
              "        0.87734877, 0.33040479, 0.74648257, 0.89980159, 0.63714801,\n",
              "        0.36108033, 0.43029939, 0.40101294, 0.11827572, 0.30576605,\n",
              "        0.36420636, 0.23378248, 0.93383138, 0.97266879, 0.93543741,\n",
              "        0.4963112 , 0.66355615, 0.36110607, 0.27740016, 0.97534927,\n",
              "        0.51459455, 0.36027472, 0.70816814, 0.10476508, 0.35885996,\n",
              "        0.91842871, 0.9706837 , 0.7059569 , 0.73806134, 0.37338545,\n",
              "        0.44718604, 0.87376835, 0.79641933, 0.17926815, 0.54159897,\n",
              "        0.5523009 , 0.53007033, 0.62111887, 0.08183839, 0.56387912,\n",
              "        0.46520296, 0.1966335 , 0.08240859, 0.69614392, 0.46902573,\n",
              "        0.86620395, 0.0753256 , 0.28224927, 0.25819632, 0.69772782,\n",
              "        0.0027677 , 0.65625739, 0.11454309, 0.80409704, 0.63335194]])"
            ]
          },
          "metadata": {
            "tags": []
          },
          "execution_count": 104
        }
      ]
    },
    {
      "cell_type": "code",
      "metadata": {
        "id": "Y1UcSwPvssU8",
        "outputId": "f37f5c89-1436-4377-b961-9227407e7fa1",
        "colab": {
          "base_uri": "https://localhost:8080/",
          "height": 50
        }
      },
      "source": [
        "labels[:10]"
      ],
      "execution_count": 105,
      "outputs": [
        {
          "output_type": "execute_result",
          "data": {
            "text/plain": [
              "array([22.71765889, 37.13194384, 15.70741453, 20.16919482, 25.91263586,\n",
              "       15.55965258, 19.90028628, 45.07096864, 35.22246752, 29.27042079])"
            ]
          },
          "metadata": {
            "tags": []
          },
          "execution_count": 105
        }
      ]
    },
    {
      "cell_type": "code",
      "metadata": {
        "id": "_eMMM1XxsuvU",
        "outputId": "b08e9d3f-d057-4568-a73b-2195e5506e4b",
        "colab": {
          "base_uri": "https://localhost:8080/",
          "height": 218
        }
      },
      "source": [
        "model = Sequential()\n",
        "model.add(Dense(units = 32, activation='relu', input_shape = (150,)))\n",
        "model.add(Dense(1))\n",
        "model.compile(optimizer = 'rmsprop',\n",
        "              loss = 'mse')\n",
        "model.summary()"
      ],
      "execution_count": 106,
      "outputs": [
        {
          "output_type": "stream",
          "text": [
            "Model: \"sequential_16\"\n",
            "_________________________________________________________________\n",
            "Layer (type)                 Output Shape              Param #   \n",
            "=================================================================\n",
            "dense_31 (Dense)             (None, 32)                4832      \n",
            "_________________________________________________________________\n",
            "dense_32 (Dense)             (None, 1)                 33        \n",
            "=================================================================\n",
            "Total params: 4,865\n",
            "Trainable params: 4,865\n",
            "Non-trainable params: 0\n",
            "_________________________________________________________________\n"
          ],
          "name": "stdout"
        }
      ]
    },
    {
      "cell_type": "code",
      "metadata": {
        "id": "ufCrlkavtKAb",
        "outputId": "f84c11ab-89fb-477b-d7cb-2cbd3a03dca1",
        "colab": {
          "base_uri": "https://localhost:8080/",
          "height": 370
        }
      },
      "source": [
        "model.fit(data, labels, epochs = 10, batch_size=20, validation_split = 0.2)"
      ],
      "execution_count": 108,
      "outputs": [
        {
          "output_type": "stream",
          "text": [
            "Epoch 1/10\n",
            "40/40 [==============================] - 0s 3ms/step - loss: 294.4285 - val_loss: 227.4595\n",
            "Epoch 2/10\n",
            "40/40 [==============================] - 0s 2ms/step - loss: 209.9484 - val_loss: 225.0438\n",
            "Epoch 3/10\n",
            "40/40 [==============================] - 0s 2ms/step - loss: 206.0488 - val_loss: 224.8127\n",
            "Epoch 4/10\n",
            "40/40 [==============================] - 0s 2ms/step - loss: 205.8430 - val_loss: 226.9427\n",
            "Epoch 5/10\n",
            "40/40 [==============================] - 0s 2ms/step - loss: 205.0695 - val_loss: 225.9890\n",
            "Epoch 6/10\n",
            "40/40 [==============================] - 0s 2ms/step - loss: 204.4277 - val_loss: 226.6593\n",
            "Epoch 7/10\n",
            "40/40 [==============================] - 0s 2ms/step - loss: 203.6791 - val_loss: 224.7771\n",
            "Epoch 8/10\n",
            "40/40 [==============================] - 0s 2ms/step - loss: 203.3537 - val_loss: 225.2492\n",
            "Epoch 9/10\n",
            "40/40 [==============================] - 0s 2ms/step - loss: 202.7698 - val_loss: 227.4765\n",
            "Epoch 10/10\n",
            "40/40 [==============================] - 0s 2ms/step - loss: 201.8002 - val_loss: 229.2693\n"
          ],
          "name": "stdout"
        },
        {
          "output_type": "execute_result",
          "data": {
            "text/plain": [
              "<tensorflow.python.keras.callbacks.History at 0x7f2fd091ad68>"
            ]
          },
          "metadata": {
            "tags": []
          },
          "execution_count": 108
        }
      ]
    },
    {
      "cell_type": "code",
      "metadata": {
        "id": "KopDe7FhtNZc"
      },
      "source": [
        "model = Sequential()\n",
        "model.add(Dense(units = 32, activation = 'relu', input_shape = (150,)))\n",
        "model.add(Dense(1))\n",
        "\n",
        "model.compile(optimizer = 'rmsprop',\n",
        "              loss = 'mae',\n",
        "              metrics = ['mse'])\n"
      ],
      "execution_count": 109,
      "outputs": []
    },
    {
      "cell_type": "code",
      "metadata": {
        "id": "plndwLrEAxhy",
        "outputId": "fa57d2a0-801f-457e-9b75-1371c4d5a206",
        "colab": {
          "base_uri": "https://localhost:8080/",
          "height": 1000
        }
      },
      "source": [
        "model.fit(data, labels, batch_size=32, epochs = 30, validation_split=0.2)"
      ],
      "execution_count": 110,
      "outputs": [
        {
          "output_type": "stream",
          "text": [
            "Epoch 1/30\n",
            "25/25 [==============================] - 0s 5ms/step - loss: 20.5102 - mse: 597.4637 - val_loss: 16.0214 - val_mse: 396.7888\n",
            "Epoch 2/30\n",
            "25/25 [==============================] - 0s 2ms/step - loss: 15.2120 - mse: 335.6826 - val_loss: 13.5265 - val_mse: 251.8274\n",
            "Epoch 3/30\n",
            "25/25 [==============================] - 0s 2ms/step - loss: 12.9491 - mse: 227.2946 - val_loss: 13.1324 - val_mse: 223.2014\n",
            "Epoch 4/30\n",
            "25/25 [==============================] - 0s 2ms/step - loss: 12.4851 - mse: 206.4596 - val_loss: 13.3954 - val_mse: 230.3079\n",
            "Epoch 5/30\n",
            "25/25 [==============================] - 0s 2ms/step - loss: 12.4562 - mse: 206.5361 - val_loss: 13.3416 - val_mse: 228.4840\n",
            "Epoch 6/30\n",
            "25/25 [==============================] - 0s 2ms/step - loss: 12.4312 - mse: 206.3924 - val_loss: 13.5505 - val_mse: 236.4268\n",
            "Epoch 7/30\n",
            "25/25 [==============================] - 0s 2ms/step - loss: 12.3934 - mse: 207.5827 - val_loss: 13.2800 - val_mse: 226.3601\n",
            "Epoch 8/30\n",
            "25/25 [==============================] - 0s 2ms/step - loss: 12.3994 - mse: 204.9156 - val_loss: 13.3146 - val_mse: 227.3248\n",
            "Epoch 9/30\n",
            "25/25 [==============================] - 0s 2ms/step - loss: 12.3715 - mse: 203.4488 - val_loss: 13.5084 - val_mse: 234.1436\n",
            "Epoch 10/30\n",
            "25/25 [==============================] - 0s 2ms/step - loss: 12.3093 - mse: 204.2029 - val_loss: 13.2362 - val_mse: 225.2610\n",
            "Epoch 11/30\n",
            "25/25 [==============================] - 0s 2ms/step - loss: 12.3296 - mse: 203.3546 - val_loss: 13.4876 - val_mse: 233.1882\n",
            "Epoch 12/30\n",
            "25/25 [==============================] - 0s 2ms/step - loss: 12.3163 - mse: 203.3015 - val_loss: 13.4074 - val_mse: 229.9842\n",
            "Epoch 13/30\n",
            "25/25 [==============================] - 0s 2ms/step - loss: 12.2897 - mse: 202.2748 - val_loss: 13.4624 - val_mse: 231.8547\n",
            "Epoch 14/30\n",
            "25/25 [==============================] - 0s 2ms/step - loss: 12.2790 - mse: 202.5996 - val_loss: 13.4694 - val_mse: 232.0557\n",
            "Epoch 15/30\n",
            "25/25 [==============================] - 0s 2ms/step - loss: 12.2371 - mse: 201.2636 - val_loss: 13.5163 - val_mse: 233.8211\n",
            "Epoch 16/30\n",
            "25/25 [==============================] - 0s 2ms/step - loss: 12.2212 - mse: 200.7707 - val_loss: 13.5152 - val_mse: 233.7271\n",
            "Epoch 17/30\n",
            "25/25 [==============================] - 0s 2ms/step - loss: 12.1923 - mse: 200.7141 - val_loss: 13.4079 - val_mse: 229.8597\n",
            "Epoch 18/30\n",
            "25/25 [==============================] - 0s 2ms/step - loss: 12.1582 - mse: 199.6675 - val_loss: 13.6320 - val_mse: 238.7052\n",
            "Epoch 19/30\n",
            "25/25 [==============================] - 0s 2ms/step - loss: 12.1425 - mse: 200.1863 - val_loss: 13.5135 - val_mse: 233.2014\n",
            "Epoch 20/30\n",
            "25/25 [==============================] - 0s 2ms/step - loss: 12.1344 - mse: 197.9879 - val_loss: 13.4486 - val_mse: 230.9990\n",
            "Epoch 21/30\n",
            "25/25 [==============================] - 0s 2ms/step - loss: 12.1023 - mse: 197.9864 - val_loss: 13.6028 - val_mse: 236.7921\n",
            "Epoch 22/30\n",
            "25/25 [==============================] - 0s 2ms/step - loss: 12.0754 - mse: 198.0679 - val_loss: 13.3925 - val_mse: 229.7159\n",
            "Epoch 23/30\n",
            "25/25 [==============================] - 0s 2ms/step - loss: 12.0777 - mse: 198.2700 - val_loss: 13.4550 - val_mse: 231.2885\n",
            "Epoch 24/30\n",
            "25/25 [==============================] - 0s 2ms/step - loss: 12.0394 - mse: 196.8205 - val_loss: 13.5357 - val_mse: 233.8522\n",
            "Epoch 25/30\n",
            "25/25 [==============================] - 0s 2ms/step - loss: 12.0113 - mse: 196.5786 - val_loss: 13.4979 - val_mse: 232.6369\n",
            "Epoch 26/30\n",
            "25/25 [==============================] - 0s 2ms/step - loss: 11.9972 - mse: 195.4978 - val_loss: 13.6328 - val_mse: 237.5144\n",
            "Epoch 27/30\n",
            "25/25 [==============================] - 0s 2ms/step - loss: 11.9799 - mse: 195.4637 - val_loss: 13.5923 - val_mse: 235.8231\n",
            "Epoch 28/30\n",
            "25/25 [==============================] - 0s 2ms/step - loss: 11.9432 - mse: 194.6117 - val_loss: 13.6203 - val_mse: 236.8542\n",
            "Epoch 29/30\n",
            "25/25 [==============================] - 0s 2ms/step - loss: 11.9415 - mse: 194.8898 - val_loss: 13.6095 - val_mse: 236.4211\n",
            "Epoch 30/30\n",
            "25/25 [==============================] - 0s 2ms/step - loss: 11.8947 - mse: 194.2953 - val_loss: 13.4812 - val_mse: 232.6823\n"
          ],
          "name": "stdout"
        },
        {
          "output_type": "execute_result",
          "data": {
            "text/plain": [
              "<tensorflow.python.keras.callbacks.History at 0x7f2fd00cfef0>"
            ]
          },
          "metadata": {
            "tags": []
          },
          "execution_count": 110
        }
      ]
    },
    {
      "cell_type": "code",
      "metadata": {
        "id": "MrFUaAW5A7LW",
        "outputId": "ed0dec21-d531-4982-bedc-e9d61935f4e2",
        "colab": {
          "base_uri": "https://localhost:8080/",
          "height": 185
        }
      },
      "source": [
        "test_data = np.random.random((10, 150))\n",
        "\n",
        "model.predict(test_data)"
      ],
      "execution_count": 111,
      "outputs": [
        {
          "output_type": "execute_result",
          "data": {
            "text/plain": [
              "array([[25.28812 ],\n",
              "       [21.796162],\n",
              "       [23.770124],\n",
              "       [25.508307],\n",
              "       [25.580063],\n",
              "       [27.070723],\n",
              "       [26.153406],\n",
              "       [26.436975],\n",
              "       [24.3725  ],\n",
              "       [25.03829 ]], dtype=float32)"
            ]
          },
          "metadata": {
            "tags": []
          },
          "execution_count": 111
        }
      ]
    },
    {
      "cell_type": "code",
      "metadata": {
        "id": "J416ZZjpA-7Z"
      },
      "source": [
        ""
      ],
      "execution_count": null,
      "outputs": []
    }
  ]
}